{
 "cells": [
  {
   "cell_type": "code",
   "execution_count": 1,
   "id": "5c3efcfc-6112-4c44-87fc-c6ddcb0d5659",
   "metadata": {},
   "outputs": [],
   "source": [
    "# import\n",
    "from alpha_vantage.timeseries import TimeSeries\n",
    "from alpha_vantage.techindicators import TechIndicators\n",
    "import matplotlib.pyplot as plt\n",
    "import pandas as pd\n",
    "import os\n",
    "import numpy as np\n",
    "from scipy import stats\n",
    "from scipy.stats import chi2_contingency"
   ]
  },
  {
   "cell_type": "code",
   "execution_count": 2,
   "id": "1c8cac19-e864-401d-9d31-21c5198ffa05",
   "metadata": {},
   "outputs": [],
   "source": [
    "# Read API\n",
    "API_KEY = ''\n",
    "\n",
    "with open('ALPHAVANTAGE_API_KEY') as f:\n",
    "    API_KEY = f.read()"
   ]
  },
  {
   "cell_type": "code",
   "execution_count": 3,
   "id": "ab0a2433-fde0-4a5e-bf6e-6e12d49ab9d0",
   "metadata": {},
   "outputs": [],
   "source": [
    "ts = TimeSeries(API_KEY, output_format='pandas', indexing_type='integer') \n",
    "ti = TechIndicators(key=API_KEY, output_format='pandas')"
   ]
  },
  {
   "cell_type": "code",
   "execution_count": 4,
   "id": "73871e18-d859-423e-9fce-e4151c0dd0ec",
   "metadata": {},
   "outputs": [],
   "source": [
    "def getDailyData(ticker):\n",
    "    priceData, metaData = ts.get_daily(ticker, outputsize='full')\n",
    "    return priceData, metaData"
   ]
  },
  {
   "cell_type": "code",
   "execution_count": 11,
   "id": "f219c0eb-c20a-4d83-8cb0-be7a6b2fb137",
   "metadata": {},
   "outputs": [],
   "source": [
    "# Saver the data in parquet form for speed and compressed form of data\n",
    "def updateAndSave(new_data, dm):\n",
    "    filePath = './data'\n",
    "    fileName = dm['2. Symbol'] + \".csv\"\n",
    "    full_path = os.path.join(filePath, fileName)\n",
    "    \n",
    "    # Check if the parquet file exists\n",
    "    if os.path.exists(full_path):\n",
    "        # Read the existing parquet file\n",
    "        existing_data = pd.read_csv(full_path)\n",
    "        \n",
    "        # Find rows that are not in the existing data\n",
    "        updated_data = pd.concat([existing_data, new_data]).drop_duplicates(keep=False, ignore_index=True)\n",
    "        \n",
    "        # Combine existing data with unique new rows\n",
    "        final_data = pd.concat([existing_data, updated_data], ignore_index=True)\n",
    "    else:\n",
    "        # If the file does not exist, use the new data as is\n",
    "        updated_data = new_data\n",
    "        \n",
    "    # Save the updated DataFrame back to the parquet file\n",
    "    updated_data.to_csv(full_path, index=False)\n",
    "\n",
    "    "
   ]
  },
  {
   "cell_type": "code",
   "execution_count": 12,
   "id": "263f5925-1633-411b-9e85-fa83f8b3acb7",
   "metadata": {},
   "outputs": [],
   "source": [
    "# Function to calculate sample mean distribution\n",
    "def sample_mean_distribution(population, sample_size=30, num_samples=100000):\n",
    "    sample_means = []\n",
    "    for _ in range(num_samples):\n",
    "        sample = np.random.choice(population, size=sample_size, replace=True)\n",
    "        sample_mean = np.mean(sample)\n",
    "        sample_means.append(sample_mean)\n",
    "    return sample_means\n"
   ]
  },
  {
   "cell_type": "code",
   "execution_count": 14,
   "id": "1010609c-c559-45a5-900d-3b71ad34f45d",
   "metadata": {},
   "outputs": [],
   "source": [
    "# get RSI\n",
    "def getRSI(df, period=5):\n",
    "    df.iloc[::-1]\n",
    "    # Calculate daily price change\n",
    "    df['change'] = df['4. close'].diff(-1)\n",
    "    \n",
    "    # Calculate gains and losses\n",
    "    df['gain'] = df['change'].apply(lambda x: x if x > 0 else 0)\n",
    "    df['loss'] = df['change'].apply(lambda x: -x if x < 0 else 0)\n",
    "\n",
    "    #drop and then reverse order \n",
    "    df.dropna()\n",
    "    df = df[::-1]\n",
    "    \n",
    "    # Calculate average gains and losses\n",
    "    df['avg_gain'] = df['gain'].rolling(window=period, min_periods=1).mean()\n",
    "    df['avg_loss'] = df['loss'].rolling(window=period, min_periods=1).mean()\n",
    "    \n",
    "    # Calculate Relative Strength (RS)\n",
    "    df['rs'] = df['avg_gain'] / (df['avg_loss']+ 0.000001)\n",
    "    \n",
    "    # Calculate RSI\n",
    "    df['rsi'] = 100 - (100 / (1 + df['rs']))\n",
    "\n",
    "    # revert back and then shift\n",
    "    df = df[::-1]\n",
    "    \n",
    "    # we want to use previous day rsi to predict today\n",
    "    df['rsi_prev'] = df['rsi'].shift(-1)\n",
    "\n",
    "    # dropna\n",
    "    df.dropna()\n",
    "    \n",
    "    # Drop intermediate columns\n",
    "    df.drop(columns=['change', 'gain', 'loss', 'avg_gain', 'avg_loss', 'rs'], inplace=True)\n",
    "    return df"
   ]
  },
  {
   "cell_type": "code",
   "execution_count": 59,
   "id": "b7c8c280-a696-401c-98d2-578209c89f77",
   "metadata": {},
   "outputs": [],
   "source": [
    "# preprocess the data\n",
    "def preprocessData(df):\n",
    "    df['day'] = pd.to_datetime(df['index']).dt.day_of_week\n",
    "    df['dateTime'] = pd.to_datetime(df['index'])\n",
    "    df['quarter'] = df['dateTime'].dt.quarter\n",
    "    df['month'] = df['dateTime'].dt.month\n",
    "    df['year'] = df['dateTime'].dt.year\n",
    "    df['dayofyear'] = df['dateTime'].dt.dayofyear\n",
    "    df['dayofmonth'] = df['dateTime'].dt.day\n",
    "    df['weekofyear'] = df['dateTime'].dt.isocalendar().week\n",
    "\n",
    "    df['PnL'] = (df['4. close']-df['1. open'])*100/ df['1. open']\n",
    "    # Create a new column to estimate outside Regular Trading hours\n",
    "    # by subtracting the value in the previous days 'closing price' from the current day's 'opening price'\n",
    "    df['PnL_nonRTH'] = (df['1. open'] - df['4. close'].shift(-1))*100/df['4. close'].shift(-1)\n",
    "    df['momentum'] = df['4. close'] - df['4. close'].shift(-3)\n",
    "\n",
    "    # RSI\n",
    "    df.iloc[::-1]\n",
    "    # Calculate daily price change\n",
    "    df['change'] = df['4. close'].diff(-1)\n",
    "    \n",
    "    # Calculate gains and losses\n",
    "    df['gain'] = df['change'].apply(lambda x: x if x > 0 else 0)\n",
    "    df['loss'] = df['change'].apply(lambda x: -x if x < 0 else 0)\n",
    "\n",
    "    #drop and then reverse order \n",
    "    df.dropna()\n",
    "    df = df[::-1]\n",
    "    period = 5\n",
    "    vol_divider = 1000000\n",
    "    # Calculate average gains and losses\n",
    "    df['avg_gain'] = df['gain'].rolling(window=period, min_periods=1).mean()\n",
    "    df['avg_loss'] = df['loss'].rolling(window=period, min_periods=1).mean()\n",
    "    \n",
    "    # Calculate Relative Strength (RS)\n",
    "    df['rs'] = df['avg_gain'] / (df['avg_loss']+ 0.000001)\n",
    "    \n",
    "    # Calculate RSI\n",
    "    df['rsi'] = 100 - (100 / (1 + df['rs']))\n",
    "\n",
    "    # revert back and then shift\n",
    "    df = df[::-1]\n",
    "    \n",
    "    # we want to use previous day rsi and momentum to predict today\n",
    "    # x = past 3 day's [ rsi, open/close/low/high price, vol, momentum] and todays' opening price\n",
    "    # y = today's [low and high prices]\n",
    "    df['rsi_p1'] = df['rsi'].shift(-1)\n",
    "    df['rsi_p2'] = df['rsi'].shift(-2)\n",
    "    df['rsi_p3'] = df['rsi'].shift(-3)\n",
    "    df['mom_p1'] = df['momentum'].shift(-1)\n",
    "    df['mom_p2'] = df['momentum'].shift(-2)\n",
    "    df['mom_p3'] = df['momentum'].shift(-3)\n",
    "    df['open_p1'] = df['1. open'].shift(-1)\n",
    "    df['open_p2'] = df['1. open'].shift(-2)\n",
    "    df['open_p3'] = df['1. open'].shift(-3)\n",
    "    df['high_p1'] = df['2. high'].shift(-1)\n",
    "    df['high_p2'] = df['2. high'].shift(-2)\n",
    "    df['high_p3'] = df['2. high'].shift(-3)\n",
    "    df['low_p1'] = df['3. low'].shift(-1)\n",
    "    df['low_p2'] = df['3. low'].shift(-2)\n",
    "    df['low_p3'] = df['3. low'].shift(-3)\n",
    "    df['close_p1'] = df['4. close'].shift(-1)\n",
    "    df['close_p2'] = df['4. close'].shift(-2)\n",
    "    df['close_p3'] = df['4. close'].shift(-3)\n",
    "    df['vol_p1'] = df['5. volume'].shift(-1)/vol_divider\n",
    "    df['vol_p2'] = df['5. volume'].shift(-2)/vol_divider\n",
    "    df['vol_p3'] = df['5. volume'].shift(-3)/vol_divider\n",
    "    df['open_today'] = df['1. open']\n",
    "\n",
    "    df['true_high'] = df['2. high']\n",
    "    df['true_low'] = df['3. low']\n",
    "\n",
    "    # dropna\n",
    "    df = df.dropna()\n",
    "    \n",
    "    # Drop intermediate columns\n",
    "    df.drop(columns=['change', 'gain', 'loss', 'avg_gain', 'avg_loss', 'rs'], inplace=True)\n",
    "\n",
    "    return df\n",
    "\n",
    "# df = df.dropna(subset=['PnL_nonRTH', 'momentum', 'rsi'])\n",
    "    "
   ]
  },
  {
   "cell_type": "code",
   "execution_count": 53,
   "id": "44818d8b-e71c-4169-8326-a21bc9201537",
   "metadata": {},
   "outputs": [
    {
     "data": {
      "text/plain": [
       "(3092, 6)"
      ]
     },
     "execution_count": 53,
     "metadata": {},
     "output_type": "execute_result"
    }
   ],
   "source": [
    "original_data, dm = getDailyData('META')\n",
    "original_data.shape"
   ]
  },
  {
   "cell_type": "code",
   "execution_count": 60,
   "id": "6e58fab1-b6b8-4168-8f58-77cb5d66841a",
   "metadata": {},
   "outputs": [
    {
     "data": {
      "text/html": [
       "<div>\n",
       "<style scoped>\n",
       "    .dataframe tbody tr th:only-of-type {\n",
       "        vertical-align: middle;\n",
       "    }\n",
       "\n",
       "    .dataframe tbody tr th {\n",
       "        vertical-align: top;\n",
       "    }\n",
       "\n",
       "    .dataframe thead th {\n",
       "        text-align: right;\n",
       "    }\n",
       "</style>\n",
       "<table border=\"1\" class=\"dataframe\">\n",
       "  <thead>\n",
       "    <tr style=\"text-align: right;\">\n",
       "      <th></th>\n",
       "      <th>index</th>\n",
       "      <th>1. open</th>\n",
       "      <th>2. high</th>\n",
       "      <th>3. low</th>\n",
       "      <th>4. close</th>\n",
       "      <th>5. volume</th>\n",
       "      <th>day</th>\n",
       "      <th>dateTime</th>\n",
       "      <th>quarter</th>\n",
       "      <th>month</th>\n",
       "      <th>...</th>\n",
       "      <th>low_p3</th>\n",
       "      <th>close_p1</th>\n",
       "      <th>close_p2</th>\n",
       "      <th>close_p3</th>\n",
       "      <th>vol_p1</th>\n",
       "      <th>vol_p2</th>\n",
       "      <th>vol_p3</th>\n",
       "      <th>open_today</th>\n",
       "      <th>true_high</th>\n",
       "      <th>true_low</th>\n",
       "    </tr>\n",
       "    <tr>\n",
       "      <th>index</th>\n",
       "      <th></th>\n",
       "      <th></th>\n",
       "      <th></th>\n",
       "      <th></th>\n",
       "      <th></th>\n",
       "      <th></th>\n",
       "      <th></th>\n",
       "      <th></th>\n",
       "      <th></th>\n",
       "      <th></th>\n",
       "      <th></th>\n",
       "      <th></th>\n",
       "      <th></th>\n",
       "      <th></th>\n",
       "      <th></th>\n",
       "      <th></th>\n",
       "      <th></th>\n",
       "      <th></th>\n",
       "      <th></th>\n",
       "      <th></th>\n",
       "      <th></th>\n",
       "    </tr>\n",
       "  </thead>\n",
       "  <tbody>\n",
       "    <tr>\n",
       "      <th>0</th>\n",
       "      <td>2024-09-03</td>\n",
       "      <td>519.640</td>\n",
       "      <td>525.490</td>\n",
       "      <td>508.6176</td>\n",
       "      <td>511.76</td>\n",
       "      <td>12074282.0</td>\n",
       "      <td>1</td>\n",
       "      <td>2024-09-03</td>\n",
       "      <td>3</td>\n",
       "      <td>9</td>\n",
       "      <td>...</td>\n",
       "      <td>512.45</td>\n",
       "      <td>521.31</td>\n",
       "      <td>518.22</td>\n",
       "      <td>516.78</td>\n",
       "      <td>9.157541</td>\n",
       "      <td>8.317424</td>\n",
       "      <td>9.106077</td>\n",
       "      <td>519.640</td>\n",
       "      <td>525.490</td>\n",
       "      <td>508.6176</td>\n",
       "    </tr>\n",
       "    <tr>\n",
       "      <th>1</th>\n",
       "      <td>2024-08-30</td>\n",
       "      <td>521.350</td>\n",
       "      <td>523.540</td>\n",
       "      <td>515.2000</td>\n",
       "      <td>521.31</td>\n",
       "      <td>9157541.0</td>\n",
       "      <td>4</td>\n",
       "      <td>2024-08-30</td>\n",
       "      <td>3</td>\n",
       "      <td>8</td>\n",
       "      <td>...</td>\n",
       "      <td>515.31</td>\n",
       "      <td>518.22</td>\n",
       "      <td>516.78</td>\n",
       "      <td>519.10</td>\n",
       "      <td>8.317424</td>\n",
       "      <td>9.106077</td>\n",
       "      <td>6.282720</td>\n",
       "      <td>521.350</td>\n",
       "      <td>523.540</td>\n",
       "      <td>515.2000</td>\n",
       "    </tr>\n",
       "    <tr>\n",
       "      <th>2</th>\n",
       "      <td>2024-08-29</td>\n",
       "      <td>519.050</td>\n",
       "      <td>527.200</td>\n",
       "      <td>515.6789</td>\n",
       "      <td>518.22</td>\n",
       "      <td>8317424.0</td>\n",
       "      <td>3</td>\n",
       "      <td>2024-08-29</td>\n",
       "      <td>3</td>\n",
       "      <td>8</td>\n",
       "      <td>...</td>\n",
       "      <td>514.95</td>\n",
       "      <td>516.78</td>\n",
       "      <td>519.10</td>\n",
       "      <td>521.12</td>\n",
       "      <td>9.106077</td>\n",
       "      <td>6.282720</td>\n",
       "      <td>9.584002</td>\n",
       "      <td>519.050</td>\n",
       "      <td>527.200</td>\n",
       "      <td>515.6789</td>\n",
       "    </tr>\n",
       "    <tr>\n",
       "      <th>3</th>\n",
       "      <td>2024-08-28</td>\n",
       "      <td>517.675</td>\n",
       "      <td>521.085</td>\n",
       "      <td>512.4500</td>\n",
       "      <td>516.78</td>\n",
       "      <td>9106077.0</td>\n",
       "      <td>2</td>\n",
       "      <td>2024-08-28</td>\n",
       "      <td>3</td>\n",
       "      <td>8</td>\n",
       "      <td>...</td>\n",
       "      <td>525.06</td>\n",
       "      <td>519.10</td>\n",
       "      <td>521.12</td>\n",
       "      <td>528.00</td>\n",
       "      <td>6.282720</td>\n",
       "      <td>9.584002</td>\n",
       "      <td>11.323936</td>\n",
       "      <td>517.675</td>\n",
       "      <td>521.085</td>\n",
       "      <td>512.4500</td>\n",
       "    </tr>\n",
       "    <tr>\n",
       "      <th>4</th>\n",
       "      <td>2024-08-27</td>\n",
       "      <td>518.980</td>\n",
       "      <td>524.010</td>\n",
       "      <td>515.3100</td>\n",
       "      <td>519.10</td>\n",
       "      <td>6282720.0</td>\n",
       "      <td>1</td>\n",
       "      <td>2024-08-27</td>\n",
       "      <td>3</td>\n",
       "      <td>8</td>\n",
       "      <td>...</td>\n",
       "      <td>528.59</td>\n",
       "      <td>521.12</td>\n",
       "      <td>528.00</td>\n",
       "      <td>531.93</td>\n",
       "      <td>9.584002</td>\n",
       "      <td>11.323936</td>\n",
       "      <td>15.708292</td>\n",
       "      <td>518.980</td>\n",
       "      <td>524.010</td>\n",
       "      <td>515.3100</td>\n",
       "    </tr>\n",
       "  </tbody>\n",
       "</table>\n",
       "<p>5 rows × 42 columns</p>\n",
       "</div>"
      ],
      "text/plain": [
       "            index  1. open  2. high    3. low  4. close   5. volume  day  \\\n",
       "index                                                                      \n",
       "0      2024-09-03  519.640  525.490  508.6176    511.76  12074282.0    1   \n",
       "1      2024-08-30  521.350  523.540  515.2000    521.31   9157541.0    4   \n",
       "2      2024-08-29  519.050  527.200  515.6789    518.22   8317424.0    3   \n",
       "3      2024-08-28  517.675  521.085  512.4500    516.78   9106077.0    2   \n",
       "4      2024-08-27  518.980  524.010  515.3100    519.10   6282720.0    1   \n",
       "\n",
       "        dateTime  quarter  month  ...  low_p3  close_p1  close_p2  close_p3  \\\n",
       "index                             ...                                         \n",
       "0     2024-09-03        3      9  ...  512.45    521.31    518.22    516.78   \n",
       "1     2024-08-30        3      8  ...  515.31    518.22    516.78    519.10   \n",
       "2     2024-08-29        3      8  ...  514.95    516.78    519.10    521.12   \n",
       "3     2024-08-28        3      8  ...  525.06    519.10    521.12    528.00   \n",
       "4     2024-08-27        3      8  ...  528.59    521.12    528.00    531.93   \n",
       "\n",
       "         vol_p1     vol_p2     vol_p3  open_today  true_high  true_low  \n",
       "index                                                                   \n",
       "0      9.157541   8.317424   9.106077     519.640    525.490  508.6176  \n",
       "1      8.317424   9.106077   6.282720     521.350    523.540  515.2000  \n",
       "2      9.106077   6.282720   9.584002     519.050    527.200  515.6789  \n",
       "3      6.282720   9.584002  11.323936     517.675    521.085  512.4500  \n",
       "4      9.584002  11.323936  15.708292     518.980    524.010  515.3100  \n",
       "\n",
       "[5 rows x 42 columns]"
      ]
     },
     "execution_count": 60,
     "metadata": {},
     "output_type": "execute_result"
    }
   ],
   "source": [
    "df = preprocessData(original_data.copy())\n",
    "df.head()"
   ]
  },
  {
   "cell_type": "code",
   "execution_count": 61,
   "id": "9569888b-c78b-45bd-99ff-786a528bbd67",
   "metadata": {},
   "outputs": [
    {
     "data": {
      "text/plain": [
       "False"
      ]
     },
     "execution_count": 61,
     "metadata": {},
     "output_type": "execute_result"
    }
   ],
   "source": [
    "df.isnull().values.any()"
   ]
  },
  {
   "cell_type": "markdown",
   "id": "4ddf984b-caf0-4c68-9cf1-f8e6f955d65c",
   "metadata": {},
   "source": [
    "## Base model: Linear Regression (2 seperate model for low and high price prediction)"
   ]
  },
  {
   "cell_type": "code",
   "execution_count": 47,
   "id": "707590e8-b1c0-462a-b50a-01ef51e2fd2c",
   "metadata": {},
   "outputs": [],
   "source": [
    "# Import necessary libraries\n",
    "from sklearn.model_selection import train_test_split\n",
    "from sklearn.linear_model import LinearRegression\n",
    "from sklearn.metrics import mean_squared_error, r2_score"
   ]
  },
  {
   "cell_type": "code",
   "execution_count": 62,
   "id": "866e01e0-3615-4be3-8a03-ad96b43b7118",
   "metadata": {},
   "outputs": [],
   "source": [
    "x_features = ['rsi_p1', 'rsi_p2', 'rsi_p3', 'mom_p1', 'mom_p2', 'mom_p3', 'open_p1', 'open_p2', 'open_p3', \n",
    "              'high_p1', 'high_p2', 'high_p3', 'low_p1', 'low_p2', 'low_p3', 'close_p1', 'close_p2', 'close_p3',\n",
    "              'vol_p1', 'vol_p2', 'vol_p3', 'open_today']\n",
    "\n",
    "y_targets = [['true_high'], ['true_low']]"
   ]
  },
  {
   "cell_type": "code",
   "execution_count": 63,
   "id": "cf975efd-41e7-46e0-8ddb-09eb974618c8",
   "metadata": {},
   "outputs": [],
   "source": [
    "X = df[x_features]\n",
    "y = df[y_targets[0]]\n",
    "\n",
    "# Split the data into training and testing sets\n",
    "X_train, X_test, y_train, y_test = train_test_split(X, y, test_size=0.2, random_state=42)"
   ]
  },
  {
   "cell_type": "code",
   "execution_count": 65,
   "id": "79cceb34-b4f9-40de-b16d-744cd3878092",
   "metadata": {},
   "outputs": [
    {
     "name": "stdout",
     "output_type": "stream",
     "text": [
      "Mean Squared Error: 5.345416224298824\n",
      "R^2 Score: 0.9996092298612543\n",
      "Coefficients: [[-3.94802789e-04  2.99629795e-03 -1.54040474e-03  6.25776943e-02\n",
      "  -3.06961093e-02 -2.40516973e-03 -6.27473922e-03  4.28434339e-03\n",
      "   7.18312602e-02  1.41160463e-01  1.55711956e-01  8.02099406e-02\n",
      "  -7.32498981e-02 -5.09555781e-02 -1.29326205e-01 -1.11583413e-01\n",
      "  -4.05799974e-02 -1.03279869e-02  4.70503467e-03 -6.29363504e-04\n",
      "  -8.76235933e-04  9.74498806e-01]]\n",
      "Intercept: [-0.21572008]\n"
     ]
    }
   ],
   "source": [
    "# Create a linear regression model\n",
    "model = LinearRegression()\n",
    "\n",
    "# Train the model\n",
    "model.fit(X_train, y_train)\n",
    "\n",
    "# Make predictions\n",
    "y_pred = model.predict(X_test)\n",
    "\n",
    "# Evaluate the model\n",
    "mse = mean_squared_error(y_test, y_pred)\n",
    "r2 = r2_score(y_test, y_pred)\n",
    "\n",
    "# Output the results\n",
    "print(f\"Mean Squared Error: {mse}\")\n",
    "print(f\"R^2 Score: {r2}\")\n",
    "print(f\"Coefficients: {model.coef_}\")\n",
    "print(f\"Intercept: {model.intercept_}\")"
   ]
  },
  {
   "cell_type": "code",
   "execution_count": 77,
   "id": "101d78d0-dee0-485e-b3b3-6b2d5036d7e9",
   "metadata": {},
   "outputs": [],
   "source": [
    "test_data = preprocessData(original_data.head(10).copy())"
   ]
  },
  {
   "cell_type": "code",
   "execution_count": 78,
   "id": "5c0ad993-6b3f-45f8-aeaf-1c46e46e752d",
   "metadata": {},
   "outputs": [
    {
     "data": {
      "text/plain": [
       "(       2. high\n",
       " index         \n",
       " 0      525.490\n",
       " 1      523.540\n",
       " 2      527.200\n",
       " 3      521.085,\n",
       " array([[525.57556599],\n",
       "        [527.14858097],\n",
       "        [525.27202871],\n",
       "        [524.5589006 ]]))"
      ]
     },
     "execution_count": 78,
     "metadata": {},
     "output_type": "execute_result"
    }
   ],
   "source": [
    "test_data.loc[:,['2. high']], model.predict(test_data.loc[:, x_features])"
   ]
  },
  {
   "cell_type": "markdown",
   "id": "4391f930-3aab-47f5-932e-50d0a0a745af",
   "metadata": {},
   "source": [
    "### Polynomial regression"
   ]
  },
  {
   "cell_type": "code",
   "execution_count": 76,
   "id": "bcc1c2ad-6420-4aa1-8f4a-727784449280",
   "metadata": {},
   "outputs": [],
   "source": [
    "from sklearn.preprocessing import PolynomialFeatures\n",
    "from sklearn.linear_model import LinearRegression"
   ]
  },
  {
   "cell_type": "code",
   "execution_count": 82,
   "id": "dc2fd8e4-7409-4e41-b5fd-bfbc4c88d787",
   "metadata": {},
   "outputs": [
    {
     "name": "stdout",
     "output_type": "stream",
     "text": [
      "Mean Squared Error: 14.35240248748346\n",
      "R^2 Score: 0.9989507851070841\n"
     ]
    }
   ],
   "source": [
    "poly = PolynomialFeatures(degree=2)\n",
    "X_poly = poly.fit_transform(X_train)\n",
    "\n",
    "poly_model = LinearRegression()\n",
    "poly_model.fit(X_poly, y_train)\n",
    "y_pred_poly = poly_model.predict(poly.transform(X_test))\n",
    "\n",
    "mse = mean_squared_error(y_test, y_pred_poly)\n",
    "r2 = r2_score(y_test, y_pred_poly)\n",
    "print(f\"Mean Squared Error: {mse}\")\n",
    "print(f\"R^2 Score: {r2}\")"
   ]
  },
  {
   "cell_type": "code",
   "execution_count": 83,
   "id": "0d4906b6-510f-4cfd-841a-26078bb6e589",
   "metadata": {},
   "outputs": [
    {
     "data": {
      "text/plain": [
       "(       2. high\n",
       " index         \n",
       " 0      525.490\n",
       " 1      523.540\n",
       " 2      527.200\n",
       " 3      521.085,\n",
       " array([[526.66517792],\n",
       "        [526.98681646],\n",
       "        [528.03566918],\n",
       "        [522.80112466]]))"
      ]
     },
     "execution_count": 83,
     "metadata": {},
     "output_type": "execute_result"
    }
   ],
   "source": [
    "test_data.loc[:,['2. high']], poly_model.predict(poly.transform(test_data.loc[:, x_features]))"
   ]
  },
  {
   "cell_type": "code",
   "execution_count": 85,
   "id": "1cfd57ab-0bdb-4fc2-a54c-f0feea7448f6",
   "metadata": {},
   "outputs": [
    {
     "name": "stdout",
     "output_type": "stream",
     "text": [
      "Mean Squared Error: 898.0267932210664\n",
      "R^2 Score: 0.9343508456854732\n"
     ]
    }
   ],
   "source": [
    "from sklearn.svm import SVR\n",
    "\n",
    "svr_model = SVR(kernel='rbf')\n",
    "svr_model.fit(X_train, y_train.values.ravel())\n",
    "y_pred_svr = svr_model.predict(X_test)\n",
    "\n",
    "\n",
    "mse = mean_squared_error(y_test, y_pred_svr)\n",
    "r2 = r2_score(y_test, y_pred_svr)\n",
    "print(f\"Mean Squared Error: {mse}\")\n",
    "print(f\"R^2 Score: {r2}\")"
   ]
  },
  {
   "cell_type": "code",
   "execution_count": 86,
   "id": "e8a3d4e5-aa03-45f8-aa4d-3b7a5d717dbf",
   "metadata": {},
   "outputs": [
    {
     "name": "stdout",
     "output_type": "stream",
     "text": [
      "Mean Squared Error: 10.815592276860846\n",
      "R^2 Score: 0.9992093393073053\n"
     ]
    }
   ],
   "source": [
    "from sklearn.tree import DecisionTreeRegressor\n",
    "\n",
    "tree_model = DecisionTreeRegressor()\n",
    "tree_model.fit(X_train, y_train)\n",
    "y_pred_tree = tree_model.predict(X_test)\n",
    "\n",
    "mse = mean_squared_error(y_test, y_pred_tree)\n",
    "r2 = r2_score(y_test, y_pred_tree)\n",
    "print(f\"Mean Squared Error: {mse}\")\n",
    "print(f\"R^2 Score: {r2}\")"
   ]
  },
  {
   "cell_type": "code",
   "execution_count": 87,
   "id": "dca36b16-78fe-48cc-b48d-90952d8974fd",
   "metadata": {},
   "outputs": [
    {
     "data": {
      "text/plain": [
       "(       2. high\n",
       " index         \n",
       " 0      525.490\n",
       " 1      523.540\n",
       " 2      527.200\n",
       " 3      521.085,\n",
       " array([527.2  , 523.54 , 527.2  , 521.085]))"
      ]
     },
     "execution_count": 87,
     "metadata": {},
     "output_type": "execute_result"
    }
   ],
   "source": [
    "test_data.loc[:,['2. high']], tree_model.predict(test_data.loc[:, x_features])"
   ]
  },
  {
   "cell_type": "code",
   "execution_count": 109,
   "id": "1ab05a4a-227a-4f22-a7e0-1f6bc44ed988",
   "metadata": {},
   "outputs": [
    {
     "data": {
      "text/html": [
       "<div>\n",
       "<style scoped>\n",
       "    .dataframe tbody tr th:only-of-type {\n",
       "        vertical-align: middle;\n",
       "    }\n",
       "\n",
       "    .dataframe tbody tr th {\n",
       "        vertical-align: top;\n",
       "    }\n",
       "\n",
       "    .dataframe thead th {\n",
       "        text-align: right;\n",
       "    }\n",
       "</style>\n",
       "<table border=\"1\" class=\"dataframe\">\n",
       "  <thead>\n",
       "    <tr style=\"text-align: right;\">\n",
       "      <th></th>\n",
       "      <th>index</th>\n",
       "      <th>1. open</th>\n",
       "      <th>2. high</th>\n",
       "      <th>3. low</th>\n",
       "      <th>4. close</th>\n",
       "      <th>5. volume</th>\n",
       "      <th>day</th>\n",
       "      <th>dateTime</th>\n",
       "      <th>quarter</th>\n",
       "      <th>month</th>\n",
       "      <th>...</th>\n",
       "      <th>low_p3</th>\n",
       "      <th>close_p1</th>\n",
       "      <th>close_p2</th>\n",
       "      <th>close_p3</th>\n",
       "      <th>vol_p1</th>\n",
       "      <th>vol_p2</th>\n",
       "      <th>vol_p3</th>\n",
       "      <th>open_today</th>\n",
       "      <th>true_high</th>\n",
       "      <th>true_low</th>\n",
       "    </tr>\n",
       "    <tr>\n",
       "      <th>index</th>\n",
       "      <th></th>\n",
       "      <th></th>\n",
       "      <th></th>\n",
       "      <th></th>\n",
       "      <th></th>\n",
       "      <th></th>\n",
       "      <th></th>\n",
       "      <th></th>\n",
       "      <th></th>\n",
       "      <th></th>\n",
       "      <th></th>\n",
       "      <th></th>\n",
       "      <th></th>\n",
       "      <th></th>\n",
       "      <th></th>\n",
       "      <th></th>\n",
       "      <th></th>\n",
       "      <th></th>\n",
       "      <th></th>\n",
       "      <th></th>\n",
       "      <th></th>\n",
       "    </tr>\n",
       "  </thead>\n",
       "  <tbody>\n",
       "    <tr>\n",
       "      <th>0</th>\n",
       "      <td>2024-09-03</td>\n",
       "      <td>519.640</td>\n",
       "      <td>525.490</td>\n",
       "      <td>508.6176</td>\n",
       "      <td>511.76</td>\n",
       "      <td>12074282.0</td>\n",
       "      <td>1</td>\n",
       "      <td>2024-09-03</td>\n",
       "      <td>3</td>\n",
       "      <td>9</td>\n",
       "      <td>...</td>\n",
       "      <td>512.45</td>\n",
       "      <td>521.31</td>\n",
       "      <td>518.22</td>\n",
       "      <td>516.78</td>\n",
       "      <td>9.157541</td>\n",
       "      <td>8.317424</td>\n",
       "      <td>9.106077</td>\n",
       "      <td>519.640</td>\n",
       "      <td>525.490</td>\n",
       "      <td>508.6176</td>\n",
       "    </tr>\n",
       "    <tr>\n",
       "      <th>1</th>\n",
       "      <td>2024-08-30</td>\n",
       "      <td>521.350</td>\n",
       "      <td>523.540</td>\n",
       "      <td>515.2000</td>\n",
       "      <td>521.31</td>\n",
       "      <td>9157541.0</td>\n",
       "      <td>4</td>\n",
       "      <td>2024-08-30</td>\n",
       "      <td>3</td>\n",
       "      <td>8</td>\n",
       "      <td>...</td>\n",
       "      <td>515.31</td>\n",
       "      <td>518.22</td>\n",
       "      <td>516.78</td>\n",
       "      <td>519.10</td>\n",
       "      <td>8.317424</td>\n",
       "      <td>9.106077</td>\n",
       "      <td>6.282720</td>\n",
       "      <td>521.350</td>\n",
       "      <td>523.540</td>\n",
       "      <td>515.2000</td>\n",
       "    </tr>\n",
       "    <tr>\n",
       "      <th>2</th>\n",
       "      <td>2024-08-29</td>\n",
       "      <td>519.050</td>\n",
       "      <td>527.200</td>\n",
       "      <td>515.6789</td>\n",
       "      <td>518.22</td>\n",
       "      <td>8317424.0</td>\n",
       "      <td>3</td>\n",
       "      <td>2024-08-29</td>\n",
       "      <td>3</td>\n",
       "      <td>8</td>\n",
       "      <td>...</td>\n",
       "      <td>514.95</td>\n",
       "      <td>516.78</td>\n",
       "      <td>519.10</td>\n",
       "      <td>521.12</td>\n",
       "      <td>9.106077</td>\n",
       "      <td>6.282720</td>\n",
       "      <td>9.584002</td>\n",
       "      <td>519.050</td>\n",
       "      <td>527.200</td>\n",
       "      <td>515.6789</td>\n",
       "    </tr>\n",
       "    <tr>\n",
       "      <th>3</th>\n",
       "      <td>2024-08-28</td>\n",
       "      <td>517.675</td>\n",
       "      <td>521.085</td>\n",
       "      <td>512.4500</td>\n",
       "      <td>516.78</td>\n",
       "      <td>9106077.0</td>\n",
       "      <td>2</td>\n",
       "      <td>2024-08-28</td>\n",
       "      <td>3</td>\n",
       "      <td>8</td>\n",
       "      <td>...</td>\n",
       "      <td>525.06</td>\n",
       "      <td>519.10</td>\n",
       "      <td>521.12</td>\n",
       "      <td>528.00</td>\n",
       "      <td>6.282720</td>\n",
       "      <td>9.584002</td>\n",
       "      <td>11.323936</td>\n",
       "      <td>517.675</td>\n",
       "      <td>521.085</td>\n",
       "      <td>512.4500</td>\n",
       "    </tr>\n",
       "  </tbody>\n",
       "</table>\n",
       "<p>4 rows × 42 columns</p>\n",
       "</div>"
      ],
      "text/plain": [
       "            index  1. open  2. high    3. low  4. close   5. volume  day  \\\n",
       "index                                                                      \n",
       "0      2024-09-03  519.640  525.490  508.6176    511.76  12074282.0    1   \n",
       "1      2024-08-30  521.350  523.540  515.2000    521.31   9157541.0    4   \n",
       "2      2024-08-29  519.050  527.200  515.6789    518.22   8317424.0    3   \n",
       "3      2024-08-28  517.675  521.085  512.4500    516.78   9106077.0    2   \n",
       "\n",
       "        dateTime  quarter  month  ...  low_p3  close_p1  close_p2  close_p3  \\\n",
       "index                             ...                                         \n",
       "0     2024-09-03        3      9  ...  512.45    521.31    518.22    516.78   \n",
       "1     2024-08-30        3      8  ...  515.31    518.22    516.78    519.10   \n",
       "2     2024-08-29        3      8  ...  514.95    516.78    519.10    521.12   \n",
       "3     2024-08-28        3      8  ...  525.06    519.10    521.12    528.00   \n",
       "\n",
       "         vol_p1    vol_p2     vol_p3  open_today  true_high  true_low  \n",
       "index                                                                  \n",
       "0      9.157541  8.317424   9.106077     519.640    525.490  508.6176  \n",
       "1      8.317424  9.106077   6.282720     521.350    523.540  515.2000  \n",
       "2      9.106077  6.282720   9.584002     519.050    527.200  515.6789  \n",
       "3      6.282720  9.584002  11.323936     517.675    521.085  512.4500  \n",
       "\n",
       "[4 rows x 42 columns]"
      ]
     },
     "execution_count": 109,
     "metadata": {},
     "output_type": "execute_result"
    }
   ],
   "source": [
    "# lets predict for tomorrow\n",
    "# first shift the data\n",
    "tomorrow = test_data.copy()\n",
    "tomorrow"
   ]
  },
  {
   "cell_type": "code",
   "execution_count": 136,
   "id": "e99451e8-c0aa-442a-b848-8be5c694b0a7",
   "metadata": {},
   "outputs": [],
   "source": [
    "tomorrow['rsi_p3'] = tomorrow['rsi_p2']\n",
    "tomorrow['rsi_p2'] = tomorrow['rsi_p1']\n",
    "tomorrow['rsi_p1'] = tomorrow['rsi']\n",
    "\n",
    "tomorrow['mom_p3'] = tomorrow['mom_p2']\n",
    "tomorrow['mom_p2'] = tomorrow['mom_p1']\n",
    "tomorrow['mom_p1'] = tomorrow['momentum']\n",
    "\n",
    "tomorrow['open_p3'] = tomorrow['open_p2']\n",
    "tomorrow['open_p2'] = tomorrow['open_p1']\n",
    "tomorrow['open_p1'] = tomorrow['1. open']\n",
    "\n",
    "tomorrow['high_p3'] = tomorrow['high_p2']\n",
    "tomorrow['high_p2'] = tomorrow['high_p1']\n",
    "tomorrow['high_p1'] = tomorrow['2. high']\n",
    "\n",
    "tomorrow['low_p3'] = tomorrow['low_p2']\n",
    "tomorrow['low_p2'] = tomorrow['low_p1']\n",
    "tomorrow['low_p1'] = tomorrow['3. low']\n",
    "\n",
    "tomorrow['close_p3'] = tomorrow['close_p2']\n",
    "tomorrow['close_p2'] = tomorrow['close_p1']\n",
    "tomorrow['close_p1'] = tomorrow['4. close']\n",
    "\n",
    "tomorrow['vol_p3'] = tomorrow['vol_p2']\n",
    "tomorrow['vol_p2'] = tomorrow['vol_p1']\n",
    "tomorrow['vol_p1'] = tomorrow['5. volume']/1000000\n",
    "\n",
    "tomorrow['open_today'] = tomorrow['4. close']"
   ]
  },
  {
   "cell_type": "code",
   "execution_count": 137,
   "id": "df8993f4-74f9-4581-bf88-b136cbbd0301",
   "metadata": {},
   "outputs": [
    {
     "data": {
      "text/plain": [
       "array([[24.59282720064398, 24.59282720064398, 24.59282720064398,\n",
       "        -5.019999999999982, -5.019999999999982, -5.019999999999982,\n",
       "        519.64, 519.64, 519.64, 525.49, 525.49, 525.49, 508.6176,\n",
       "        508.6176, 508.6176, 511.76, 511.76, 511.76, 12.074282, 12.074282,\n",
       "        12.074282, 511.76]], dtype=object)"
      ]
     },
     "execution_count": 137,
     "metadata": {},
     "output_type": "execute_result"
    }
   ],
   "source": [
    "tomorrow.loc[0, x_features].values.reshape(1,-1)"
   ]
  },
  {
   "cell_type": "code",
   "execution_count": 138,
   "id": "939d1784-611b-4381-86c4-485abff1a64f",
   "metadata": {},
   "outputs": [
    {
     "name": "stderr",
     "output_type": "stream",
     "text": [
      "/opt/homebrew/lib/python3.11/site-packages/sklearn/base.py:465: UserWarning: X does not have valid feature names, but DecisionTreeRegressor was fitted with feature names\n",
      "  warnings.warn(\n"
     ]
    },
    {
     "data": {
      "text/plain": [
       "array([521.085])"
      ]
     },
     "execution_count": 138,
     "metadata": {},
     "output_type": "execute_result"
    }
   ],
   "source": [
    "tree_model.predict(tomorrow.loc[0, x_features].values.reshape(1,-1))"
   ]
  },
  {
   "cell_type": "code",
   "execution_count": null,
   "id": "574060ad-ce23-4903-955c-744e13b29a7f",
   "metadata": {},
   "outputs": [],
   "source": []
  },
  {
   "cell_type": "code",
   "execution_count": 19,
   "id": "86c8e77c-dd2f-44d2-82d3-6df64c347063",
   "metadata": {},
   "outputs": [],
   "source": [
    "def predict_periodicity(df, nonRTH = False):\n",
    "    # Weak model based on statistics, periodcity, human biasness for perticular days of week and randomness of the stock prices\n",
    "    target = 'PnL'\n",
    "    if nonRTH: target = 'PnL_nonRTH'\n",
    "    # Calculate sample mean distribution\n",
    "    num_samples = 10000\n",
    "    sample_means = sample_mean_distribution(df[target], num_samples)\n",
    "    # Calculate the mean of the sample means\n",
    "    mean_of_sample_means = np.mean(sample_means)\n",
    "    # Calculate the mean and standard deviation of the sample means\n",
    "    mean_of_sample_means = np.mean(sample_means)\n",
    "    std_of_sample_means = np.std(sample_means)\n",
    "    \n",
    "    # Calculate the 95% confidence interval for the mean\n",
    "    confidence_level = 0.95\n",
    "    z_score = stats.norm.ppf((1 + confidence_level) / 2)\n",
    "    margin_of_error = z_score * (std_of_sample_means / np.sqrt(num_samples))\n",
    "    confidence_interval = (mean_of_sample_means - margin_of_error, mean_of_sample_means + margin_of_error)\n",
    "    \n",
    "    # Add vertical lines at the mean of sample means and at 0\n",
    "    plt.axvline(mean_of_sample_means, color='red', linestyle='--', linewidth=2, label=f'Mean: {mean_of_sample_means:.4f}')\n",
    "    plt.axvline(0, color='blue', linestyle='--', linewidth=1.5, label='0')\n",
    "    \n",
    "    # Add confidence interval lines\n",
    "    plt.axvline(confidence_interval[0], color='green', linestyle='--', linewidth=1, label=f'Lower CI: {confidence_interval[0]:.4f}')\n",
    "    plt.axvline(confidence_interval[1], color='green', linestyle='--', linewidth=1, label=f'Upper CI: {confidence_interval[1]:.4f}')\n",
    "    \n",
    "    \n",
    "    plt.hist(sample_means, bins=30, edgecolor='black', density=True)\n",
    "    plt.title('Sample Mean Distribution for Friday')\n",
    "    plt.xlabel('Sample Mean')\n",
    "    plt.ylabel('Density')\n",
    "    plt.show()\n",
    "    lowerBound = confidence_interval[0] - df[target][0:20].mean()\n",
    "    upperBound = confidence_interval[1] - df[target][0:20].mean()\n",
    "    return lowerBound, upperBound\n",
    "\n",
    "def predict_periodicity_based_on_day(df, day, nonRTH = False):\n",
    "    predict_periodicity(df[df['day'] == day], nonRTH)\n",
    "\n",
    "def predict_periodicity_based_on_weekofyear(df, weekOfyear, nonRTH = False):\n",
    "    predict_periodicity(df[df['weekofyear'] == weekOfyear], nonRTH)\n"
   ]
  },
  {
   "cell_type": "code",
   "execution_count": 20,
   "id": "38fb6fa1",
   "metadata": {},
   "outputs": [],
   "source": [
    "# https://medium.com/@smitpate08/unleashing-the-power-of-categorical-relationships-with-pandas-in-python-82fbe3917338\n",
    "# based on this doc, relationship testing\n",
    "\n",
    "def correlation_of_columns(data, alpha = 0.05):\n",
    "    # Get all categorical columns in the DataFrame\n",
    "    categorical_columns = data.columns\n",
    "    results = []\n",
    "    \n",
    "    # Create a copy of the dataframe to avoid modifying the original\n",
    "    data_copy = data.copy()\n",
    "    \n",
    "    # Remove rows containing missing values\n",
    "    data_copy = data_copy.dropna(subset=categorical_columns)\n",
    "    \n",
    "    # Iterate over each pair of categorical columns\n",
    "    for i in range(len(categorical_columns)):\n",
    "        for j in range(i+1, len(categorical_columns)):\n",
    "            col1 = categorical_columns[i]\n",
    "            col2 = categorical_columns[j]\n",
    "            \n",
    "            # Create the contingency table for the two columns\n",
    "            contingency_table = pd.crosstab(data_copy[col1], data_copy[col2])\n",
    "            \n",
    "            # Calculate the chi-squared test of independence\n",
    "            chi2, p, dof, expected = chi2_contingency(contingency_table)\n",
    "            \n",
    "            # Check if we reject the null hypothesis (i.e., if the columns are dependent)\n",
    "            reject_null_hypothesis = p < alpha\n",
    "            dependency = reject_null_hypothesis\n",
    "            \n",
    "            # Add the results to the list of results\n",
    "            results.append({'column': col1, 'column_compared_with': col2, 'p-value': p, 'Null hypothesis rejected': reject_null_hypothesis, 'dependency': dependency})\n",
    "    return pd.DataFrame(results).sort_values(by='p-value', ascending=False)"
   ]
  },
  {
   "cell_type": "code",
   "execution_count": 25,
   "id": "506ee13c",
   "metadata": {},
   "outputs": [],
   "source": [
    "features = ['1. open', '2. high', '3. low', '4. close', 'weekofyear', 'PnL', 'PnL_nonRTH', 'momentum_prev', 'rsi_prev']"
   ]
  },
  {
   "cell_type": "code",
   "execution_count": 26,
   "id": "bdba6a6a-3ed7-4a8b-809b-8d74504b1275",
   "metadata": {},
   "outputs": [],
   "source": [
    "corr = correlation_of_columns(df[features])"
   ]
  },
  {
   "cell_type": "code",
   "execution_count": 27,
   "id": "58e7eba0",
   "metadata": {},
   "outputs": [
    {
     "data": {
      "text/html": [
       "<div>\n",
       "<style scoped>\n",
       "    .dataframe tbody tr th:only-of-type {\n",
       "        vertical-align: middle;\n",
       "    }\n",
       "\n",
       "    .dataframe tbody tr th {\n",
       "        vertical-align: top;\n",
       "    }\n",
       "\n",
       "    .dataframe thead th {\n",
       "        text-align: right;\n",
       "    }\n",
       "</style>\n",
       "<table border=\"1\" class=\"dataframe\">\n",
       "  <thead>\n",
       "    <tr style=\"text-align: right;\">\n",
       "      <th></th>\n",
       "      <th>column</th>\n",
       "      <th>column_compared_with</th>\n",
       "      <th>p-value</th>\n",
       "      <th>Null hypothesis rejected</th>\n",
       "      <th>dependency</th>\n",
       "    </tr>\n",
       "  </thead>\n",
       "  <tbody>\n",
       "    <tr>\n",
       "      <th>14</th>\n",
       "      <td>2. high</td>\n",
       "      <td>rsi_prev</td>\n",
       "      <td>3.811471e-02</td>\n",
       "      <td>True</td>\n",
       "      <td>True</td>\n",
       "    </tr>\n",
       "    <tr>\n",
       "      <th>10</th>\n",
       "      <td>2. high</td>\n",
       "      <td>weekofyear</td>\n",
       "      <td>3.364966e-02</td>\n",
       "      <td>True</td>\n",
       "      <td>True</td>\n",
       "    </tr>\n",
       "    <tr>\n",
       "      <th>12</th>\n",
       "      <td>2. high</td>\n",
       "      <td>PnL_nonRTH</td>\n",
       "      <td>1.749146e-02</td>\n",
       "      <td>True</td>\n",
       "      <td>True</td>\n",
       "    </tr>\n",
       "    <tr>\n",
       "      <th>7</th>\n",
       "      <td>1. open</td>\n",
       "      <td>rsi_prev</td>\n",
       "      <td>7.499504e-03</td>\n",
       "      <td>True</td>\n",
       "      <td>True</td>\n",
       "    </tr>\n",
       "    <tr>\n",
       "      <th>20</th>\n",
       "      <td>3. low</td>\n",
       "      <td>rsi_prev</td>\n",
       "      <td>7.480077e-03</td>\n",
       "      <td>True</td>\n",
       "      <td>True</td>\n",
       "    </tr>\n",
       "    <tr>\n",
       "      <th>8</th>\n",
       "      <td>2. high</td>\n",
       "      <td>3. low</td>\n",
       "      <td>4.516046e-03</td>\n",
       "      <td>True</td>\n",
       "      <td>True</td>\n",
       "    </tr>\n",
       "    <tr>\n",
       "      <th>5</th>\n",
       "      <td>1. open</td>\n",
       "      <td>PnL_nonRTH</td>\n",
       "      <td>1.026071e-03</td>\n",
       "      <td>True</td>\n",
       "      <td>True</td>\n",
       "    </tr>\n",
       "    <tr>\n",
       "      <th>33</th>\n",
       "      <td>PnL_nonRTH</td>\n",
       "      <td>momentum_prev</td>\n",
       "      <td>6.928258e-04</td>\n",
       "      <td>True</td>\n",
       "      <td>True</td>\n",
       "    </tr>\n",
       "    <tr>\n",
       "      <th>15</th>\n",
       "      <td>3. low</td>\n",
       "      <td>4. close</td>\n",
       "      <td>4.547166e-05</td>\n",
       "      <td>True</td>\n",
       "      <td>True</td>\n",
       "    </tr>\n",
       "    <tr>\n",
       "      <th>1</th>\n",
       "      <td>1. open</td>\n",
       "      <td>3. low</td>\n",
       "      <td>1.204712e-05</td>\n",
       "      <td>True</td>\n",
       "      <td>True</td>\n",
       "    </tr>\n",
       "    <tr>\n",
       "      <th>24</th>\n",
       "      <td>4. close</td>\n",
       "      <td>momentum_prev</td>\n",
       "      <td>4.869548e-07</td>\n",
       "      <td>True</td>\n",
       "      <td>True</td>\n",
       "    </tr>\n",
       "    <tr>\n",
       "      <th>13</th>\n",
       "      <td>2. high</td>\n",
       "      <td>momentum_prev</td>\n",
       "      <td>2.036585e-07</td>\n",
       "      <td>True</td>\n",
       "      <td>True</td>\n",
       "    </tr>\n",
       "    <tr>\n",
       "      <th>0</th>\n",
       "      <td>1. open</td>\n",
       "      <td>2. high</td>\n",
       "      <td>9.289235e-08</td>\n",
       "      <td>True</td>\n",
       "      <td>True</td>\n",
       "    </tr>\n",
       "    <tr>\n",
       "      <th>19</th>\n",
       "      <td>3. low</td>\n",
       "      <td>momentum_prev</td>\n",
       "      <td>6.097235e-09</td>\n",
       "      <td>True</td>\n",
       "      <td>True</td>\n",
       "    </tr>\n",
       "    <tr>\n",
       "      <th>6</th>\n",
       "      <td>1. open</td>\n",
       "      <td>momentum_prev</td>\n",
       "      <td>5.618574e-10</td>\n",
       "      <td>True</td>\n",
       "      <td>True</td>\n",
       "    </tr>\n",
       "  </tbody>\n",
       "</table>\n",
       "</div>"
      ],
      "text/plain": [
       "        column column_compared_with       p-value  Null hypothesis rejected  \\\n",
       "14     2. high             rsi_prev  3.811471e-02                      True   \n",
       "10     2. high           weekofyear  3.364966e-02                      True   \n",
       "12     2. high           PnL_nonRTH  1.749146e-02                      True   \n",
       "7      1. open             rsi_prev  7.499504e-03                      True   \n",
       "20      3. low             rsi_prev  7.480077e-03                      True   \n",
       "8      2. high               3. low  4.516046e-03                      True   \n",
       "5      1. open           PnL_nonRTH  1.026071e-03                      True   \n",
       "33  PnL_nonRTH        momentum_prev  6.928258e-04                      True   \n",
       "15      3. low             4. close  4.547166e-05                      True   \n",
       "1      1. open               3. low  1.204712e-05                      True   \n",
       "24    4. close        momentum_prev  4.869548e-07                      True   \n",
       "13     2. high        momentum_prev  2.036585e-07                      True   \n",
       "0      1. open              2. high  9.289235e-08                      True   \n",
       "19      3. low        momentum_prev  6.097235e-09                      True   \n",
       "6      1. open        momentum_prev  5.618574e-10                      True   \n",
       "\n",
       "    dependency  \n",
       "14        True  \n",
       "10        True  \n",
       "12        True  \n",
       "7         True  \n",
       "20        True  \n",
       "8         True  \n",
       "5         True  \n",
       "33        True  \n",
       "15        True  \n",
       "1         True  \n",
       "24        True  \n",
       "13        True  \n",
       "0         True  \n",
       "19        True  \n",
       "6         True  "
      ]
     },
     "execution_count": 27,
     "metadata": {},
     "output_type": "execute_result"
    }
   ],
   "source": [
    "corr[corr['dependency']==True]"
   ]
  },
  {
   "cell_type": "code",
   "execution_count": 32,
   "id": "c82682e2-48c6-42fc-a9ca-3c97689b6ff9",
   "metadata": {},
   "outputs": [
    {
     "data": {
      "text/plain": [
       "[<matplotlib.lines.Line2D at 0x137ef5690>,\n",
       " <matplotlib.lines.Line2D at 0x137efc590>]"
      ]
     },
     "execution_count": 32,
     "metadata": {},
     "output_type": "execute_result"
    },
    {
     "data": {
      "image/png": "[encoded data removed]",
      "text/plain": [
       "<Figure size 640x480 with 1 Axes>"
      ]
     },
     "metadata": {},
     "output_type": "display_data"
    }
   ],
   "source": []
  },
  {
   "cell_type": "markdown",
   "id": "5246ee17-59d8-4424-a73b-b95e924b5eb0",
   "metadata": {
    "jp-MarkdownHeadingCollapsed": true
   },
   "source": [
    "## Lets try XGBoost for time series forcasting"
   ]
  },
  {
   "cell_type": "code",
   "execution_count": 69,
   "id": "9c74f781-1f44-4f75-9e26-520ef372d332",
   "metadata": {},
   "outputs": [],
   "source": [
    "import xgboost as xgb\n",
    "import seaborn as sns\n",
    "from sklearn.metrics import mean_squared_error\n",
    "color_pal = sns.color_palette()\n",
    "plt.style.use('fivethirtyeight')"
   ]
  },
  {
   "cell_type": "code",
   "execution_count": 70,
   "id": "1a165b67-a3a9-45b8-a082-f630ddbd18f6",
   "metadata": {},
   "outputs": [],
   "source": [
    "cols = ['day', 'quarter', 'month', 'year', 'dayofyear', 'dayofmonth', 'weekofyear', 'momentum', 'rsi', 'PnL']\n",
    "FEATURES = ['day', 'quarter', 'month', 'year', 'dayofyear', 'dayofmonth', 'weekofyear', 'rsi', 'momentum']\n",
    "TARGET = ['PnL']"
   ]
  },
  {
   "cell_type": "code",
   "execution_count": 71,
   "id": "02b06047-deb2-4d76-91f7-dcf5a141c9bc",
   "metadata": {},
   "outputs": [
    {
     "data": {
      "text/html": [
       "<div>\n",
       "<style scoped>\n",
       "    .dataframe tbody tr th:only-of-type {\n",
       "        vertical-align: middle;\n",
       "    }\n",
       "\n",
       "    .dataframe tbody tr th {\n",
       "        vertical-align: top;\n",
       "    }\n",
       "\n",
       "    .dataframe thead th {\n",
       "        text-align: right;\n",
       "    }\n",
       "</style>\n",
       "<table border=\"1\" class=\"dataframe\">\n",
       "  <thead>\n",
       "    <tr style=\"text-align: right;\">\n",
       "      <th></th>\n",
       "      <th>day</th>\n",
       "      <th>quarter</th>\n",
       "      <th>month</th>\n",
       "      <th>year</th>\n",
       "      <th>dayofyear</th>\n",
       "      <th>dayofmonth</th>\n",
       "      <th>weekofyear</th>\n",
       "      <th>momentum</th>\n",
       "      <th>rsi</th>\n",
       "      <th>PnL</th>\n",
       "    </tr>\n",
       "    <tr>\n",
       "      <th>index</th>\n",
       "      <th></th>\n",
       "      <th></th>\n",
       "      <th></th>\n",
       "      <th></th>\n",
       "      <th></th>\n",
       "      <th></th>\n",
       "      <th></th>\n",
       "      <th></th>\n",
       "      <th></th>\n",
       "      <th></th>\n",
       "    </tr>\n",
       "  </thead>\n",
       "  <tbody>\n",
       "    <tr>\n",
       "      <th>3</th>\n",
       "      <td>1</td>\n",
       "      <td>3</td>\n",
       "      <td>8</td>\n",
       "      <td>2024</td>\n",
       "      <td>240</td>\n",
       "      <td>27</td>\n",
       "      <td>35</td>\n",
       "      <td>-2.21</td>\n",
       "      <td>33.868613</td>\n",
       "      <td>0.023122</td>\n",
       "    </tr>\n",
       "    <tr>\n",
       "      <th>4</th>\n",
       "      <td>0</td>\n",
       "      <td>3</td>\n",
       "      <td>8</td>\n",
       "      <td>2024</td>\n",
       "      <td>239</td>\n",
       "      <td>26</td>\n",
       "      <td>35</td>\n",
       "      <td>2.90</td>\n",
       "      <td>48.928974</td>\n",
       "      <td>-1.228203</td>\n",
       "    </tr>\n",
       "    <tr>\n",
       "      <th>5</th>\n",
       "      <td>4</td>\n",
       "      <td>3</td>\n",
       "      <td>8</td>\n",
       "      <td>2024</td>\n",
       "      <td>236</td>\n",
       "      <td>23</td>\n",
       "      <td>34</td>\n",
       "      <td>11.22</td>\n",
       "      <td>71.238095</td>\n",
       "      <td>-1.661328</td>\n",
       "    </tr>\n",
       "    <tr>\n",
       "      <th>6</th>\n",
       "      <td>3</td>\n",
       "      <td>3</td>\n",
       "      <td>8</td>\n",
       "      <td>2024</td>\n",
       "      <td>235</td>\n",
       "      <td>22</td>\n",
       "      <td>34</td>\n",
       "      <td>12.83</td>\n",
       "      <td>91.320072</td>\n",
       "      <td>-0.944134</td>\n",
       "    </tr>\n",
       "    <tr>\n",
       "      <th>7</th>\n",
       "      <td>2</td>\n",
       "      <td>3</td>\n",
       "      <td>8</td>\n",
       "      <td>2024</td>\n",
       "      <td>234</td>\n",
       "      <td>21</td>\n",
       "      <td>34</td>\n",
       "      <td>14.04</td>\n",
       "      <td>100.000000</td>\n",
       "      <td>1.519492</td>\n",
       "    </tr>\n",
       "  </tbody>\n",
       "</table>\n",
       "</div>"
      ],
      "text/plain": [
       "       day  quarter  month  year  dayofyear  dayofmonth  weekofyear  momentum  \\\n",
       "index                                                                           \n",
       "3        1        3      8  2024        240          27          35     -2.21   \n",
       "4        0        3      8  2024        239          26          35      2.90   \n",
       "5        4        3      8  2024        236          23          34     11.22   \n",
       "6        3        3      8  2024        235          22          34     12.83   \n",
       "7        2        3      8  2024        234          21          34     14.04   \n",
       "\n",
       "              rsi       PnL  \n",
       "index                        \n",
       "3       33.868613  0.023122  \n",
       "4       48.928974 -1.228203  \n",
       "5       71.238095 -1.661328  \n",
       "6       91.320072 -0.944134  \n",
       "7      100.000000  1.519492  "
      ]
     },
     "execution_count": 71,
     "metadata": {},
     "output_type": "execute_result"
    }
   ],
   "source": [
    "df = df.dropna()\n",
    "data = df.loc[:, cols]\n",
    "data.head()"
   ]
  },
  {
   "cell_type": "code",
   "execution_count": 72,
   "id": "2b366ac4-df5f-4aa8-a936-4f3d0dfe3764",
   "metadata": {},
   "outputs": [],
   "source": [
    "test = data[0:300]\n",
    "train = data[300::]"
   ]
  },
  {
   "cell_type": "code",
   "execution_count": 73,
   "id": "9374e3ed-ade0-4baf-bdbd-3c4a1937397d",
   "metadata": {},
   "outputs": [
    {
     "data": {
      "image/png": "[encoded data removed]",
      "text/plain": [
       "<Figure size 1000x800 with 1 Axes>"
      ]
     },
     "metadata": {},
     "output_type": "display_data"
    }
   ],
   "source": [
    "fig, ax = plt.subplots(figsize=(10, 8))\n",
    "sns.boxplot(data=data, x='day', y='PnL')\n",
    "# ax.set_title('PnL by Day')\n",
    "plt.show()"
   ]
  },
  {
   "cell_type": "code",
   "execution_count": 74,
   "id": "cf8f4dde-57e7-4e7e-b068-4c284fe7a4f0",
   "metadata": {},
   "outputs": [],
   "source": [
    "X_train = train.loc[:, FEATURES]\n",
    "y_train = train.loc[:, TARGET]\n",
    "\n",
    "X_test = test.loc[:, FEATURES]\n",
    "y_test = test.loc[:, TARGET]"
   ]
  },
  {
   "cell_type": "code",
   "execution_count": 75,
   "id": "e0188207-1202-42a0-ac41-f339ab1d1da7",
   "metadata": {},
   "outputs": [
    {
     "name": "stdout",
     "output_type": "stream",
     "text": [
      "[0]\tvalidation_0-rmse:1.88503\tvalidation_1-rmse:1.71221\n",
      "[99]\tvalidation_0-rmse:1.75216\tvalidation_1-rmse:1.70242\n"
     ]
    },
    {
     "name": "stderr",
     "output_type": "stream",
     "text": [
      "/opt/homebrew/lib/python3.11/site-packages/xgboost/core.py:158: UserWarning: [13:30:42] WARNING: /Users/runner/work/xgboost/xgboost/src/objective/regression_obj.cu:227: reg:linear is now deprecated in favor of reg:squarederror.\n",
      "  warnings.warn(smsg, UserWarning)\n"
     ]
    },
    {
     "data": {
      "text/html": [
       "<style>#sk-container-id-3 {color: black;}#sk-container-id-3 pre{padding: 0;}#sk-container-id-3 div.sk-toggleable {background-color: white;}#sk-container-id-3 label.sk-toggleable__label {cursor: pointer;display: block;width: 100%;margin-bottom: 0;padding: 0.3em;box-sizing: border-box;text-align: center;}#sk-container-id-3 label.sk-toggleable__label-arrow:before {content: \"▸\";float: left;margin-right: 0.25em;color: #696969;}#sk-container-id-3 label.sk-toggleable__label-arrow:hover:before {color: black;}#sk-container-id-3 div.sk-estimator:hover label.sk-toggleable__label-arrow:before {color: black;}#sk-container-id-3 div.sk-toggleable__content {max-height: 0;max-width: 0;overflow: hidden;text-align: left;background-color: #f0f8ff;}#sk-container-id-3 div.sk-toggleable__content pre {margin: 0.2em;color: black;border-radius: 0.25em;background-color: #f0f8ff;}#sk-container-id-3 input.sk-toggleable__control:checked~div.sk-toggleable__content {max-height: 200px;max-width: 100%;overflow: auto;}#sk-container-id-3 input.sk-toggleable__control:checked~label.sk-toggleable__label-arrow:before {content: \"▾\";}#sk-container-id-3 div.sk-estimator input.sk-toggleable__control:checked~label.sk-toggleable__label {background-color: #d4ebff;}#sk-container-id-3 div.sk-label input.sk-toggleable__control:checked~label.sk-toggleable__label {background-color: #d4ebff;}#sk-container-id-3 input.sk-hidden--visually {border: 0;clip: rect(1px 1px 1px 1px);clip: rect(1px, 1px, 1px, 1px);height: 1px;margin: -1px;overflow: hidden;padding: 0;position: absolute;width: 1px;}#sk-container-id-3 div.sk-estimator {font-family: monospace;background-color: #f0f8ff;border: 1px dotted black;border-radius: 0.25em;box-sizing: border-box;margin-bottom: 0.5em;}#sk-container-id-3 div.sk-estimator:hover {background-color: #d4ebff;}#sk-container-id-3 div.sk-parallel-item::after {content: \"\";width: 100%;border-bottom: 1px solid gray;flex-grow: 1;}#sk-container-id-3 div.sk-label:hover label.sk-toggleable__label {background-color: #d4ebff;}#sk-container-id-3 div.sk-serial::before {content: \"\";position: absolute;border-left: 1px solid gray;box-sizing: border-box;top: 0;bottom: 0;left: 50%;z-index: 0;}#sk-container-id-3 div.sk-serial {display: flex;flex-direction: column;align-items: center;background-color: white;padding-right: 0.2em;padding-left: 0.2em;position: relative;}#sk-container-id-3 div.sk-item {position: relative;z-index: 1;}#sk-container-id-3 div.sk-parallel {display: flex;align-items: stretch;justify-content: center;background-color: white;position: relative;}#sk-container-id-3 div.sk-item::before, #sk-container-id-3 div.sk-parallel-item::before {content: \"\";position: absolute;border-left: 1px solid gray;box-sizing: border-box;top: 0;bottom: 0;left: 50%;z-index: -1;}#sk-container-id-3 div.sk-parallel-item {display: flex;flex-direction: column;z-index: 1;position: relative;background-color: white;}#sk-container-id-3 div.sk-parallel-item:first-child::after {align-self: flex-end;width: 50%;}#sk-container-id-3 div.sk-parallel-item:last-child::after {align-self: flex-start;width: 50%;}#sk-container-id-3 div.sk-parallel-item:only-child::after {width: 0;}#sk-container-id-3 div.sk-dashed-wrapped {border: 1px dashed gray;margin: 0 0.4em 0.5em 0.4em;box-sizing: border-box;padding-bottom: 0.4em;background-color: white;}#sk-container-id-3 div.sk-label label {font-family: monospace;font-weight: bold;display: inline-block;line-height: 1.2em;}#sk-container-id-3 div.sk-label-container {text-align: center;}#sk-container-id-3 div.sk-container {/* jupyter's `normalize.less` sets `[hidden] { display: none; }` but bootstrap.min.css set `[hidden] { display: none !important; }` so we also need the `!important` here to be able to override the default hidden behavior on the sphinx rendered scikit-learn.org. See: https://github.com/scikit-learn/scikit-learn/issues/21755 */display: inline-block !important;position: relative;}#sk-container-id-3 div.sk-text-repr-fallback {display: none;}</style><div id=\"sk-container-id-3\" class=\"sk-top-container\"><div class=\"sk-text-repr-fallback\"><pre>XGBRegressor(base_score=0.5, booster=&#x27;gbtree&#x27;, callbacks=None,\n",
       "             colsample_bylevel=None, colsample_bynode=None,\n",
       "             colsample_bytree=None, device=None, early_stopping_rounds=50,\n",
       "             enable_categorical=False, eval_metric=None, feature_types=None,\n",
       "             gamma=None, grow_policy=None, importance_type=None,\n",
       "             interaction_constraints=None, learning_rate=0.01, max_bin=None,\n",
       "             max_cat_threshold=None, max_cat_to_onehot=None,\n",
       "             max_delta_step=None, max_depth=5, max_leaves=None,\n",
       "             min_child_weight=None, missing=nan, monotone_constraints=None,\n",
       "             multi_strategy=None, n_estimators=100, n_jobs=None,\n",
       "             num_parallel_tree=None, objective=&#x27;reg:linear&#x27;, ...)</pre><b>In a Jupyter environment, please rerun this cell to show the HTML representation or trust the notebook. <br />On GitHub, the HTML representation is unable to render, please try loading this page with nbviewer.org.</b></div><div class=\"sk-container\" hidden><div class=\"sk-item\"><div class=\"sk-estimator sk-toggleable\"><input class=\"sk-toggleable__control sk-hidden--visually\" id=\"sk-estimator-id-3\" type=\"checkbox\" checked><label for=\"sk-estimator-id-3\" class=\"sk-toggleable__label sk-toggleable__label-arrow\">XGBRegressor</label><div class=\"sk-toggleable__content\"><pre>XGBRegressor(base_score=0.5, booster=&#x27;gbtree&#x27;, callbacks=None,\n",
       "             colsample_bylevel=None, colsample_bynode=None,\n",
       "             colsample_bytree=None, device=None, early_stopping_rounds=50,\n",
       "             enable_categorical=False, eval_metric=None, feature_types=None,\n",
       "             gamma=None, grow_policy=None, importance_type=None,\n",
       "             interaction_constraints=None, learning_rate=0.01, max_bin=None,\n",
       "             max_cat_threshold=None, max_cat_to_onehot=None,\n",
       "             max_delta_step=None, max_depth=5, max_leaves=None,\n",
       "             min_child_weight=None, missing=nan, monotone_constraints=None,\n",
       "             multi_strategy=None, n_estimators=100, n_jobs=None,\n",
       "             num_parallel_tree=None, objective=&#x27;reg:linear&#x27;, ...)</pre></div></div></div></div></div>"
      ],
      "text/plain": [
       "XGBRegressor(base_score=0.5, booster='gbtree', callbacks=None,\n",
       "             colsample_bylevel=None, colsample_bynode=None,\n",
       "             colsample_bytree=None, device=None, early_stopping_rounds=50,\n",
       "             enable_categorical=False, eval_metric=None, feature_types=None,\n",
       "             gamma=None, grow_policy=None, importance_type=None,\n",
       "             interaction_constraints=None, learning_rate=0.01, max_bin=None,\n",
       "             max_cat_threshold=None, max_cat_to_onehot=None,\n",
       "             max_delta_step=None, max_depth=5, max_leaves=None,\n",
       "             min_child_weight=None, missing=nan, monotone_constraints=None,\n",
       "             multi_strategy=None, n_estimators=100, n_jobs=None,\n",
       "             num_parallel_tree=None, objective='reg:linear', ...)"
      ]
     },
     "execution_count": 75,
     "metadata": {},
     "output_type": "execute_result"
    }
   ],
   "source": [
    "reg = xgb.XGBRegressor(base_score=0.5, booster='gbtree',    \n",
    "                       n_estimators=100,\n",
    "                       early_stopping_rounds=50,\n",
    "                       objective='reg:linear',\n",
    "                       max_depth=5,\n",
    "                       learning_rate=0.01)\n",
    "reg.fit(X_train, y_train,\n",
    "        eval_set=[(X_train, y_train), (X_test, y_test)],\n",
    "        verbose=100)"
   ]
  },
  {
   "cell_type": "code",
   "execution_count": 76,
   "id": "45394d0c-69e9-4fdd-9054-c2f3423a78ac",
   "metadata": {},
   "outputs": [
    {
     "data": {
      "image/png": "[encoded data removed]",
      "text/plain": [
       "<Figure size 640x480 with 1 Axes>"
      ]
     },
     "metadata": {},
     "output_type": "display_data"
    }
   ],
   "source": [
    "fi = pd.DataFrame(data=reg.feature_importances_,\n",
    "             index=reg.feature_names_in_,\n",
    "             columns=['importance'])\n",
    "fi.sort_values('importance').plot(kind='barh', title='Feature Importance')\n",
    "plt.show()"
   ]
  },
  {
   "cell_type": "code",
   "execution_count": 77,
   "id": "4b8489fe-b8a7-4222-a177-efb198755563",
   "metadata": {},
   "outputs": [],
   "source": [
    "def getTestData(date):\n",
    "    # ['day', 'quarter', 'month', 'year', 'dayofyear', 'dayofmonth', 'weekofyear']\n",
    "    # Convert the input date string to a datetime object\n",
    "    sr = pd.Series([date])\n",
    "    sr = pd.to_datetime(sr) \n",
    "    return pd.DataFrame([[sr.dt.day_of_week[0], sr.dt.quarter[0], sr.dt.month[0], sr.dt.year[0], sr.dt.dayofyear[0], sr.dt.day[0], sr.dt.isocalendar().week[0]]], columns=FEATURES)"
   ]
  },
  {
   "cell_type": "code",
   "execution_count": 78,
   "id": "eea91273-25f5-4757-a1cd-53fcfa01ae11",
   "metadata": {},
   "outputs": [
    {
     "ename": "ValueError",
     "evalue": "9 columns passed, passed data had 7 columns",
     "output_type": "error",
     "traceback": [
      "\u001b[0;31m---------------------------------------------------------------------------\u001b[0m",
      "\u001b[0;31mAssertionError\u001b[0m                            Traceback (most recent call last)",
      "File \u001b[0;32m/opt/homebrew/lib/python3.11/site-packages/pandas/core/internals/construction.py:906\u001b[0m, in \u001b[0;36m_finalize_columns_and_data\u001b[0;34m(content, columns, dtype)\u001b[0m\n\u001b[1;32m    905\u001b[0m \u001b[38;5;28;01mtry\u001b[39;00m:\n\u001b[0;32m--> 906\u001b[0m     columns \u001b[38;5;241m=\u001b[39m \u001b[43m_validate_or_indexify_columns\u001b[49m\u001b[43m(\u001b[49m\u001b[43mcontents\u001b[49m\u001b[43m,\u001b[49m\u001b[43m \u001b[49m\u001b[43mcolumns\u001b[49m\u001b[43m)\u001b[49m\n\u001b[1;32m    907\u001b[0m \u001b[38;5;28;01mexcept\u001b[39;00m \u001b[38;5;167;01mAssertionError\u001b[39;00m \u001b[38;5;28;01mas\u001b[39;00m err:\n\u001b[1;32m    908\u001b[0m     \u001b[38;5;66;03m# GH#26429 do not raise user-facing AssertionError\u001b[39;00m\n",
      "File \u001b[0;32m/opt/homebrew/lib/python3.11/site-packages/pandas/core/internals/construction.py:954\u001b[0m, in \u001b[0;36m_validate_or_indexify_columns\u001b[0;34m(content, columns)\u001b[0m\n\u001b[1;32m    952\u001b[0m \u001b[38;5;28;01mif\u001b[39;00m \u001b[38;5;129;01mnot\u001b[39;00m is_mi_list \u001b[38;5;129;01mand\u001b[39;00m \u001b[38;5;28mlen\u001b[39m(columns) \u001b[38;5;241m!=\u001b[39m \u001b[38;5;28mlen\u001b[39m(content):  \u001b[38;5;66;03m# pragma: no cover\u001b[39;00m\n\u001b[1;32m    953\u001b[0m     \u001b[38;5;66;03m# caller's responsibility to check for this...\u001b[39;00m\n\u001b[0;32m--> 954\u001b[0m     \u001b[38;5;28;01mraise\u001b[39;00m \u001b[38;5;167;01mAssertionError\u001b[39;00m(\n\u001b[1;32m    955\u001b[0m         \u001b[38;5;124mf\u001b[39m\u001b[38;5;124m\"\u001b[39m\u001b[38;5;132;01m{\u001b[39;00m\u001b[38;5;28mlen\u001b[39m(columns)\u001b[38;5;132;01m}\u001b[39;00m\u001b[38;5;124m columns passed, passed data had \u001b[39m\u001b[38;5;124m\"\u001b[39m\n\u001b[1;32m    956\u001b[0m         \u001b[38;5;124mf\u001b[39m\u001b[38;5;124m\"\u001b[39m\u001b[38;5;132;01m{\u001b[39;00m\u001b[38;5;28mlen\u001b[39m(content)\u001b[38;5;132;01m}\u001b[39;00m\u001b[38;5;124m columns\u001b[39m\u001b[38;5;124m\"\u001b[39m\n\u001b[1;32m    957\u001b[0m     )\n\u001b[1;32m    958\u001b[0m \u001b[38;5;28;01melif\u001b[39;00m is_mi_list:\n\u001b[1;32m    959\u001b[0m \n\u001b[1;32m    960\u001b[0m     \u001b[38;5;66;03m# check if nested list column, length of each sub-list should be equal\u001b[39;00m\n",
      "\u001b[0;31mAssertionError\u001b[0m: 9 columns passed, passed data had 7 columns",
      "\nThe above exception was the direct cause of the following exception:\n",
      "\u001b[0;31mValueError\u001b[0m                                Traceback (most recent call last)",
      "Cell \u001b[0;32mIn[78], line 1\u001b[0m\n\u001b[0;32m----> 1\u001b[0m reg\u001b[38;5;241m.\u001b[39mpredict(\u001b[43mgetTestData\u001b[49m\u001b[43m(\u001b[49m\u001b[38;5;124;43m'\u001b[39;49m\u001b[38;5;124;43m09-02-2024\u001b[39;49m\u001b[38;5;124;43m'\u001b[39;49m\u001b[43m)\u001b[49m)\n",
      "Cell \u001b[0;32mIn[77], line 6\u001b[0m, in \u001b[0;36mgetTestData\u001b[0;34m(date)\u001b[0m\n\u001b[1;32m      4\u001b[0m sr \u001b[38;5;241m=\u001b[39m pd\u001b[38;5;241m.\u001b[39mSeries([date])\n\u001b[1;32m      5\u001b[0m sr \u001b[38;5;241m=\u001b[39m pd\u001b[38;5;241m.\u001b[39mto_datetime(sr) \n\u001b[0;32m----> 6\u001b[0m \u001b[38;5;28;01mreturn\u001b[39;00m \u001b[43mpd\u001b[49m\u001b[38;5;241;43m.\u001b[39;49m\u001b[43mDataFrame\u001b[49m\u001b[43m(\u001b[49m\u001b[43m[\u001b[49m\u001b[43m[\u001b[49m\u001b[43msr\u001b[49m\u001b[38;5;241;43m.\u001b[39;49m\u001b[43mdt\u001b[49m\u001b[38;5;241;43m.\u001b[39;49m\u001b[43mday_of_week\u001b[49m\u001b[43m[\u001b[49m\u001b[38;5;241;43m0\u001b[39;49m\u001b[43m]\u001b[49m\u001b[43m,\u001b[49m\u001b[43m \u001b[49m\u001b[43msr\u001b[49m\u001b[38;5;241;43m.\u001b[39;49m\u001b[43mdt\u001b[49m\u001b[38;5;241;43m.\u001b[39;49m\u001b[43mquarter\u001b[49m\u001b[43m[\u001b[49m\u001b[38;5;241;43m0\u001b[39;49m\u001b[43m]\u001b[49m\u001b[43m,\u001b[49m\u001b[43m \u001b[49m\u001b[43msr\u001b[49m\u001b[38;5;241;43m.\u001b[39;49m\u001b[43mdt\u001b[49m\u001b[38;5;241;43m.\u001b[39;49m\u001b[43mmonth\u001b[49m\u001b[43m[\u001b[49m\u001b[38;5;241;43m0\u001b[39;49m\u001b[43m]\u001b[49m\u001b[43m,\u001b[49m\u001b[43m \u001b[49m\u001b[43msr\u001b[49m\u001b[38;5;241;43m.\u001b[39;49m\u001b[43mdt\u001b[49m\u001b[38;5;241;43m.\u001b[39;49m\u001b[43myear\u001b[49m\u001b[43m[\u001b[49m\u001b[38;5;241;43m0\u001b[39;49m\u001b[43m]\u001b[49m\u001b[43m,\u001b[49m\u001b[43m \u001b[49m\u001b[43msr\u001b[49m\u001b[38;5;241;43m.\u001b[39;49m\u001b[43mdt\u001b[49m\u001b[38;5;241;43m.\u001b[39;49m\u001b[43mdayofyear\u001b[49m\u001b[43m[\u001b[49m\u001b[38;5;241;43m0\u001b[39;49m\u001b[43m]\u001b[49m\u001b[43m,\u001b[49m\u001b[43m \u001b[49m\u001b[43msr\u001b[49m\u001b[38;5;241;43m.\u001b[39;49m\u001b[43mdt\u001b[49m\u001b[38;5;241;43m.\u001b[39;49m\u001b[43mday\u001b[49m\u001b[43m[\u001b[49m\u001b[38;5;241;43m0\u001b[39;49m\u001b[43m]\u001b[49m\u001b[43m,\u001b[49m\u001b[43m \u001b[49m\u001b[43msr\u001b[49m\u001b[38;5;241;43m.\u001b[39;49m\u001b[43mdt\u001b[49m\u001b[38;5;241;43m.\u001b[39;49m\u001b[43misocalendar\u001b[49m\u001b[43m(\u001b[49m\u001b[43m)\u001b[49m\u001b[38;5;241;43m.\u001b[39;49m\u001b[43mweek\u001b[49m\u001b[43m[\u001b[49m\u001b[38;5;241;43m0\u001b[39;49m\u001b[43m]\u001b[49m\u001b[43m]\u001b[49m\u001b[43m]\u001b[49m\u001b[43m,\u001b[49m\u001b[43m \u001b[49m\u001b[43mcolumns\u001b[49m\u001b[38;5;241;43m=\u001b[39;49m\u001b[43mFEATURES\u001b[49m\u001b[43m)\u001b[49m\n",
      "File \u001b[0;32m/opt/homebrew/lib/python3.11/site-packages/pandas/core/frame.py:694\u001b[0m, in \u001b[0;36mDataFrame.__init__\u001b[0;34m(self, data, index, columns, dtype, copy)\u001b[0m\n\u001b[1;32m    689\u001b[0m     \u001b[38;5;28;01mif\u001b[39;00m columns \u001b[38;5;129;01mis\u001b[39;00m \u001b[38;5;129;01mnot\u001b[39;00m \u001b[38;5;28;01mNone\u001b[39;00m:\n\u001b[1;32m    690\u001b[0m         \u001b[38;5;66;03m# error: Argument 1 to \"ensure_index\" has incompatible type\u001b[39;00m\n\u001b[1;32m    691\u001b[0m         \u001b[38;5;66;03m# \"Collection[Any]\"; expected \"Union[Union[Union[ExtensionArray,\u001b[39;00m\n\u001b[1;32m    692\u001b[0m         \u001b[38;5;66;03m# ndarray], Index, Series], Sequence[Any]]\"\u001b[39;00m\n\u001b[1;32m    693\u001b[0m         columns \u001b[38;5;241m=\u001b[39m ensure_index(columns)  \u001b[38;5;66;03m# type: ignore[arg-type]\u001b[39;00m\n\u001b[0;32m--> 694\u001b[0m     arrays, columns, index \u001b[38;5;241m=\u001b[39m \u001b[43mnested_data_to_arrays\u001b[49m\u001b[43m(\u001b[49m\n\u001b[1;32m    695\u001b[0m \u001b[43m        \u001b[49m\u001b[38;5;66;43;03m# error: Argument 3 to \"nested_data_to_arrays\" has incompatible\u001b[39;49;00m\n\u001b[1;32m    696\u001b[0m \u001b[43m        \u001b[49m\u001b[38;5;66;43;03m# type \"Optional[Collection[Any]]\"; expected \"Optional[Index]\"\u001b[39;49;00m\n\u001b[1;32m    697\u001b[0m \u001b[43m        \u001b[49m\u001b[43mdata\u001b[49m\u001b[43m,\u001b[49m\n\u001b[1;32m    698\u001b[0m \u001b[43m        \u001b[49m\u001b[43mcolumns\u001b[49m\u001b[43m,\u001b[49m\n\u001b[1;32m    699\u001b[0m \u001b[43m        \u001b[49m\u001b[43mindex\u001b[49m\u001b[43m,\u001b[49m\u001b[43m  \u001b[49m\u001b[38;5;66;43;03m# type: ignore[arg-type]\u001b[39;49;00m\n\u001b[1;32m    700\u001b[0m \u001b[43m        \u001b[49m\u001b[43mdtype\u001b[49m\u001b[43m,\u001b[49m\n\u001b[1;32m    701\u001b[0m \u001b[43m    \u001b[49m\u001b[43m)\u001b[49m\n\u001b[1;32m    702\u001b[0m     mgr \u001b[38;5;241m=\u001b[39m arrays_to_mgr(\n\u001b[1;32m    703\u001b[0m         arrays,\n\u001b[1;32m    704\u001b[0m         columns,\n\u001b[0;32m   (...)\u001b[0m\n\u001b[1;32m    708\u001b[0m         typ\u001b[38;5;241m=\u001b[39mmanager,\n\u001b[1;32m    709\u001b[0m     )\n\u001b[1;32m    710\u001b[0m \u001b[38;5;28;01melse\u001b[39;00m:\n",
      "File \u001b[0;32m/opt/homebrew/lib/python3.11/site-packages/pandas/core/internals/construction.py:483\u001b[0m, in \u001b[0;36mnested_data_to_arrays\u001b[0;34m(data, columns, index, dtype)\u001b[0m\n\u001b[1;32m    480\u001b[0m \u001b[38;5;28;01mif\u001b[39;00m is_named_tuple(data[\u001b[38;5;241m0\u001b[39m]) \u001b[38;5;129;01mand\u001b[39;00m columns \u001b[38;5;129;01mis\u001b[39;00m \u001b[38;5;28;01mNone\u001b[39;00m:\n\u001b[1;32m    481\u001b[0m     columns \u001b[38;5;241m=\u001b[39m ensure_index(data[\u001b[38;5;241m0\u001b[39m]\u001b[38;5;241m.\u001b[39m_fields)\n\u001b[0;32m--> 483\u001b[0m arrays, columns \u001b[38;5;241m=\u001b[39m \u001b[43mto_arrays\u001b[49m\u001b[43m(\u001b[49m\u001b[43mdata\u001b[49m\u001b[43m,\u001b[49m\u001b[43m \u001b[49m\u001b[43mcolumns\u001b[49m\u001b[43m,\u001b[49m\u001b[43m \u001b[49m\u001b[43mdtype\u001b[49m\u001b[38;5;241;43m=\u001b[39;49m\u001b[43mdtype\u001b[49m\u001b[43m)\u001b[49m\n\u001b[1;32m    484\u001b[0m columns \u001b[38;5;241m=\u001b[39m ensure_index(columns)\n\u001b[1;32m    486\u001b[0m \u001b[38;5;28;01mif\u001b[39;00m index \u001b[38;5;129;01mis\u001b[39;00m \u001b[38;5;28;01mNone\u001b[39;00m:\n",
      "File \u001b[0;32m/opt/homebrew/lib/python3.11/site-packages/pandas/core/internals/construction.py:807\u001b[0m, in \u001b[0;36mto_arrays\u001b[0;34m(data, columns, dtype)\u001b[0m\n\u001b[1;32m    804\u001b[0m     data \u001b[38;5;241m=\u001b[39m [\u001b[38;5;28mtuple\u001b[39m(x) \u001b[38;5;28;01mfor\u001b[39;00m x \u001b[38;5;129;01min\u001b[39;00m data]\n\u001b[1;32m    805\u001b[0m     arr \u001b[38;5;241m=\u001b[39m _list_to_arrays(data)\n\u001b[0;32m--> 807\u001b[0m content, columns \u001b[38;5;241m=\u001b[39m \u001b[43m_finalize_columns_and_data\u001b[49m\u001b[43m(\u001b[49m\u001b[43marr\u001b[49m\u001b[43m,\u001b[49m\u001b[43m \u001b[49m\u001b[43mcolumns\u001b[49m\u001b[43m,\u001b[49m\u001b[43m \u001b[49m\u001b[43mdtype\u001b[49m\u001b[43m)\u001b[49m\n\u001b[1;32m    808\u001b[0m \u001b[38;5;28;01mreturn\u001b[39;00m content, columns\n",
      "File \u001b[0;32m/opt/homebrew/lib/python3.11/site-packages/pandas/core/internals/construction.py:909\u001b[0m, in \u001b[0;36m_finalize_columns_and_data\u001b[0;34m(content, columns, dtype)\u001b[0m\n\u001b[1;32m    906\u001b[0m     columns \u001b[38;5;241m=\u001b[39m _validate_or_indexify_columns(contents, columns)\n\u001b[1;32m    907\u001b[0m \u001b[38;5;28;01mexcept\u001b[39;00m \u001b[38;5;167;01mAssertionError\u001b[39;00m \u001b[38;5;28;01mas\u001b[39;00m err:\n\u001b[1;32m    908\u001b[0m     \u001b[38;5;66;03m# GH#26429 do not raise user-facing AssertionError\u001b[39;00m\n\u001b[0;32m--> 909\u001b[0m     \u001b[38;5;28;01mraise\u001b[39;00m \u001b[38;5;167;01mValueError\u001b[39;00m(err) \u001b[38;5;28;01mfrom\u001b[39;00m \u001b[38;5;21;01merr\u001b[39;00m\n\u001b[1;32m    911\u001b[0m \u001b[38;5;28;01mif\u001b[39;00m \u001b[38;5;28mlen\u001b[39m(contents) \u001b[38;5;129;01mand\u001b[39;00m contents[\u001b[38;5;241m0\u001b[39m]\u001b[38;5;241m.\u001b[39mdtype \u001b[38;5;241m==\u001b[39m np\u001b[38;5;241m.\u001b[39mobject_:\n\u001b[1;32m    912\u001b[0m     contents \u001b[38;5;241m=\u001b[39m _convert_object_array(contents, dtype\u001b[38;5;241m=\u001b[39mdtype)\n",
      "\u001b[0;31mValueError\u001b[0m: 9 columns passed, passed data had 7 columns"
     ]
    }
   ],
   "source": [
    "reg.predict(getTestData('09-02-2024'))"
   ]
  },
  {
   "cell_type": "code",
   "execution_count": null,
   "id": "dfcf5b74-70d4-4dfe-9135-231086ad618e",
   "metadata": {},
   "outputs": [],
   "source": []
  }
 ],
 "metadata": {
  "kernelspec": {
   "display_name": "Python 3 (ipykernel)",
   "language": "python",
   "name": "python3"
  },
  "language_info": {
   "codemirror_mode": {
    "name": "ipython",
    "version": 3
   },
   "file_extension": ".py",
   "mimetype": "text/x-python",
   "name": "python",
   "nbconvert_exporter": "python",
   "pygments_lexer": "ipython3",
   "version": "3.11.9"
  }
 },
 "nbformat": 4,
 "nbformat_minor": 5
}
