{
 "cells": [
  {
   "cell_type": "code",
   "execution_count": 1,
   "id": "5c3efcfc-6112-4c44-87fc-c6ddcb0d5659",
   "metadata": {},
   "outputs": [],
   "source": [
    "# import\n",
    "from alpha_vantage.timeseries import TimeSeries\n",
    "from alpha_vantage.techindicators import TechIndicators\n",
    "import matplotlib.pyplot as plt\n",
    "import pandas as pd\n",
    "import numpy as np\n",
    "\n",
    "# Read API\n",
    "API_KEY = ''\n",
    "\n",
    "with open('ALPHAVANTAGE_API_KEY') as f:\n",
    "    API_KEY = f.read()\n",
    "\n",
    "ts = TimeSeries(API_KEY, output_format='pandas', indexing_type='integer') \n",
    "ti = TechIndicators(key=API_KEY, output_format='pandas')"
   ]
  },
  {
   "cell_type": "code",
   "execution_count": 51,
   "id": "ab0a2433-fde0-4a5e-bf6e-6e12d49ab9d0",
   "metadata": {},
   "outputs": [],
   "source": [
    "df, dm = ts.get_daily('META')"
   ]
  },
  {
   "cell_type": "code",
   "execution_count": 52,
   "id": "44818d8b-e71c-4169-8326-a21bc9201537",
   "metadata": {},
   "outputs": [
    {
     "data": {
      "text/html": [
       "<div>\n",
       "<style scoped>\n",
       "    .dataframe tbody tr th:only-of-type {\n",
       "        vertical-align: middle;\n",
       "    }\n",
       "\n",
       "    .dataframe tbody tr th {\n",
       "        vertical-align: top;\n",
       "    }\n",
       "\n",
       "    .dataframe thead th {\n",
       "        text-align: right;\n",
       "    }\n",
       "</style>\n",
       "<table border=\"1\" class=\"dataframe\">\n",
       "  <thead>\n",
       "    <tr style=\"text-align: right;\">\n",
       "      <th></th>\n",
       "      <th>index</th>\n",
       "      <th>1. open</th>\n",
       "      <th>2. high</th>\n",
       "      <th>3. low</th>\n",
       "      <th>4. close</th>\n",
       "      <th>5. volume</th>\n",
       "    </tr>\n",
       "    <tr>\n",
       "      <th>index</th>\n",
       "      <th></th>\n",
       "      <th></th>\n",
       "      <th></th>\n",
       "      <th></th>\n",
       "      <th></th>\n",
       "      <th></th>\n",
       "    </tr>\n",
       "  </thead>\n",
       "  <tbody>\n",
       "    <tr>\n",
       "      <th>0</th>\n",
       "      <td>2024-08-02</td>\n",
       "      <td>489.00</td>\n",
       "      <td>501.1450</td>\n",
       "      <td>476.15</td>\n",
       "      <td>488.14</td>\n",
       "      <td>24044658.0</td>\n",
       "    </tr>\n",
       "    <tr>\n",
       "      <th>1</th>\n",
       "      <td>2024-08-01</td>\n",
       "      <td>521.00</td>\n",
       "      <td>527.1709</td>\n",
       "      <td>492.10</td>\n",
       "      <td>497.74</td>\n",
       "      <td>43083082.0</td>\n",
       "    </tr>\n",
       "    <tr>\n",
       "      <th>2</th>\n",
       "      <td>2024-07-31</td>\n",
       "      <td>471.02</td>\n",
       "      <td>476.5000</td>\n",
       "      <td>466.75</td>\n",
       "      <td>474.83</td>\n",
       "      <td>24285777.0</td>\n",
       "    </tr>\n",
       "    <tr>\n",
       "      <th>3</th>\n",
       "      <td>2024-07-30</td>\n",
       "      <td>467.00</td>\n",
       "      <td>472.7300</td>\n",
       "      <td>456.70</td>\n",
       "      <td>463.19</td>\n",
       "      <td>11390439.0</td>\n",
       "    </tr>\n",
       "    <tr>\n",
       "      <th>4</th>\n",
       "      <td>2024-07-29</td>\n",
       "      <td>469.88</td>\n",
       "      <td>473.9600</td>\n",
       "      <td>465.02</td>\n",
       "      <td>465.71</td>\n",
       "      <td>11339630.0</td>\n",
       "    </tr>\n",
       "  </tbody>\n",
       "</table>\n",
       "</div>"
      ],
      "text/plain": [
       "            index  1. open   2. high  3. low  4. close   5. volume\n",
       "index                                                             \n",
       "0      2024-08-02   489.00  501.1450  476.15    488.14  24044658.0\n",
       "1      2024-08-01   521.00  527.1709  492.10    497.74  43083082.0\n",
       "2      2024-07-31   471.02  476.5000  466.75    474.83  24285777.0\n",
       "3      2024-07-30   467.00  472.7300  456.70    463.19  11390439.0\n",
       "4      2024-07-29   469.88  473.9600  465.02    465.71  11339630.0"
      ]
     },
     "execution_count": 52,
     "metadata": {},
     "output_type": "execute_result"
    }
   ],
   "source": [
    "df.head()"
   ]
  },
  {
   "cell_type": "code",
   "execution_count": 53,
   "id": "7ff3efaa",
   "metadata": {},
   "outputs": [],
   "source": [
    "df['day'] = pd.to_datetime(df['index']).dt.day_of_week"
   ]
  },
  {
   "cell_type": "code",
   "execution_count": 54,
   "id": "2692c612",
   "metadata": {},
   "outputs": [
    {
     "data": {
      "text/plain": [
       "index\n",
       "0    -1\n",
       "1    -1\n",
       "2     1\n",
       "3    -1\n",
       "4    -1\n",
       "     ..\n",
       "95    1\n",
       "96   -1\n",
       "97   -1\n",
       "98    1\n",
       "99    1\n",
       "Name: PnL, Length: 100, dtype: int64"
      ]
     },
     "execution_count": 54,
     "metadata": {},
     "output_type": "execute_result"
    }
   ],
   "source": [
    "df['PnL'] = np.where((df['4. close']-df['1. open'])<0, -1, 1)\n",
    "df['PnL']"
   ]
  },
  {
   "cell_type": "code",
   "execution_count": 49,
   "id": "38fb6fa1",
   "metadata": {},
   "outputs": [],
   "source": [
    "# https://medium.com/@smitpate08/unleashing-the-power-of-categorical-relationships-with-pandas-in-python-82fbe3917338\n",
    "# based on this doc, relationship testing\n",
    "from scipy.stats import chi2_contingency\n",
    "\n",
    "def check_relationship(data, alpha = 0.05):\n",
    "    # Get all categorical columns in the DataFrame\n",
    "    categorical_columns = data.columns\n",
    "    results = []\n",
    "    \n",
    "    # Create a copy of the dataframe to avoid modifying the original\n",
    "    data_copy = data.copy()\n",
    "    \n",
    "    # Remove rows containing missing values\n",
    "    data_copy = data_copy.dropna(subset=categorical_columns)\n",
    "    \n",
    "    # Iterate over each pair of categorical columns\n",
    "    for i in range(len(categorical_columns)):\n",
    "        for j in range(i+1, len(categorical_columns)):\n",
    "            col1 = categorical_columns[i]\n",
    "            col2 = categorical_columns[j]\n",
    "            \n",
    "            # Create the contingency table for the two columns\n",
    "            contingency_table = pd.crosstab(data_copy[col1], data_copy[col2])\n",
    "            \n",
    "            # Calculate the chi-squared test of independence\n",
    "            chi2, p, dof, expected = chi2_contingency(contingency_table)\n",
    "            \n",
    "            # Check if we reject the null hypothesis (i.e., if the columns are dependent)\n",
    "            reject_null_hypothesis = p < alpha\n",
    "            dependency = reject_null_hypothesis\n",
    "            \n",
    "            # Add the results to the list of results\n",
    "            results.append({'column': col1, 'column_compared_with': col2, 'p-value': p, 'Null hypothesis rejected': reject_null_hypothesis, 'dependency': dependency})\n",
    "    return pd.DataFrame(results).sort_values(by='p-value', ascending=False)"
   ]
  },
  {
   "cell_type": "code",
   "execution_count": 55,
   "id": "506ee13c",
   "metadata": {},
   "outputs": [
    {
     "data": {
      "text/html": [
       "<div>\n",
       "<style scoped>\n",
       "    .dataframe tbody tr th:only-of-type {\n",
       "        vertical-align: middle;\n",
       "    }\n",
       "\n",
       "    .dataframe tbody tr th {\n",
       "        vertical-align: top;\n",
       "    }\n",
       "\n",
       "    .dataframe thead th {\n",
       "        text-align: right;\n",
       "    }\n",
       "</style>\n",
       "<table border=\"1\" class=\"dataframe\">\n",
       "  <thead>\n",
       "    <tr style=\"text-align: right;\">\n",
       "      <th></th>\n",
       "      <th>column</th>\n",
       "      <th>column_compared_with</th>\n",
       "      <th>p-value</th>\n",
       "      <th>Null hypothesis rejected</th>\n",
       "      <th>dependency</th>\n",
       "    </tr>\n",
       "  </thead>\n",
       "  <tbody>\n",
       "    <tr>\n",
       "      <th>0</th>\n",
       "      <td>day</td>\n",
       "      <td>PnL</td>\n",
       "      <td>0.438971</td>\n",
       "      <td>False</td>\n",
       "      <td>False</td>\n",
       "    </tr>\n",
       "  </tbody>\n",
       "</table>\n",
       "</div>"
      ],
      "text/plain": [
       "  column column_compared_with   p-value  Null hypothesis rejected  dependency\n",
       "0    day                  PnL  0.438971                     False       False"
      ]
     },
     "execution_count": 55,
     "metadata": {},
     "output_type": "execute_result"
    }
   ],
   "source": [
    "check_relationship(df[['day', 'PnL']])"
   ]
  },
  {
   "cell_type": "code",
   "execution_count": 61,
   "id": "fdc44f94",
   "metadata": {},
   "outputs": [],
   "source": [
    "df, dm = ts.get_weekly('META')"
   ]
  },
  {
   "cell_type": "code",
   "execution_count": 62,
   "id": "635df0b4",
   "metadata": {},
   "outputs": [
    {
     "name": "stderr",
     "output_type": "stream",
     "text": [
      "/var/folders/ql/t_pwhj2x01x9pf367dwbv_5c0000gn/T/ipykernel_12478/3216668950.py:1: FutureWarning: Series.dt.weekofyear and Series.dt.week have been deprecated.  Please use Series.dt.isocalendar().week instead.\n",
      "  df['day'] = pd.to_datetime(df['index']).dt.weekofyear\n"
     ]
    }
   ],
   "source": [
    "df['day'] = pd.to_datetime(df['index']).dt.weekofyear\n",
    "df['PnL'] = np.where((df['4. close']-df['1. open'])<0, -1, 1)"
   ]
  },
  {
   "cell_type": "code",
   "execution_count": 63,
   "id": "88c131dd",
   "metadata": {},
   "outputs": [
    {
     "data": {
      "text/html": [
       "<div>\n",
       "<style scoped>\n",
       "    .dataframe tbody tr th:only-of-type {\n",
       "        vertical-align: middle;\n",
       "    }\n",
       "\n",
       "    .dataframe tbody tr th {\n",
       "        vertical-align: top;\n",
       "    }\n",
       "\n",
       "    .dataframe thead th {\n",
       "        text-align: right;\n",
       "    }\n",
       "</style>\n",
       "<table border=\"1\" class=\"dataframe\">\n",
       "  <thead>\n",
       "    <tr style=\"text-align: right;\">\n",
       "      <th></th>\n",
       "      <th>column</th>\n",
       "      <th>column_compared_with</th>\n",
       "      <th>p-value</th>\n",
       "      <th>Null hypothesis rejected</th>\n",
       "      <th>dependency</th>\n",
       "    </tr>\n",
       "  </thead>\n",
       "  <tbody>\n",
       "    <tr>\n",
       "      <th>0</th>\n",
       "      <td>day</td>\n",
       "      <td>PnL</td>\n",
       "      <td>0.766047</td>\n",
       "      <td>False</td>\n",
       "      <td>False</td>\n",
       "    </tr>\n",
       "  </tbody>\n",
       "</table>\n",
       "</div>"
      ],
      "text/plain": [
       "  column column_compared_with   p-value  Null hypothesis rejected  dependency\n",
       "0    day                  PnL  0.766047                     False       False"
      ]
     },
     "execution_count": 63,
     "metadata": {},
     "output_type": "execute_result"
    }
   ],
   "source": [
    "check_relationship(df[['day', 'PnL']])"
   ]
  },
  {
   "cell_type": "code",
   "execution_count": null,
   "id": "58e7eba0",
   "metadata": {},
   "outputs": [],
   "source": []
  }
 ],
 "metadata": {
  "kernelspec": {
   "display_name": "Python 3 (ipykernel)",
   "language": "python",
   "name": "python3"
  },
  "language_info": {
   "codemirror_mode": {
    "name": "ipython",
    "version": 3
   },
   "file_extension": ".py",
   "mimetype": "text/x-python",
   "name": "python",
   "nbconvert_exporter": "python",
   "pygments_lexer": "ipython3",
   "version": "3.11.9"
  }
 },
 "nbformat": 4,
 "nbformat_minor": 5
}
