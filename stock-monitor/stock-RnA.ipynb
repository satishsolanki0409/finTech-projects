{
 "cells": [
  {
   "cell_type": "markdown",
   "id": "3792b6ce-112a-46ed-9f4d-93c06c88ca08",
   "metadata": {},
   "source": [
    "## Objective:\n",
    "\n",
    "At a high level, we want to answer the following questions:\n",
    "- Measure the performance of the stock.\n",
    "- Analyze the stocks and develop a strategy\n",
    "- Risk of investment in specific stocks\n",
    "- which stocks to buy right now? and for how long?"
   ]
  },
  {
   "cell_type": "markdown",
   "id": "0a1cb98f-64a4-4328-9c3a-2a501716efc0",
   "metadata": {},
   "source": [
    "## Information Source\n",
    "\n",
    "### 1. Finviz\n",
    "It is well well-known free source of information related to the stock market and companies. Moreover, it has news articles, that can be leveraged to further prediction of the market.\n",
    "\n",
    "There are two python packages: (1) finviz(most stared, but not good)  (2) finvizfinance (USEFUL)\n",
    "\n",
    "Some important links related to finvizfinance\n",
    "1. Doc: https://finvizfinance.readthedocs.io/en/latest/"
   ]
  },
  {
   "cell_type": "code",
   "execution_count": 1,
   "id": "9f0edacb-2f93-4138-9b4f-a76ab2d5996d",
   "metadata": {},
   "outputs": [],
   "source": [
    "# get price of a stock (lets say \"VOO\" Vangaurd S&P 500)\n",
    "ticker = \"VOO\""
   ]
  },
  {
   "cell_type": "markdown",
   "id": "e5a58ff0-e36b-458b-b42e-c49d16856323",
   "metadata": {},
   "source": [
    "## Beta"
   ]
  },
  {
   "cell_type": "markdown",
   "id": "4ba9c88a-bcf8-4bf7-aba6-4042bd0c9d87",
   "metadata": {},
   "source": [
    "Think about risk into two categories. \n",
    "\n",
    "1) systematic risk, which is the risk of the entire market declining.\n",
    "   Example: The financial crisis in 2008 is an example of a systematic-risk event; no amount of diversification could have prevented investors from losing value in their stock portfolios. Systematic risk is also known as un-diversifiable risk.\n",
    "\n",
    "2) Unsystematic risk, also known as diversifiable risk, is the uncertainty associated with an individual stock or industry.\n",
    "   Example, the surprise announcement that the company Lumber Liquidators (LL) had been selling hardwood flooring with dangerous levels of formaldehyde in 2015 is an example of unsystematic risk. Lumber Liquidators. \"Lumber Liquidators Provides Update On Laminate Flooring Sourced From China.\"\n",
    "It was risk that was specific to that company. **Unsystematic risk can be partially mitigated through diversification**.\n",
    "\n",
    "NOTE: **Beta cannot estimate Unsystematic Risk.**"
   ]
  },
  {
   "cell_type": "markdown",
   "id": "bcc1f8eb-fca1-44d1-8050-93f1749f5363",
   "metadata": {},
   "source": [
    "#### Beta = 1.0\n",
    "Price activity is strongly correlated with the market. A stock has systematic risk. \n",
    "\n",
    "Adding a stock to a portfolio: **doesn’t add any risk to the portfolio, also doesn’t increase the likelihood that the portfolio will provide an excess return.**\n",
    "\n",
    "#### Beta < 1.0\n",
    "Theoretically less volatile than the market. \n",
    "\n",
    "Adding this stock to a portfolio: **makes it less risky.** For example, utility stocks often have low betas because they tend to move more slowly than market averages.\n",
    "\n",
    "#### Beta > 1.0\n",
    "Price is theoretically more volatile than the market. For example, if a stock's beta is 1.2, it is assumed to be 20% more volatile than the market. \n",
    "\n",
    "Example: Technology stocks and small cap stocks tend to have higher betas than the market benchmark. This indicates that adding the stock to a portfolio will increase the portfolio’s risk, but may also increase its expected return.\n",
    "\n",
    "#### Beta < 0\n",
    "A beta of -1.0 means that the stock is inversely correlated to the market benchmark on a 1:1 basis. This stock could be thought of as an opposite, mirror image of the benchmark’s trends. \n",
    "\n",
    "Example: **Put options and inverse ETFs are designed to have negative betas.** There are also a few industry groups, like gold miners, where a negative beta is also common.\n",
    "\n",
    "#### Assumtion in Beta\n",
    "Assumes that stock returns are normally distributed from a statistical perspective. \n",
    "However, **financial markets are prone to large surprises**. In reality, returns aren’t always normally distributed. \n",
    "\n",
    "NOTE: **It's recommended that investors using beta to evaluate a stock also evaluate it from other perspectives—such as fundamental or technical factors—before assuming it will add or remove risk from a portfolio.**\n",
    "\n",
    "#### Drawbacks/Limitation of Beta\n",
    "- **Beta is useful in determining a security's short-term risk, and for analyzing volatility to arrive at equity costs when using the CAPM.**\n",
    "- Beta is less meaningful for investors looking to predict a stock's future movements.\n",
    "- Beta is also less useful for long-term investments since a stock's volatility can change significantly from year to year\n",
    "- Beta of a particular stock tends to jump around over time, which makes it unreliable as a stable measure.\n",
    "- Many experts agree that while Beta provides some information about risk, it is not an effective measure of risk on its own."
   ]
  },
  {
   "cell_type": "code",
   "execution_count": 2,
   "id": "8cc58103-05e7-46f2-b5a4-c7376c89382b",
   "metadata": {},
   "outputs": [],
   "source": [
    "from finvizfinance.quote import finvizfinance as fin"
   ]
  },
  {
   "cell_type": "code",
   "execution_count": 3,
   "id": "7ab7b2be-57fd-4841-a68a-1399a4f16520",
   "metadata": {},
   "outputs": [],
   "source": [
    "stock = fin(ticker)"
   ]
  },
  {
   "cell_type": "code",
   "execution_count": 4,
   "id": "ab6b215e-aedb-4ac3-a2de-7a7819afe10e",
   "metadata": {},
   "outputs": [
    {
     "data": {
      "text/html": [
       "<div>\n",
       "<style scoped>\n",
       "    .dataframe tbody tr th:only-of-type {\n",
       "        vertical-align: middle;\n",
       "    }\n",
       "\n",
       "    .dataframe tbody tr th {\n",
       "        vertical-align: top;\n",
       "    }\n",
       "\n",
       "    .dataframe thead th {\n",
       "        text-align: right;\n",
       "    }\n",
       "</style>\n",
       "<table border=\"1\" class=\"dataframe\">\n",
       "  <thead>\n",
       "    <tr style=\"text-align: right;\">\n",
       "      <th></th>\n",
       "      <th>Date</th>\n",
       "      <th>Title</th>\n",
       "      <th>Link</th>\n",
       "    </tr>\n",
       "  </thead>\n",
       "  <tbody>\n",
       "    <tr>\n",
       "      <th>0</th>\n",
       "      <td>2023-08-13 12:48:00</td>\n",
       "      <td>Big-box earnings, retail sales, Fed minutes: W...</td>\n",
       "      <td>https://finance.yahoo.com/news/big-box-earning...</td>\n",
       "    </tr>\n",
       "    <tr>\n",
       "      <th>1</th>\n",
       "      <td>2023-06-17 19:28:00</td>\n",
       "      <td>This Simple but Effective Fund Is 2023s Most P...</td>\n",
       "      <td>https://finance.yahoo.com/news/simple-effectiv...</td>\n",
       "    </tr>\n",
       "    <tr>\n",
       "      <th>2</th>\n",
       "      <td>2023-03-15 12:00:00</td>\n",
       "      <td>Allan Roth: Is Direct Indexing Better Than ETFs?</td>\n",
       "      <td>https://finance.yahoo.com/news/allan-roth-dire...</td>\n",
       "    </tr>\n",
       "    <tr>\n",
       "      <th>3</th>\n",
       "      <td>2023-02-28 14:45:00</td>\n",
       "      <td>Small ETFs Gaining Traction in 2023</td>\n",
       "      <td>https://finance.yahoo.com/news/fastest-growing...</td>\n",
       "    </tr>\n",
       "    <tr>\n",
       "      <th>4</th>\n",
       "      <td>2023-02-09 16:00:00</td>\n",
       "      <td>Zero Fee ETF Crosses $1B in AUM for First Time</td>\n",
       "      <td>https://finance.yahoo.com/news/zero-fee-etf-cr...</td>\n",
       "    </tr>\n",
       "    <tr>\n",
       "      <th>...</th>\n",
       "      <td>...</td>\n",
       "      <td>...</td>\n",
       "      <td>...</td>\n",
       "    </tr>\n",
       "    <tr>\n",
       "      <th>95</th>\n",
       "      <td>2020-06-23 17:37:00</td>\n",
       "      <td>Most Popular ETFs on Robinhood</td>\n",
       "      <td>https://finance.yahoo.com/news/most-popular-et...</td>\n",
       "    </tr>\n",
       "    <tr>\n",
       "      <th>96</th>\n",
       "      <td>2020-06-10 00:00:00</td>\n",
       "      <td>Robinhood's Favorite ETFs</td>\n",
       "      <td>https://finance.yahoo.com/news/robinhoods-favo...</td>\n",
       "    </tr>\n",
       "    <tr>\n",
       "      <th>97</th>\n",
       "      <td>2020-06-08 15:56:00</td>\n",
       "      <td>Recessions: 10 Facts You Must Know</td>\n",
       "      <td>https://finance.yahoo.com/news/recessions-10-f...</td>\n",
       "    </tr>\n",
       "    <tr>\n",
       "      <th>98</th>\n",
       "      <td>2020-05-24 07:07:00</td>\n",
       "      <td>2020 Stock Market Holidays and Bond Market Hol...</td>\n",
       "      <td>https://finance.yahoo.com/news/2020-stock-mark...</td>\n",
       "    </tr>\n",
       "    <tr>\n",
       "      <th>99</th>\n",
       "      <td>2020-05-24 07:05:00</td>\n",
       "      <td>Does the Stock Market Close Early for Memorial...</td>\n",
       "      <td>https://finance.yahoo.com/news/does-stock-mark...</td>\n",
       "    </tr>\n",
       "  </tbody>\n",
       "</table>\n",
       "<p>100 rows × 3 columns</p>\n",
       "</div>"
      ],
      "text/plain": [
       "                  Date                                              Title  \\\n",
       "0  2023-08-13 12:48:00  Big-box earnings, retail sales, Fed minutes: W...   \n",
       "1  2023-06-17 19:28:00  This Simple but Effective Fund Is 2023s Most P...   \n",
       "2  2023-03-15 12:00:00   Allan Roth: Is Direct Indexing Better Than ETFs?   \n",
       "3  2023-02-28 14:45:00                Small ETFs Gaining Traction in 2023   \n",
       "4  2023-02-09 16:00:00     Zero Fee ETF Crosses $1B in AUM for First Time   \n",
       "..                 ...                                                ...   \n",
       "95 2020-06-23 17:37:00                     Most Popular ETFs on Robinhood   \n",
       "96 2020-06-10 00:00:00                          Robinhood's Favorite ETFs   \n",
       "97 2020-06-08 15:56:00                 Recessions: 10 Facts You Must Know   \n",
       "98 2020-05-24 07:07:00  2020 Stock Market Holidays and Bond Market Hol...   \n",
       "99 2020-05-24 07:05:00  Does the Stock Market Close Early for Memorial...   \n",
       "\n",
       "                                                 Link  \n",
       "0   https://finance.yahoo.com/news/big-box-earning...  \n",
       "1   https://finance.yahoo.com/news/simple-effectiv...  \n",
       "2   https://finance.yahoo.com/news/allan-roth-dire...  \n",
       "3   https://finance.yahoo.com/news/fastest-growing...  \n",
       "4   https://finance.yahoo.com/news/zero-fee-etf-cr...  \n",
       "..                                                ...  \n",
       "95  https://finance.yahoo.com/news/most-popular-et...  \n",
       "96  https://finance.yahoo.com/news/robinhoods-favo...  \n",
       "97  https://finance.yahoo.com/news/recessions-10-f...  \n",
       "98  https://finance.yahoo.com/news/2020-stock-mark...  \n",
       "99  https://finance.yahoo.com/news/does-stock-mark...  \n",
       "\n",
       "[100 rows x 3 columns]"
      ]
     },
     "execution_count": 4,
     "metadata": {},
     "output_type": "execute_result"
    }
   ],
   "source": [
    "stock.ticker_news()"
   ]
  },
  {
   "cell_type": "code",
   "execution_count": 5,
   "id": "a35a89e7-3c74-426c-8a5c-0dbb70edaaf1",
   "metadata": {},
   "outputs": [
    {
     "data": {
      "text/plain": [
       "'387.39'"
      ]
     },
     "execution_count": 5,
     "metadata": {},
     "output_type": "execute_result"
    }
   ],
   "source": [
    "stock.ticker_fundament().get('Price')"
   ]
  },
  {
   "cell_type": "code",
   "execution_count": 6,
   "id": "2e19710c-9128-4b33-80bb-bf44c6c3d503",
   "metadata": {},
   "outputs": [
    {
     "data": {
      "text/plain": [
       "dict_keys(['news', 'fundament'])"
      ]
     },
     "execution_count": 6,
     "metadata": {},
     "output_type": "execute_result"
    }
   ],
   "source": [
    "stock.info.keys()"
   ]
  },
  {
   "cell_type": "code",
   "execution_count": 7,
   "id": "22d1cccb-ad46-4cd5-b70f-e3841884f1d8",
   "metadata": {},
   "outputs": [
    {
     "data": {
      "text/plain": [
       "'https://finviz.com/chart.ashx?t=VOO&ty=c&ta=1&p=d'"
      ]
     },
     "execution_count": 7,
     "metadata": {},
     "output_type": "execute_result"
    }
   ],
   "source": [
    "stock.ticker_charts()"
   ]
  },
  {
   "cell_type": "markdown",
   "id": "22996357-f9d2-4ec8-8046-28cf339a2982",
   "metadata": {},
   "source": [
    "The finviz is useful to collect non-time series data OR data at current point of time. Use yfinance or pandas_datareader to capture stock prices.\n",
    "\n",
    "Use past 2 year's price and compare. Older data have huge impact of Covid, and other macroscopic factors."
   ]
  },
  {
   "cell_type": "markdown",
   "id": "ea45a23e-9fc3-4c11-8cab-9cd0f0b5718c",
   "metadata": {},
   "source": [
    "## yfinance\n",
    "Github: https://github.com/ranaroussi/yfinance"
   ]
  },
  {
   "cell_type": "code",
   "execution_count": 8,
   "id": "6e93cff0-1d79-4a4e-8e41-5a93fe86350e",
   "metadata": {},
   "outputs": [],
   "source": [
    "import yfinance as yf\n",
    "from datetime import datetime"
   ]
  },
  {
   "cell_type": "code",
   "execution_count": 9,
   "id": "e710fabf-bd48-4393-9073-a7d206d938c8",
   "metadata": {},
   "outputs": [],
   "source": [
    "ticker='msft'\n",
    "msft = yf.Ticker(ticker)"
   ]
  },
  {
   "cell_type": "code",
   "execution_count": 10,
   "id": "6d85ab37-947b-4f8d-831d-12b08278f42e",
   "metadata": {},
   "outputs": [
    {
     "data": {
      "text/plain": [
       "lazy-loading dict with keys = ['currency', 'dayHigh', 'dayLow', 'exchange', 'fiftyDayAverage', 'lastPrice', 'lastVolume', 'marketCap', 'open', 'previousClose', 'quoteType', 'regularMarketPreviousClose', 'shares', 'tenDayAverageVolume', 'threeMonthAverageVolume', 'timezone', 'twoHundredDayAverage', 'yearChange', 'yearHigh', 'yearLow']"
      ]
     },
     "execution_count": 10,
     "metadata": {},
     "output_type": "execute_result"
    }
   ],
   "source": [
    "msft.basic_info"
   ]
  },
  {
   "cell_type": "code",
   "execution_count": 11,
   "id": "114b6dad-f5ba-4dba-8c82-0ec2c7be3945",
   "metadata": {},
   "outputs": [
    {
     "data": {
      "text/plain": [
       "{'address1': 'One Microsoft Way',\n",
       " 'city': 'Redmond',\n",
       " 'state': 'WA',\n",
       " 'zip': '98052-6399',\n",
       " 'country': 'United States',\n",
       " 'phone': '425 882 8080',\n",
       " 'website': 'https://www.microsoft.com',\n",
       " 'industry': 'Software - Infrastructure',\n",
       " 'industryKey': 'software-infrastructure',\n",
       " 'industryDisp': 'Software - Infrastructure',\n",
       " 'sector': 'Technology',\n",
       " 'sectorKey': 'technology',\n",
       " 'sectorDisp': 'Technology',\n",
       " 'longBusinessSummary': 'Microsoft Corporation develops and supports software, services, devices and solutions worldwide. The Productivity and Business Processes segment offers office, exchange, SharePoint, Microsoft Teams, office 365 Security and Compliance, Microsoft viva, and Microsoft 365 copilot; and office consumer services, such as Microsoft 365 consumer subscriptions, Office licensed on-premises, and other office services. This segment also provides LinkedIn; and dynamics business solutions, including Dynamics 365, a set of intelligent, cloud-based applications across ERP, CRM, power apps, and power automate; and on-premises ERP and CRM applications. The Intelligent Cloud segment provides server products and cloud services, such as azure and other cloud services; SQL and windows server, visual studio, system center, and related client access licenses, as well as nuance and GitHub; and enterprise services including enterprise support services, industry solutions, and nuance professional services. The More Personal Computing segment offers Windows, including windows OEM licensing and other non-volume licensing of the Windows operating system; Windows commercial comprising volume licensing of the Windows operating system, windows cloud services, and other Windows commercial offerings; patent licensing; and windows Internet of Things; and devices, such as surface, HoloLens, and PC accessories. Additionally, this segment provides gaming, which includes Xbox hardware and content, and first- and third-party content; Xbox game pass and other subscriptions, cloud gaming, advertising, third-party disc royalties, and other cloud services; and search and news advertising, which includes Bing, Microsoft News and Edge, and third-party affiliates. The company sells its products through OEMs, distributors, and resellers; and directly through digital marketplaces, online, and retail stores. The company was founded in 1975 and is headquartered in Redmond, Washington.',\n",
       " 'fullTimeEmployees': 221000,\n",
       " 'companyOfficers': [{'maxAge': 1,\n",
       "   'name': 'Mr. Satya  Nadella',\n",
       "   'age': 55,\n",
       "   'title': 'Chairman & CEO',\n",
       "   'yearBorn': 1967,\n",
       "   'fiscalYear': 2022,\n",
       "   'totalPay': 12676750,\n",
       "   'exercisedValue': 0,\n",
       "   'unexercisedValue': 0},\n",
       "  {'maxAge': 1,\n",
       "   'name': 'Mr. Bradford L. Smith LCA',\n",
       "   'age': 63,\n",
       "   'title': 'Pres & Vice Chairman',\n",
       "   'yearBorn': 1959,\n",
       "   'fiscalYear': 2022,\n",
       "   'totalPay': 4655274,\n",
       "   'exercisedValue': 0,\n",
       "   'unexercisedValue': 0},\n",
       "  {'maxAge': 1,\n",
       "   'name': 'Ms. Amy E. Hood',\n",
       "   'age': 50,\n",
       "   'title': 'Exec. VP & CFO',\n",
       "   'yearBorn': 1972,\n",
       "   'fiscalYear': 2022,\n",
       "   'totalPay': 4637915,\n",
       "   'exercisedValue': 0,\n",
       "   'unexercisedValue': 0},\n",
       "  {'maxAge': 1,\n",
       "   'name': 'Mr. Judson  Althoff',\n",
       "   'age': 49,\n",
       "   'title': 'Exec. VP & Chief Commercial Officer',\n",
       "   'yearBorn': 1973,\n",
       "   'fiscalYear': 2022,\n",
       "   'totalPay': 4428268,\n",
       "   'exercisedValue': 0,\n",
       "   'unexercisedValue': 0},\n",
       "  {'maxAge': 1,\n",
       "   'name': 'Mr. Christopher David Young',\n",
       "   'age': 50,\n",
       "   'title': 'Exec. VP of Bus. Devel., Strategy & Ventures',\n",
       "   'yearBorn': 1972,\n",
       "   'fiscalYear': 2022,\n",
       "   'totalPay': 4588876,\n",
       "   'exercisedValue': 0,\n",
       "   'unexercisedValue': 0},\n",
       "  {'maxAge': 1,\n",
       "   'name': 'Ms. Alice L. Jolla',\n",
       "   'age': 55,\n",
       "   'title': 'Corp. VP & Chief Accounting Officer',\n",
       "   'yearBorn': 1967,\n",
       "   'exercisedValue': 0,\n",
       "   'unexercisedValue': 0},\n",
       "  {'maxAge': 1,\n",
       "   'name': 'Mr. James Kevin Scott',\n",
       "   'age': 50,\n",
       "   'title': 'Exec. VP of AI & CTO',\n",
       "   'yearBorn': 1972,\n",
       "   'exercisedValue': 0,\n",
       "   'unexercisedValue': 0},\n",
       "  {'maxAge': 1,\n",
       "   'name': 'Brett  Iversen',\n",
       "   'title': 'VP of Investor Relations',\n",
       "   'exercisedValue': 0,\n",
       "   'unexercisedValue': 0},\n",
       "  {'maxAge': 1,\n",
       "   'name': 'Mr. Hossein  Nowbar',\n",
       "   'title': 'Chief Legal Officer',\n",
       "   'exercisedValue': 0,\n",
       "   'unexercisedValue': 0},\n",
       "  {'maxAge': 1,\n",
       "   'name': 'Mr. Frank X. Shaw',\n",
       "   'title': 'Chief Communications Officer',\n",
       "   'exercisedValue': 0,\n",
       "   'unexercisedValue': 0}],\n",
       " 'auditRisk': 6,\n",
       " 'boardRisk': 3,\n",
       " 'compensationRisk': 3,\n",
       " 'shareHolderRightsRisk': 2,\n",
       " 'overallRisk': 2,\n",
       " 'governanceEpochDate': 1696118400,\n",
       " 'compensationAsOfEpochDate': 1672444800,\n",
       " 'maxAge': 86400,\n",
       " 'priceHint': 2,\n",
       " 'previousClose': 321.8,\n",
       " 'open': 320.83,\n",
       " 'dayLow': 311.215,\n",
       " 'dayHigh': 321.39,\n",
       " 'regularMarketPreviousClose': 321.8,\n",
       " 'regularMarketOpen': 320.83,\n",
       " 'regularMarketDayLow': 311.215,\n",
       " 'regularMarketDayHigh': 321.39,\n",
       " 'dividendRate': 3.0,\n",
       " 'dividendYield': 0.0093,\n",
       " 'exDividendDate': 1700006400,\n",
       " 'payoutRatio': 0.2748,\n",
       " 'fiveYearAvgDividendYield': 1.04,\n",
       " 'beta': 0.904564,\n",
       " 'trailingPE': 32.34159,\n",
       " 'forwardPE': 24.813145,\n",
       " 'volume': 19895814,\n",
       " 'regularMarketVolume': 19895814,\n",
       " 'averageVolume': 24874421,\n",
       " 'averageVolume10days': 22735140,\n",
       " 'averageDailyVolume10Day': 22735140,\n",
       " 'bid': 313.29,\n",
       " 'ask': 313.71,\n",
       " 'bidSize': 1100,\n",
       " 'askSize': 800,\n",
       " 'marketCap': 2328412553216,\n",
       " 'fiftyTwoWeekLow': 213.43,\n",
       " 'fiftyTwoWeekHigh': 366.78,\n",
       " 'priceToSalesTrailing12Months': 10.987484,\n",
       " 'fiftyDayAverage': 326.2602,\n",
       " 'twoHundredDayAverage': 296.7448,\n",
       " 'trailingAnnualDividendRate': 2.72,\n",
       " 'trailingAnnualDividendYield': 0.0084524555,\n",
       " 'currency': 'USD',\n",
       " 'enterpriseValue': 2359082876928,\n",
       " 'profitMargins': 0.34146,\n",
       " 'floatShares': 7423522720,\n",
       " 'sharesOutstanding': 7429760000,\n",
       " 'sharesShort': 41145504,\n",
       " 'sharesShortPriorMonth': 31028035,\n",
       " 'sharesShortPreviousMonthDate': 1692057600,\n",
       " 'dateShortInterest': 1694736000,\n",
       " 'sharesPercentSharesOut': 0.0055,\n",
       " 'heldPercentInsiders': 0.00052,\n",
       " 'heldPercentInstitutions': 0.73212,\n",
       " 'shortRatio': 2.04,\n",
       " 'shortPercentOfFloat': 0.0055,\n",
       " 'impliedSharesOutstanding': 7429760000,\n",
       " 'bookValue': 27.748,\n",
       " 'priceToBook': 11.294148,\n",
       " 'lastFiscalYearEnd': 1688083200,\n",
       " 'nextFiscalYearEnd': 1719705600,\n",
       " 'mostRecentQuarter': 1688083200,\n",
       " 'earningsQuarterlyGrowth': 0.2,\n",
       " 'netIncomeToCommon': 72361000960,\n",
       " 'trailingEps': 9.69,\n",
       " 'forwardEps': 12.63,\n",
       " 'pegRatio': 2.04,\n",
       " 'lastSplitFactor': '2:1',\n",
       " 'lastSplitDate': 1045526400,\n",
       " 'enterpriseToRevenue': 11.132,\n",
       " 'enterpriseToEbitda': 23.123,\n",
       " '52WeekChange': 0.2575842,\n",
       " 'SandP52WeekChange': 0.11793208,\n",
       " 'lastDividendValue': 0.68,\n",
       " 'lastDividendDate': 1692144000,\n",
       " 'exchange': 'NMS',\n",
       " 'quoteType': 'EQUITY',\n",
       " 'symbol': 'MSFT',\n",
       " 'underlyingSymbol': 'MSFT',\n",
       " 'shortName': 'Microsoft Corporation',\n",
       " 'longName': 'Microsoft Corporation',\n",
       " 'firstTradeDateEpochUtc': 511108200,\n",
       " 'timeZoneFullName': 'America/New_York',\n",
       " 'timeZoneShortName': 'EDT',\n",
       " 'uuid': 'b004b3ec-de24-385e-b2c1-923f10d3fb62',\n",
       " 'messageBoardId': 'finmb_21835',\n",
       " 'gmtOffSetMilliseconds': -14400000,\n",
       " 'currentPrice': 313.39,\n",
       " 'targetHighPrice': 440.0,\n",
       " 'targetLowPrice': 285.0,\n",
       " 'targetMeanPrice': 391.14,\n",
       " 'targetMedianPrice': 400.0,\n",
       " 'recommendationMean': 1.7,\n",
       " 'recommendationKey': 'buy',\n",
       " 'numberOfAnalystOpinions': 42,\n",
       " 'totalCash': 111256002560,\n",
       " 'totalCashPerShare': 14.974,\n",
       " 'ebitda': 102022995968,\n",
       " 'totalDebt': 79441002496,\n",
       " 'quickRatio': 1.536,\n",
       " 'currentRatio': 1.769,\n",
       " 'totalRevenue': 211914997760,\n",
       " 'debtToEquity': 38.522,\n",
       " 'revenuePerShare': 28.46,\n",
       " 'returnOnAssets': 0.14245,\n",
       " 'returnOnEquity': 0.38824,\n",
       " 'freeCashflow': 47268999168,\n",
       " 'operatingCashflow': 87581999104,\n",
       " 'earningsGrowth': 0.202,\n",
       " 'revenueGrowth': 0.083,\n",
       " 'grossMargins': 0.6892,\n",
       " 'ebitdaMargins': 0.48143002,\n",
       " 'operatingMargins': 0.41772997,\n",
       " 'financialCurrency': 'USD',\n",
       " 'trailingPegRatio': 2.3142}"
      ]
     },
     "execution_count": 11,
     "metadata": {},
     "output_type": "execute_result"
    }
   ],
   "source": [
    "msft.info"
   ]
  },
  {
   "cell_type": "code",
   "execution_count": 12,
   "id": "b261ea2c-4b3b-4260-9647-780d92d19875",
   "metadata": {},
   "outputs": [
    {
     "data": {
      "text/plain": [
       "7429760000"
      ]
     },
     "execution_count": 12,
     "metadata": {},
     "output_type": "execute_result"
    }
   ],
   "source": [
    "# index funds like voo does not show outstanding shares\n",
    "outstandingShare = msft.info.get('sharesOutstanding') \n",
    "outstandingShare"
   ]
  },
  {
   "cell_type": "code",
   "execution_count": 13,
   "id": "2033723b-24c0-4bc3-bc2c-14f704d18518",
   "metadata": {},
   "outputs": [
    {
     "data": {
      "text/plain": [
       "Date\n",
       "1987-09-21 00:00:00-04:00    2.0\n",
       "1990-04-16 00:00:00-04:00    2.0\n",
       "1991-06-27 00:00:00-04:00    1.5\n",
       "1992-06-15 00:00:00-04:00    1.5\n",
       "1994-05-23 00:00:00-04:00    2.0\n",
       "1996-12-09 00:00:00-05:00    2.0\n",
       "1998-02-23 00:00:00-05:00    2.0\n",
       "1999-03-29 00:00:00-05:00    2.0\n",
       "2003-02-18 00:00:00-05:00    2.0\n",
       "Name: Stock Splits, dtype: float64"
      ]
     },
     "execution_count": 13,
     "metadata": {},
     "output_type": "execute_result"
    }
   ],
   "source": [
    "msft.splits # show split history"
   ]
  },
  {
   "cell_type": "markdown",
   "id": "548ae3d6-79f1-4fe6-b7f2-6dede5ed5a52",
   "metadata": {},
   "source": [
    "A stock split happens when a company increases the number of its shares to boost the stock's liquidity. Although the number of shares outstanding increases by a specific multiple, the total dollar value of all shares outstanding remains the same because a split does not fundamentally change the company's value. \n",
    "\n",
    "A company elects to perform a stock split to intentionally lower the price of a single share, making the company's stock more affordable without losing value."
   ]
  },
  {
   "cell_type": "code",
   "execution_count": 14,
   "id": "fe67d773-e6a0-4beb-8f45-fd65e3a030ae",
   "metadata": {},
   "outputs": [],
   "source": [
    "#msft.recommendations # not implemented, hence use another package"
   ]
  },
  {
   "cell_type": "code",
   "execution_count": 15,
   "id": "094e2297-dc7d-47e8-8a16-c9643c7a8907",
   "metadata": {},
   "outputs": [
    {
     "data": {
      "text/plain": [
       "Date\n",
       "2003-02-19 00:00:00-05:00    0.08\n",
       "2003-10-15 00:00:00-04:00    0.16\n",
       "2004-08-23 00:00:00-04:00    0.08\n",
       "2004-11-15 00:00:00-05:00    3.08\n",
       "2005-02-15 00:00:00-05:00    0.08\n",
       "                             ... \n",
       "2022-08-17 00:00:00-04:00    0.62\n",
       "2022-11-16 00:00:00-05:00    0.68\n",
       "2023-02-15 00:00:00-05:00    0.68\n",
       "2023-05-17 00:00:00-04:00    0.68\n",
       "2023-08-16 00:00:00-04:00    0.68\n",
       "Name: Dividends, Length: 79, dtype: float64"
      ]
     },
     "execution_count": 15,
     "metadata": {},
     "output_type": "execute_result"
    }
   ],
   "source": [
    "dvdnd = msft.dividends # divident history per share\n",
    "dvdnd"
   ]
  },
  {
   "cell_type": "code",
   "execution_count": 16,
   "id": "390a4266-9131-4086-9770-fc78534456fc",
   "metadata": {},
   "outputs": [
    {
     "data": {
      "text/plain": [
       "pandas.core.series.Series"
      ]
     },
     "execution_count": 16,
     "metadata": {},
     "output_type": "execute_result"
    }
   ],
   "source": [
    "type(dvdnd)"
   ]
  },
  {
   "cell_type": "code",
   "execution_count": 17,
   "id": "dcf7f07f-d0b3-4003-a378-b381b8701efd",
   "metadata": {},
   "outputs": [],
   "source": [
    "import pandas as pd\n",
    "df = pd.DataFrame(dvdnd)"
   ]
  },
  {
   "cell_type": "code",
   "execution_count": 18,
   "id": "d658b144-8e18-49cb-a523-7b93b9c3f417",
   "metadata": {},
   "outputs": [
    {
     "data": {
      "text/html": [
       "<div>\n",
       "<style scoped>\n",
       "    .dataframe tbody tr th:only-of-type {\n",
       "        vertical-align: middle;\n",
       "    }\n",
       "\n",
       "    .dataframe tbody tr th {\n",
       "        vertical-align: top;\n",
       "    }\n",
       "\n",
       "    .dataframe thead th {\n",
       "        text-align: right;\n",
       "    }\n",
       "</style>\n",
       "<table border=\"1\" class=\"dataframe\">\n",
       "  <thead>\n",
       "    <tr style=\"text-align: right;\">\n",
       "      <th></th>\n",
       "      <th>Dividends</th>\n",
       "    </tr>\n",
       "    <tr>\n",
       "      <th>Date</th>\n",
       "      <th></th>\n",
       "    </tr>\n",
       "  </thead>\n",
       "  <tbody>\n",
       "    <tr>\n",
       "      <th>2003-02-19 00:00:00-05:00</th>\n",
       "      <td>0.08</td>\n",
       "    </tr>\n",
       "    <tr>\n",
       "      <th>2003-10-15 00:00:00-04:00</th>\n",
       "      <td>0.16</td>\n",
       "    </tr>\n",
       "    <tr>\n",
       "      <th>2004-08-23 00:00:00-04:00</th>\n",
       "      <td>0.08</td>\n",
       "    </tr>\n",
       "    <tr>\n",
       "      <th>2004-11-15 00:00:00-05:00</th>\n",
       "      <td>3.08</td>\n",
       "    </tr>\n",
       "    <tr>\n",
       "      <th>2005-02-15 00:00:00-05:00</th>\n",
       "      <td>0.08</td>\n",
       "    </tr>\n",
       "  </tbody>\n",
       "</table>\n",
       "</div>"
      ],
      "text/plain": [
       "                           Dividends\n",
       "Date                                \n",
       "2003-02-19 00:00:00-05:00       0.08\n",
       "2003-10-15 00:00:00-04:00       0.16\n",
       "2004-08-23 00:00:00-04:00       0.08\n",
       "2004-11-15 00:00:00-05:00       3.08\n",
       "2005-02-15 00:00:00-05:00       0.08"
      ]
     },
     "execution_count": 18,
     "metadata": {},
     "output_type": "execute_result"
    }
   ],
   "source": [
    "df.head()"
   ]
  },
  {
   "cell_type": "code",
   "execution_count": 19,
   "id": "8389d78b-48d7-4604-868e-848b0ef15626",
   "metadata": {},
   "outputs": [],
   "source": [
    "df = df.resample('Y').sum() # resample the data based on year and sum the value"
   ]
  },
  {
   "cell_type": "code",
   "execution_count": 20,
   "id": "c7b229f7-ecea-4241-bb63-b6faf83bb95c",
   "metadata": {},
   "outputs": [],
   "source": [
    "df.reset_index(inplace=True) # reset index will let Date be a column\n",
    "df['Year'] = df['Date'].dt.year.astype('int32')"
   ]
  },
  {
   "cell_type": "code",
   "execution_count": 21,
   "id": "9ced5ef8-e870-4819-b935-23ab96e552cc",
   "metadata": {},
   "outputs": [
    {
     "data": {
      "text/html": [
       "<div>\n",
       "<style scoped>\n",
       "    .dataframe tbody tr th:only-of-type {\n",
       "        vertical-align: middle;\n",
       "    }\n",
       "\n",
       "    .dataframe tbody tr th {\n",
       "        vertical-align: top;\n",
       "    }\n",
       "\n",
       "    .dataframe thead th {\n",
       "        text-align: right;\n",
       "    }\n",
       "</style>\n",
       "<table border=\"1\" class=\"dataframe\">\n",
       "  <thead>\n",
       "    <tr style=\"text-align: right;\">\n",
       "      <th></th>\n",
       "      <th>Date</th>\n",
       "      <th>Dividends</th>\n",
       "      <th>Year</th>\n",
       "    </tr>\n",
       "  </thead>\n",
       "  <tbody>\n",
       "    <tr>\n",
       "      <th>0</th>\n",
       "      <td>2003-12-31 00:00:00-05:00</td>\n",
       "      <td>0.24</td>\n",
       "      <td>2003</td>\n",
       "    </tr>\n",
       "    <tr>\n",
       "      <th>1</th>\n",
       "      <td>2004-12-31 00:00:00-05:00</td>\n",
       "      <td>3.16</td>\n",
       "      <td>2004</td>\n",
       "    </tr>\n",
       "    <tr>\n",
       "      <th>2</th>\n",
       "      <td>2005-12-31 00:00:00-05:00</td>\n",
       "      <td>0.32</td>\n",
       "      <td>2005</td>\n",
       "    </tr>\n",
       "    <tr>\n",
       "      <th>3</th>\n",
       "      <td>2006-12-31 00:00:00-05:00</td>\n",
       "      <td>0.37</td>\n",
       "      <td>2006</td>\n",
       "    </tr>\n",
       "    <tr>\n",
       "      <th>4</th>\n",
       "      <td>2007-12-31 00:00:00-05:00</td>\n",
       "      <td>0.41</td>\n",
       "      <td>2007</td>\n",
       "    </tr>\n",
       "    <tr>\n",
       "      <th>5</th>\n",
       "      <td>2008-12-31 00:00:00-05:00</td>\n",
       "      <td>0.46</td>\n",
       "      <td>2008</td>\n",
       "    </tr>\n",
       "    <tr>\n",
       "      <th>6</th>\n",
       "      <td>2009-12-31 00:00:00-05:00</td>\n",
       "      <td>0.52</td>\n",
       "      <td>2009</td>\n",
       "    </tr>\n",
       "    <tr>\n",
       "      <th>7</th>\n",
       "      <td>2010-12-31 00:00:00-05:00</td>\n",
       "      <td>0.55</td>\n",
       "      <td>2010</td>\n",
       "    </tr>\n",
       "    <tr>\n",
       "      <th>8</th>\n",
       "      <td>2011-12-31 00:00:00-05:00</td>\n",
       "      <td>0.68</td>\n",
       "      <td>2011</td>\n",
       "    </tr>\n",
       "    <tr>\n",
       "      <th>9</th>\n",
       "      <td>2012-12-31 00:00:00-05:00</td>\n",
       "      <td>0.83</td>\n",
       "      <td>2012</td>\n",
       "    </tr>\n",
       "    <tr>\n",
       "      <th>10</th>\n",
       "      <td>2013-12-31 00:00:00-05:00</td>\n",
       "      <td>0.97</td>\n",
       "      <td>2013</td>\n",
       "    </tr>\n",
       "    <tr>\n",
       "      <th>11</th>\n",
       "      <td>2014-12-31 00:00:00-05:00</td>\n",
       "      <td>1.15</td>\n",
       "      <td>2014</td>\n",
       "    </tr>\n",
       "    <tr>\n",
       "      <th>12</th>\n",
       "      <td>2015-12-31 00:00:00-05:00</td>\n",
       "      <td>1.29</td>\n",
       "      <td>2015</td>\n",
       "    </tr>\n",
       "    <tr>\n",
       "      <th>13</th>\n",
       "      <td>2016-12-31 00:00:00-05:00</td>\n",
       "      <td>1.47</td>\n",
       "      <td>2016</td>\n",
       "    </tr>\n",
       "    <tr>\n",
       "      <th>14</th>\n",
       "      <td>2017-12-31 00:00:00-05:00</td>\n",
       "      <td>1.59</td>\n",
       "      <td>2017</td>\n",
       "    </tr>\n",
       "    <tr>\n",
       "      <th>15</th>\n",
       "      <td>2018-12-31 00:00:00-05:00</td>\n",
       "      <td>1.72</td>\n",
       "      <td>2018</td>\n",
       "    </tr>\n",
       "    <tr>\n",
       "      <th>16</th>\n",
       "      <td>2019-12-31 00:00:00-05:00</td>\n",
       "      <td>1.89</td>\n",
       "      <td>2019</td>\n",
       "    </tr>\n",
       "    <tr>\n",
       "      <th>17</th>\n",
       "      <td>2020-12-31 00:00:00-05:00</td>\n",
       "      <td>2.09</td>\n",
       "      <td>2020</td>\n",
       "    </tr>\n",
       "    <tr>\n",
       "      <th>18</th>\n",
       "      <td>2021-12-31 00:00:00-05:00</td>\n",
       "      <td>2.30</td>\n",
       "      <td>2021</td>\n",
       "    </tr>\n",
       "    <tr>\n",
       "      <th>19</th>\n",
       "      <td>2022-12-31 00:00:00-05:00</td>\n",
       "      <td>2.54</td>\n",
       "      <td>2022</td>\n",
       "    </tr>\n",
       "    <tr>\n",
       "      <th>20</th>\n",
       "      <td>2023-12-31 00:00:00-05:00</td>\n",
       "      <td>2.04</td>\n",
       "      <td>2023</td>\n",
       "    </tr>\n",
       "  </tbody>\n",
       "</table>\n",
       "</div>"
      ],
      "text/plain": [
       "                        Date  Dividends  Year\n",
       "0  2003-12-31 00:00:00-05:00       0.24  2003\n",
       "1  2004-12-31 00:00:00-05:00       3.16  2004\n",
       "2  2005-12-31 00:00:00-05:00       0.32  2005\n",
       "3  2006-12-31 00:00:00-05:00       0.37  2006\n",
       "4  2007-12-31 00:00:00-05:00       0.41  2007\n",
       "5  2008-12-31 00:00:00-05:00       0.46  2008\n",
       "6  2009-12-31 00:00:00-05:00       0.52  2009\n",
       "7  2010-12-31 00:00:00-05:00       0.55  2010\n",
       "8  2011-12-31 00:00:00-05:00       0.68  2011\n",
       "9  2012-12-31 00:00:00-05:00       0.83  2012\n",
       "10 2013-12-31 00:00:00-05:00       0.97  2013\n",
       "11 2014-12-31 00:00:00-05:00       1.15  2014\n",
       "12 2015-12-31 00:00:00-05:00       1.29  2015\n",
       "13 2016-12-31 00:00:00-05:00       1.47  2016\n",
       "14 2017-12-31 00:00:00-05:00       1.59  2017\n",
       "15 2018-12-31 00:00:00-05:00       1.72  2018\n",
       "16 2019-12-31 00:00:00-05:00       1.89  2019\n",
       "17 2020-12-31 00:00:00-05:00       2.09  2020\n",
       "18 2021-12-31 00:00:00-05:00       2.30  2021\n",
       "19 2022-12-31 00:00:00-05:00       2.54  2022\n",
       "20 2023-12-31 00:00:00-05:00       2.04  2023"
      ]
     },
     "execution_count": 21,
     "metadata": {},
     "output_type": "execute_result"
    }
   ],
   "source": [
    "df"
   ]
  },
  {
   "cell_type": "code",
   "execution_count": 22,
   "id": "148e4aba-b719-4adb-a122-b11df24d449a",
   "metadata": {},
   "outputs": [],
   "source": [
    "# plot the dividend with time\n",
    "import matplotlib.pyplot as plt"
   ]
  },
  {
   "cell_type": "code",
   "execution_count": 23,
   "id": "2d4355c9-d3c1-4ef9-8f3b-e280dbd2aa46",
   "metadata": {},
   "outputs": [
    {
     "data": {
      "text/plain": [
       "1     2004\n",
       "3     2006\n",
       "5     2008\n",
       "7     2010\n",
       "9     2012\n",
       "11    2014\n",
       "13    2016\n",
       "15    2018\n",
       "17    2020\n",
       "19    2022\n",
       "Name: Year, dtype: int32"
      ]
     },
     "execution_count": 23,
     "metadata": {},
     "output_type": "execute_result"
    }
   ],
   "source": [
    "df[df['Year']%2==0]['Year']"
   ]
  },
  {
   "cell_type": "code",
   "execution_count": 24,
   "id": "e2c43995-4b2c-42a6-b97d-90937cea5063",
   "metadata": {},
   "outputs": [
    {
     "data": {
      "image/png": "[encoded data removed]",
      "text/plain": [
       "<Figure size 640x480 with 1 Axes>"
      ]
     },
     "metadata": {},
     "output_type": "display_data"
    }
   ],
   "source": [
    "#plot\n",
    "plt.bar(df['Year'], df['Dividends'])\n",
    "plt.xlabel('Year')\n",
    "plt.ylabel('Dividend Yield($) per share')\n",
    "plt.title('Microsoft Dividend History')\n",
    "plt.xticks(df[df['Year']%2==0]['Year'])\n",
    "plt.show()"
   ]
  },
  {
   "cell_type": "markdown",
   "id": "d2bfc631-fb85-412d-82dc-949a49d54e05",
   "metadata": {},
   "source": [
    "Year 2004, Microsoft paid special one-time 3$ dividend. Reason is microsoft resolved some of the legal issues that year and shared the profit."
   ]
  },
  {
   "cell_type": "code",
   "execution_count": 25,
   "id": "5e54de4e-503f-4e98-9a58-60819964e8d5",
   "metadata": {},
   "outputs": [
    {
     "name": "stderr",
     "output_type": "stream",
     "text": [
      "/opt/homebrew/lib/python3.11/site-packages/yfinance/scrapers/holders.py:39: FutureWarning: Passing literal html to 'read_html' is deprecated and will be removed in a future version. To read from a literal string, wrap it in a 'StringIO' object.\n",
      "  holders = pd.read_html(resp.text)\n"
     ]
    },
    {
     "data": {
      "text/html": [
       "<div>\n",
       "<style scoped>\n",
       "    .dataframe tbody tr th:only-of-type {\n",
       "        vertical-align: middle;\n",
       "    }\n",
       "\n",
       "    .dataframe tbody tr th {\n",
       "        vertical-align: top;\n",
       "    }\n",
       "\n",
       "    .dataframe thead th {\n",
       "        text-align: right;\n",
       "    }\n",
       "</style>\n",
       "<table border=\"1\" class=\"dataframe\">\n",
       "  <thead>\n",
       "    <tr style=\"text-align: right;\">\n",
       "      <th></th>\n",
       "      <th>0</th>\n",
       "      <th>1</th>\n",
       "    </tr>\n",
       "  </thead>\n",
       "  <tbody>\n",
       "    <tr>\n",
       "      <th>0</th>\n",
       "      <td>0.05%</td>\n",
       "      <td>% of Shares Held by All Insider</td>\n",
       "    </tr>\n",
       "    <tr>\n",
       "      <th>1</th>\n",
       "      <td>73.21%</td>\n",
       "      <td>% of Shares Held by Institutions</td>\n",
       "    </tr>\n",
       "    <tr>\n",
       "      <th>2</th>\n",
       "      <td>73.25%</td>\n",
       "      <td>% of Float Held by Institutions</td>\n",
       "    </tr>\n",
       "    <tr>\n",
       "      <th>3</th>\n",
       "      <td>6255</td>\n",
       "      <td>Number of Institutions Holding Shares</td>\n",
       "    </tr>\n",
       "  </tbody>\n",
       "</table>\n",
       "</div>"
      ],
      "text/plain": [
       "        0                                      1\n",
       "0   0.05%        % of Shares Held by All Insider\n",
       "1  73.21%       % of Shares Held by Institutions\n",
       "2  73.25%        % of Float Held by Institutions\n",
       "3    6255  Number of Institutions Holding Shares"
      ]
     },
     "execution_count": 25,
     "metadata": {},
     "output_type": "execute_result"
    }
   ],
   "source": [
    "msft.major_holders # majority of shares are hold by institution"
   ]
  },
  {
   "cell_type": "code",
   "execution_count": 26,
   "id": "75a9da83-766e-499d-a24e-f9abd8ad75ba",
   "metadata": {},
   "outputs": [
    {
     "data": {
      "text/html": [
       "<div>\n",
       "<style scoped>\n",
       "    .dataframe tbody tr th:only-of-type {\n",
       "        vertical-align: middle;\n",
       "    }\n",
       "\n",
       "    .dataframe tbody tr th {\n",
       "        vertical-align: top;\n",
       "    }\n",
       "\n",
       "    .dataframe thead th {\n",
       "        text-align: right;\n",
       "    }\n",
       "</style>\n",
       "<table border=\"1\" class=\"dataframe\">\n",
       "  <thead>\n",
       "    <tr style=\"text-align: right;\">\n",
       "      <th></th>\n",
       "      <th>Holder</th>\n",
       "      <th>Shares</th>\n",
       "      <th>Date Reported</th>\n",
       "      <th>% Out</th>\n",
       "      <th>Value</th>\n",
       "    </tr>\n",
       "  </thead>\n",
       "  <tbody>\n",
       "    <tr>\n",
       "      <th>0</th>\n",
       "      <td>Vanguard Group Inc</td>\n",
       "      <td>653247546</td>\n",
       "      <td>2023-06-29</td>\n",
       "      <td>0.0879</td>\n",
       "      <td>204721258009</td>\n",
       "    </tr>\n",
       "    <tr>\n",
       "      <th>1</th>\n",
       "      <td>Blackrock Inc.</td>\n",
       "      <td>536245027</td>\n",
       "      <td>2023-06-29</td>\n",
       "      <td>0.0722</td>\n",
       "      <td>168053836866</td>\n",
       "    </tr>\n",
       "    <tr>\n",
       "      <th>2</th>\n",
       "      <td>State Street Corporation</td>\n",
       "      <td>293614078</td>\n",
       "      <td>2023-06-29</td>\n",
       "      <td>0.0395</td>\n",
       "      <td>92015720205</td>\n",
       "    </tr>\n",
       "    <tr>\n",
       "      <th>3</th>\n",
       "      <td>FMR, LLC</td>\n",
       "      <td>210111250</td>\n",
       "      <td>2023-06-29</td>\n",
       "      <td>0.0283</td>\n",
       "      <td>65846767715</td>\n",
       "    </tr>\n",
       "    <tr>\n",
       "      <th>4</th>\n",
       "      <td>Price (T.Rowe) Associates Inc</td>\n",
       "      <td>159904219</td>\n",
       "      <td>2023-06-29</td>\n",
       "      <td>0.0215</td>\n",
       "      <td>50112385534</td>\n",
       "    </tr>\n",
       "    <tr>\n",
       "      <th>5</th>\n",
       "      <td>Geode Capital Management, LLC</td>\n",
       "      <td>148129470</td>\n",
       "      <td>2023-06-29</td>\n",
       "      <td>0.0199</td>\n",
       "      <td>46422296773</td>\n",
       "    </tr>\n",
       "    <tr>\n",
       "      <th>6</th>\n",
       "      <td>Morgan Stanley</td>\n",
       "      <td>123498322</td>\n",
       "      <td>2023-06-29</td>\n",
       "      <td>0.0166</td>\n",
       "      <td>38703140940</td>\n",
       "    </tr>\n",
       "    <tr>\n",
       "      <th>7</th>\n",
       "      <td>JP Morgan Chase &amp; Company</td>\n",
       "      <td>113024837</td>\n",
       "      <td>2023-06-29</td>\n",
       "      <td>0.0152</td>\n",
       "      <td>35420855323</td>\n",
       "    </tr>\n",
       "    <tr>\n",
       "      <th>8</th>\n",
       "      <td>Norges Bank Investment Management</td>\n",
       "      <td>86316926</td>\n",
       "      <td>2022-12-30</td>\n",
       "      <td>0.0116</td>\n",
       "      <td>27050862703</td>\n",
       "    </tr>\n",
       "    <tr>\n",
       "      <th>9</th>\n",
       "      <td>Capital World Investors</td>\n",
       "      <td>85507261</td>\n",
       "      <td>2023-06-29</td>\n",
       "      <td>0.0115</td>\n",
       "      <td>26797121777</td>\n",
       "    </tr>\n",
       "  </tbody>\n",
       "</table>\n",
       "</div>"
      ],
      "text/plain": [
       "                              Holder     Shares Date Reported   % Out  \\\n",
       "0                 Vanguard Group Inc  653247546    2023-06-29  0.0879   \n",
       "1                     Blackrock Inc.  536245027    2023-06-29  0.0722   \n",
       "2           State Street Corporation  293614078    2023-06-29  0.0395   \n",
       "3                           FMR, LLC  210111250    2023-06-29  0.0283   \n",
       "4      Price (T.Rowe) Associates Inc  159904219    2023-06-29  0.0215   \n",
       "5      Geode Capital Management, LLC  148129470    2023-06-29  0.0199   \n",
       "6                     Morgan Stanley  123498322    2023-06-29  0.0166   \n",
       "7          JP Morgan Chase & Company  113024837    2023-06-29  0.0152   \n",
       "8  Norges Bank Investment Management   86316926    2022-12-30  0.0116   \n",
       "9            Capital World Investors   85507261    2023-06-29  0.0115   \n",
       "\n",
       "          Value  \n",
       "0  204721258009  \n",
       "1  168053836866  \n",
       "2   92015720205  \n",
       "3   65846767715  \n",
       "4   50112385534  \n",
       "5   46422296773  \n",
       "6   38703140940  \n",
       "7   35420855323  \n",
       "8   27050862703  \n",
       "9   26797121777  "
      ]
     },
     "execution_count": 26,
     "metadata": {},
     "output_type": "execute_result"
    }
   ],
   "source": [
    "# which institues hold max shares\n",
    "msft.institutional_holders.sort_values(by='Shares', ascending=False)"
   ]
  },
  {
   "cell_type": "code",
   "execution_count": 27,
   "id": "0ce51d0e-bad9-4d0d-92f8-1cf211a073dd",
   "metadata": {},
   "outputs": [],
   "source": [
    "from datetime import date, timedelta"
   ]
  },
  {
   "cell_type": "code",
   "execution_count": 28,
   "id": "9c7f4929-8dc8-4067-918f-73704eea1549",
   "metadata": {},
   "outputs": [],
   "source": [
    "df = yf.download('MSFT', \n",
    "                      start=date.today() - timedelta(days=500), \n",
    "                      end=date.today(), \n",
    "                      progress=False)"
   ]
  },
  {
   "cell_type": "code",
   "execution_count": 29,
   "id": "c288db47-a143-4dfb-b880-885132b06a7c",
   "metadata": {},
   "outputs": [
    {
     "data": {
      "text/plain": [
       "Index(['Open', 'High', 'Low', 'Close', 'Adj Close', 'Volume'], dtype='object')"
      ]
     },
     "execution_count": 29,
     "metadata": {},
     "output_type": "execute_result"
    }
   ],
   "source": [
    "df.columns"
   ]
  },
  {
   "cell_type": "code",
   "execution_count": 30,
   "id": "f3363318-9cce-4b87-ae63-78326dd91163",
   "metadata": {},
   "outputs": [
    {
     "data": {
      "text/html": [
       "<div>\n",
       "<style scoped>\n",
       "    .dataframe tbody tr th:only-of-type {\n",
       "        vertical-align: middle;\n",
       "    }\n",
       "\n",
       "    .dataframe tbody tr th {\n",
       "        vertical-align: top;\n",
       "    }\n",
       "\n",
       "    .dataframe thead th {\n",
       "        text-align: right;\n",
       "    }\n",
       "</style>\n",
       "<table border=\"1\" class=\"dataframe\">\n",
       "  <thead>\n",
       "    <tr style=\"text-align: right;\">\n",
       "      <th></th>\n",
       "      <th>Open</th>\n",
       "      <th>High</th>\n",
       "      <th>Low</th>\n",
       "      <th>Close</th>\n",
       "      <th>Adj Close</th>\n",
       "      <th>Volume</th>\n",
       "    </tr>\n",
       "    <tr>\n",
       "      <th>Date</th>\n",
       "      <th></th>\n",
       "      <th></th>\n",
       "      <th></th>\n",
       "      <th></th>\n",
       "      <th></th>\n",
       "      <th></th>\n",
       "    </tr>\n",
       "  </thead>\n",
       "  <tbody>\n",
       "    <tr>\n",
       "      <th>2022-05-23</th>\n",
       "      <td>255.490005</td>\n",
       "      <td>261.500000</td>\n",
       "      <td>253.429993</td>\n",
       "      <td>260.649994</td>\n",
       "      <td>257.609161</td>\n",
       "      <td>33175400</td>\n",
       "    </tr>\n",
       "    <tr>\n",
       "      <th>2022-05-24</th>\n",
       "      <td>257.890015</td>\n",
       "      <td>261.329987</td>\n",
       "      <td>253.500000</td>\n",
       "      <td>259.619995</td>\n",
       "      <td>256.591217</td>\n",
       "      <td>29043900</td>\n",
       "    </tr>\n",
       "    <tr>\n",
       "      <th>2022-05-25</th>\n",
       "      <td>258.140015</td>\n",
       "      <td>264.579987</td>\n",
       "      <td>257.130005</td>\n",
       "      <td>262.519989</td>\n",
       "      <td>259.457397</td>\n",
       "      <td>28547900</td>\n",
       "    </tr>\n",
       "    <tr>\n",
       "      <th>2022-05-26</th>\n",
       "      <td>262.269989</td>\n",
       "      <td>267.109985</td>\n",
       "      <td>261.429993</td>\n",
       "      <td>265.899994</td>\n",
       "      <td>262.797943</td>\n",
       "      <td>25002100</td>\n",
       "    </tr>\n",
       "    <tr>\n",
       "      <th>2022-05-27</th>\n",
       "      <td>268.480011</td>\n",
       "      <td>273.339996</td>\n",
       "      <td>267.559998</td>\n",
       "      <td>273.239990</td>\n",
       "      <td>270.052338</td>\n",
       "      <td>26910800</td>\n",
       "    </tr>\n",
       "  </tbody>\n",
       "</table>\n",
       "</div>"
      ],
      "text/plain": [
       "                  Open        High         Low       Close   Adj Close  \\\n",
       "Date                                                                     \n",
       "2022-05-23  255.490005  261.500000  253.429993  260.649994  257.609161   \n",
       "2022-05-24  257.890015  261.329987  253.500000  259.619995  256.591217   \n",
       "2022-05-25  258.140015  264.579987  257.130005  262.519989  259.457397   \n",
       "2022-05-26  262.269989  267.109985  261.429993  265.899994  262.797943   \n",
       "2022-05-27  268.480011  273.339996  267.559998  273.239990  270.052338   \n",
       "\n",
       "              Volume  \n",
       "Date                  \n",
       "2022-05-23  33175400  \n",
       "2022-05-24  29043900  \n",
       "2022-05-25  28547900  \n",
       "2022-05-26  25002100  \n",
       "2022-05-27  26910800  "
      ]
     },
     "execution_count": 30,
     "metadata": {},
     "output_type": "execute_result"
    }
   ],
   "source": [
    "df.head()"
   ]
  },
  {
   "cell_type": "code",
   "execution_count": 31,
   "id": "514e4fdc-b7b6-4f91-8926-201ad0ab97af",
   "metadata": {},
   "outputs": [],
   "source": [
    "# Get RSI\n",
    "# Choose a look-back period (e.g., 14 days)\n",
    "look_back_period = 14\n",
    "\n",
    "# Calculate daily price changes\n",
    "df['Price Change'] = df['Close'].diff()\n",
    "\n",
    "# Separate positive and negative price changes\n",
    "df['Gain'] = df['Price Change'].apply(lambda x: x if x > 0 else 0)\n",
    "df['Loss'] = df['Price Change'].apply(lambda x: abs(x) if x < 0 else 0)\n",
    "\n",
    "# Calculate average gains and losses\n",
    "average_gain = df['Gain'].rolling(window=look_back_period).mean()\n",
    "average_loss = df['Loss'].rolling(window=look_back_period).mean()\n",
    "\n",
    "# Calculate the RS (Relative Strength)\n",
    "rs = average_gain / average_loss\n",
    "\n",
    "# Calculate the RSI\n",
    "rsi = 100 - (100 / (1 + rs))\n",
    "\n",
    "# Add the RSI column to the DataFrame\n",
    "df['RSI'] = rsi"
   ]
  },
  {
   "cell_type": "code",
   "execution_count": 32,
   "id": "b498221e-d443-40e1-9f67-0334678b6f6e",
   "metadata": {},
   "outputs": [
    {
     "data": {
      "text/plain": [
       "[<matplotlib.lines.Line2D at 0x1227bb8d0>]"
      ]
     },
     "execution_count": 32,
     "metadata": {},
     "output_type": "execute_result"
    },
    {
     "data": {
      "image/png": "[encoded data removed]",
      "text/plain": [
       "<Figure size 640x480 with 1 Axes>"
      ]
     },
     "metadata": {},
     "output_type": "display_data"
    }
   ],
   "source": [
    "plt.plot(df['RSI'][:50])"
   ]
  },
  {
   "attachments": {
    "55ff0ad2-a367-4779-bbcc-8a884cde16fb.jpg": {
     "image/jpeg": "[encoded data removed]"
    }
   },
   "cell_type": "markdown",
   "id": "9974be11-bdba-49e9-8caa-b7dfd9bb0407",
   "metadata": {},
   "source": [
    "<div>\n",
    "<img src=attachment:55ff0ad2-a367-4779-bbcc-8a884cde16fb.jpg width=800 />\n",
    "<div>\n",
    "\n",
    "- Low RSI (below 30) -> generate buy signals; downward trend, indicate an oversold or undervalued condition. (bearish Market) \n",
    "- High RSI (above 70)-> generate sell signals; upward trend; overbought or overvalued (bullished market )"
   ]
  },
  {
   "cell_type": "code",
   "execution_count": 74,
   "id": "72727e91-181c-4beb-84d8-496c6ca4098e",
   "metadata": {},
   "outputs": [],
   "source": [
    "# MFI (money flow index)\n",
    "look_back_period = 14\n",
    "\n",
    "# Calculate typical price for each day\n",
    "df['Typical Price'] = (df['High'] + df['Low'] + df['Close']) / 3\n",
    "\n",
    "# Calculate raw money flow (RMF)\n",
    "df['Raw Money Flow'] = df['Typical Price'] * df['Volume']\n",
    "\n",
    "# Calculate the money flow ratio (MFR)\n",
    "positive_money_flow = (df['Typical Price'] > df['Typical Price'].shift(1))*1*df['Raw Money Flow']\n",
    "negative_money_flow = (df['Typical Price'] < df['Typical Price'].shift(1))*1*df['Raw Money Flow']\n",
    "mfr = positive_money_flow.rolling(window=look_back_period).sum() / negative_money_flow.rolling(window=look_back_period).sum()\n",
    "\n",
    "# Calculate the Money Flow Index (MFI)\n",
    "mfi = 100 - (100 / (1 + mfr))\n",
    "\n",
    "# Add the MFI column to the DataFrame\n",
    "df['MFI'] = mfi"
   ]
  },
  {
   "cell_type": "code",
   "execution_count": 76,
   "id": "cad163a2-23ba-4331-b838-a2a437708c26",
   "metadata": {},
   "outputs": [
    {
     "data": {
      "text/plain": [
       "[<matplotlib.lines.Line2D at 0x12321a9d0>]"
      ]
     },
     "execution_count": 76,
     "metadata": {},
     "output_type": "execute_result"
    },
    {
     "data": {
      "image/png": "[encoded data removed]",
      "text/plain": [
       "<Figure size 640x480 with 1 Axes>"
      ]
     },
     "metadata": {},
     "output_type": "display_data"
    }
   ],
   "source": [
    "plt.plot(df['MFI'][:100])\n",
    "plt.plot(df['RSI'][:100])"
   ]
  },
  {
   "cell_type": "markdown",
   "id": "a52ee558-7694-4f66-a2d3-212a303b8fb8",
   "metadata": {},
   "source": [
    "Both RSI and MFI similar in nature, however MFI also incorporate volume. Hence, **MFI is better indicator than RSI.** \n",
    "\n",
    "**Sell when the MFI rises above 70 as it indicates an overbought condition and buy when the MFI falls below 30 as it indicates an oversold condition.**"
   ]
  },
  {
   "cell_type": "code",
   "execution_count": null,
   "id": "25370d42-33e1-4b2c-834c-9fabba0ec08c",
   "metadata": {},
   "outputs": [],
   "source": []
  },
  {
   "cell_type": "code",
   "execution_count": null,
   "id": "1fe853d9-975a-4fc7-81ae-a2e20f3aa47d",
   "metadata": {},
   "outputs": [],
   "source": []
  },
  {
   "cell_type": "markdown",
   "id": "3d060d58-c85a-40c6-97e2-38e3358eec4b",
   "metadata": {},
   "source": [
    "Objective: gain max profit out from portfolios, Minimize the rix\n",
    "\n",
    "How to achieve this objective? by accurate prediction of stocks movement\n",
    "\n",
    "What are the factors? \n",
    "(1) market is moved in herd, so knowing what people are rushing will set trend for few minutes (I assume next x mins, for each stock this x will vary). This is mostly true for index funds as it is primerly moved with market and top stocks. \n",
    "\n",
    "(2) long term trend is game of patience, it depends on whats companies vision is, what kind of project they are doing and internal stuff. Today's initiative will decide future of the company. That requires depth research. "
   ]
  },
  {
   "cell_type": "markdown",
   "id": "8192fd69-0e44-49cb-8843-776cb5c9cc5a",
   "metadata": {},
   "source": [
    "### 2. ta (Technical Analysis)\n",
    "\n",
    "It is a Python package that provides various technical analysis indicators, that can be used to find probability of trend\n",
    "\n",
    "1: Github: https://github.com/bukosabino/ta"
   ]
  },
  {
   "cell_type": "markdown",
   "id": "2a03606b-78db-4d67-b916-3a828fd32501",
   "metadata": {},
   "source": [
    "There are many technical indicators that traders and investors use to analyze individual stocks. Here's a list of some common technical indicators along with their formulas:\n",
    "\n",
    "1. **Moving Average (MA):**\n",
    "   - Formula: MA = (Sum of Closing Prices for n periods) / n\n",
    "   - Description: A simple moving average smooths out price data over a specified number of periods to identify trends.\n",
    "\n",
    "2. **Exponential Moving Average (EMA):**\n",
    "   - Formula: EMA = (Closing Price - EMA(previous day)) * (2 / (1 + n)) + EMA(previous day)\n",
    "   - Description: EMA gives more weight to recent prices, making it more responsive to recent price changes.\n",
    "\n",
    "3. **Relative Strength Index (RSI):**\n",
    "   - Formula: RSI = 100 - (100 / (1 + RS))\n",
    "     where RS = (Average Gain / Average Loss)\n",
    "   - Description: RSI measures the speed and change of price movements. It ranges from 0 to 100, with values above 70 indicating overbought conditions and values below 30 indicating oversold conditions.\n",
    "\n",
    "4. **Moving Average Convergence Divergence (MACD):**\n",
    "   - Formula: MACD = 12-day EMA - 26-day EMA\n",
    "   - Signal Line: 9-day EMA of MACD\n",
    "   - Description: MACD is used to identify changes in the strength, direction, momentum, and duration of a trend.\n",
    "\n",
    "5. **Bollinger Bands:**\n",
    "   - Formula: Upper Band = SMA + (2 * Std. Deviation of Closing Prices)\n",
    "              Lower Band = SMA - (2 * Std. Deviation of Closing Prices)\n",
    "   - Description: Bollinger Bands consist of a middle band (SMA) and two outer bands (upper and lower) that represent volatility around the SMA.\n",
    "\n",
    "6. **Stochastic Oscillator:**\n",
    "   - Formula: %K = [(Closing Price - Lowest Low) / (Highest High - Lowest Low)] * 100\n",
    "   - %D = 3-day SMA of %K\n",
    "   - Description: Stochastic Oscillator measures the location of a closing price relative to its price range over a specified period.\n",
    "\n",
    "7. **Average True Range (ATR):**\n",
    "   - Formula: ATR = (Sum of True Ranges for n periods) / n\n",
    "     where True Range = max(High - Low, abs(High - Previous Close), abs(Low - Previous Close))\n",
    "   - Description: ATR measures market volatility by considering the average price range between the high and low prices over a specified period.\n",
    "\n",
    "8. **Moving Average Convergence Divergence Histogram (MACD Histogram):**\n",
    "   - Formula: MACD Histogram = MACD - Signal Line\n",
    "   - Description: The MACD Histogram is used to identify changes in the strength and direction of the MACD.\n",
    "\n",
    "9. **Average Directional Index (ADX):**\n",
    "   - Formula: ADX = 100 * (Average of DX / Average True Range)\n",
    "     where DX = 100 * (|+DI - -DI|) / (+DI + -DI)\n",
    "   - Description: ADX measures the strength of a trend and is used to determine if a market is trending or ranging.\n",
    "\n",
    "These are just a few examples of technical indicators. Keep in mind that the choice of indicators may vary depending on your trading or investment strategy, and there are many more indicators available for analyzing stock price movements. Additionally, the interpretation of these indicators should be based on the context of your analysis and market conditions.\n",
    "\n",
    "### Independent of stock price\n",
    "Technical indicators are mathematical calculations based on various data points, including price, volume, and sometimes even open interest. While many technical indicators primarily use stock price as one of their inputs, some indicators focus on other aspects like volume or price patterns without directly relying on the stock price. Here are a few such technical indicators:\n",
    "\n",
    "1. **Volume Oscillator (VO)**:\n",
    "   - Formula: `(Short-term Volume MA - Long-term Volume MA) / Long-term Volume MA`\n",
    "   - Description: Measures the difference between short-term and long-term moving averages of trading volume.\n",
    "\n",
    "2. **On-Balance Volume (OBV)**:\n",
    "   - Formula: `OBV = Previous OBV + Volume` if the close is higher than the previous close, `OBV = Previous OBV - Volume` if the close is lower than the previous close, `OBV = Previous OBV` if the close is the same as the previous close.\n",
    "   - Description: It accumulates volume when the price rises and subtracts volume when the price falls. It provides insight into the flow of volume relative to price.\n",
    "\n",
    "3. **Money Flow Index (MFI)**:\n",
    "   - Formula: `MFI = 100 - (100 / (1 + Money Flow Ratio))`\n",
    "   - Money Flow Ratio: `(Positive Money Flow / Negative Money Flow)`\n",
    "   - Positive Money Flow: Sum of Money Flow on days when the typical price is higher than the previous day.\n",
    "   - Negative Money Flow: Sum of Money Flow on days when the typical price is lower than the previous day.\n",
    "   - Description: It uses both price and volume to measure buying and selling pressure. It ranges from 0 to 100.\n",
    "\n",
    "4. **Accumulation/Distribution Line (A/D Line)**:\n",
    "   - Formula: `A/D Line = Previous A/D Line + Current Money Flow Volume`\n",
    "   - Current Money Flow Volume: `(Close - Low) - (High - Close) / (High - Low) * Volume`\n",
    "   - Description: This indicator uses volume and price data to assess the flow of funds into or out of a security.\n",
    "\n",
    "5. **Chaikin Oscillator**:\n",
    "   - Formula: `Chaikin Oscillator = (3-day EMA of Accumulation/Distribution Line) - (10-day EMA of Accumulation/Distribution Line)`\n",
    "   - Description: Measures the momentum of the Accumulation/Distribution Line.\n",
    "\n",
    "6. **Ease of Movement (EMV)**:\n",
    "   - Formula: `(High - Low) / ((High + Low) / 2) * Volume`\n",
    "   - Description: Designed to show how easily the price can move in the market. It doesn't depend on the actual price level.\n",
    "\n",
    "7. **McClellan Oscillator**:\n",
    "   - Formula: `(19-day EMA of Advancing Issues - 39-day EMA of Advancing Issues) - (19-day EMA of Declining Issues - 39-day EMA of Declining Issues)`\n",
    "   - Description: Measures the difference between advancing and declining issues, helping to identify overbought or oversold conditions.\n",
    "\n",
    "Please note that these indicators may still indirectly relate to stock price movements, as they often use price-related metrics such as highs, lows, and closing prices. However, they do not directly rely on the stock price itself in their formulas. Always refer to the specific documentation or source of the indicator for more precise details and parameter settings."
   ]
  },
  {
   "cell_type": "markdown",
   "id": "5783aee0-43b0-4a2d-b27f-4686dbef61da",
   "metadata": {},
   "source": [
    "## Market Technical Indicator\n",
    "\n",
    "There are numerous technical indicators used to analyze the broader stock market or specific market indices. Here's a list of some common market-related technical indicators along with their formulas:\n",
    "\n",
    "1. **Advance-Decline Line (A/D Line):**\n",
    "   - Formula: A/D Line = (Advances - Declines) + Previous A/D Line\n",
    "   - Description: The Advance-Decline Line measures the number of advancing and declining stocks in the market. It can help identify the overall strength or weakness of the market.\n",
    "\n",
    "2. **McClellan Oscillator:**\n",
    "   - Formula: McClellan Oscillator = (19-day EMA of Advances - Declines) - (39-day EMA of Advances - Declines)\n",
    "   - Description: The McClellan Oscillator is used to assess the market's breadth by comparing the exponential moving averages of advancing and declining issues.\n",
    "\n",
    "3. **McClellan Summation Index:**\n",
    "   - Formula: Summation Index = Previous Summation Index + McClellan Oscillator\n",
    "   - Description: The McClellan Summation Index is a cumulative measure of the McClellan Oscillator and helps identify long-term trends in market breadth.\n",
    "\n",
    "4. **Advance-Decline Volume Line:**\n",
    "   - Formula: A/D Volume Line = (Advancing Volume - Declining Volume) + Previous A/D Volume Line\n",
    "   - Description: Similar to the A/D Line, this indicator measures the volume of advancing and declining stocks in the market.\n",
    "\n",
    "5. **TRIN (Arms Index):**\n",
    "   - Formula: TRIN = (Advancing Issues / Declining Issues) / (Advancing Volume / Declining Volume)\n",
    "   - Description: TRIN is a market breadth indicator that assesses the relationship between advancing and declining issues and their respective volume.\n",
    "\n",
    "6. **VIX (CBOE Volatility Index):**\n",
    "   - Description: The VIX, often referred to as the \"Fear Gauge,\" measures the market's expectation of future volatility. It is calculated by the Chicago Board Options Exchange (CBOE) and does not have a simple mathematical formula.\n",
    "\n",
    "7. **Market Breadth Index:**\n",
    "   - Formula: Market Breadth Index = (Number of Advancing Stocks - Number of Declining Stocks) / Total Number of Stocks\n",
    "   - Description: This index represents the proportion of advancing stocks to declining stocks in the market and can indicate the overall market sentiment.\n",
    "\n",
    "8. **Price Rate of Change (ROC):**\n",
    "   - Formula: ROC = [(Current Price - Price n periods ago) / Price n periods ago] * 100\n",
    "   - Description: ROC measures the percentage change in a market index's price over a specified number of periods.\n",
    "\n",
    "9. **Cyclically Adjusted Price-to-Earnings (CAPE) Ratio:**\n",
    "   - Formula: CAPE Ratio = Current Market Price / 10-Year Average Earnings (adjusted for inflation)\n",
    "   - Description: CAPE Ratio, also known as the Shiller PE Ratio, provides a long-term perspective on stock market valuation by using a 10-year average of earnings.\n",
    "\n",
    "10. **Market Momentum Index:**\n",
    "    - Formula: Market Momentum Index = 100 * (Current Close / 200-Day Moving Average) - 100\n",
    "    - Description: This index measures the momentum of the market by comparing the current price to its 200-day moving average.\n",
    "\n",
    "These are some of the key technical indicators and indices used to assess the overall health and sentiment of the stock market. Traders and investors often use a combination of these indicators to make informed decisions. Keep in mind that the interpretation of these indicators should be based on the context of your analysis and market conditions.\n",
    "\n",
    "### Independent of stock price\n",
    "Among the indicators I mentioned, the following indicators do not directly depend on the stock price itself:\n",
    "\n",
    "Advance-Decline Line (A/D Line): The A/D Line is based on the number of advancing and declining stocks in the market, not their individual prices. It assesses market breadth rather than specific stock prices.\n",
    "\n",
    "McClellan Oscillator: Similar to the A/D Line, the McClellan Oscillator is based on the number of advancing and declining issues, not their prices.\n",
    "\n",
    "McClellan Summation Index: This index is a cumulative measure of the McClellan Oscillator and is also based on advancing and declining issues rather than stock prices.\n",
    "\n",
    "Advance-Decline Volume Line: Like the A/D Line, this indicator is based on the volume of advancing and declining stocks, not their individual prices.\n",
    "\n",
    "TRIN (Arms Index): TRIN is a market breadth indicator that compares the number of advancing and declining issues and their respective volume. It does not directly involve stock prices.\n",
    "\n",
    "VIX (CBOE Volatility Index): The VIX measures market volatility and is derived from options prices, particularly the implied volatility of S&P 500 index options. It is not directly tied to stock prices.\n",
    "\n",
    "Market Breadth Index: This index represents the breadth of advancing and declining stocks in the market, regardless of their individual prices.\n",
    "\n",
    "These indicators focus on market breadth, volume, and sentiment rather than individual stock prices. They are often used to gauge the overall health and sentiment of the broader market."
   ]
  },
  {
   "cell_type": "markdown",
   "id": "8bd90600-5b36-4eeb-a155-5304886cafc5",
   "metadata": {},
   "source": [
    "## Conclusion\n",
    "\n",
    "Based on analysis, need to try different predictor models to make decision. Lets use weak learners and combine their prediction\n",
    "\n",
    "So far, i can think of following learners:\n",
    "- Learner-1: based on MFI: if MFI>70 sell, if MFI<30 buy;\n",
    "- Learner-2: based on Seasonal data(monthly data)\n",
    "- Learner-3: based on latest news of the stock + overall market news (using sentiment-analysis)"
   ]
  },
  {
   "cell_type": "code",
   "execution_count": null,
   "id": "a9cf4687-d460-4084-8bd8-2b42be615fae",
   "metadata": {},
   "outputs": [],
   "source": []
  }
 ],
 "metadata": {
  "kernelspec": {
   "display_name": "Python 3 (ipykernel)",
   "language": "python",
   "name": "python3"
  },
  "language_info": {
   "codemirror_mode": {
    "name": "ipython",
    "version": 3
   },
   "file_extension": ".py",
   "mimetype": "text/x-python",
   "name": "python",
   "nbconvert_exporter": "python",
   "pygments_lexer": "ipython3",
   "version": "3.11.5"
  }
 },
 "nbformat": 4,
 "nbformat_minor": 5
}
