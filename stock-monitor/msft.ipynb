{
 "cells": [
  {
   "cell_type": "code",
   "execution_count": 35,
   "id": "4c1fed7d-a1ff-453e-a837-35b538a6ccf6",
   "metadata": {},
   "outputs": [],
   "source": [
    "# import packages\n",
    "import matplotlib.pyplot as plt\n",
    "import pandas as pd\n",
    "import yfinance as yf\n",
    "from datetime import datetime, date, timedelta\n",
    "import numpy as np\n",
    "from scipy import stats"
   ]
  },
  {
   "cell_type": "code",
   "execution_count": 36,
   "id": "e0712671-42ea-47f7-9e1d-376efe0fb18f",
   "metadata": {},
   "outputs": [],
   "source": [
    "def predict(ticker):\n",
    "    interval='2m' # Valid intervals: [1m, 2m, 5m, 15m, 30m, 60m, 90m, 1h, 1d, 5d, 1wk, 1mo, 3mo]\n",
    "    backdays=1\n",
    "    st = stock(ticker, interval, backdays)\n",
    "    df = st.getPrice(ticker, interval, backdays)\n",
    "    \n",
    "    # MFI (money flow index)\n",
    "    look_back_period = 14  \n",
    "    \n",
    "    # Calculate typical price for each day\n",
    "    df['Typical Price'] = (df['Open']+df['High'] + df['Low'] + df['Close']) / 4\n",
    "    \n",
    "    # Calculate raw money flow (RMF)\n",
    "    df['Raw Money Flow'] = df['Typical Price'] * df['Volume']\n",
    "    \n",
    "    # Calculate the money flow ratio (MFR)\n",
    "    positive_money_flow = (df['Typical Price'] > df['Typical Price'].shift(1))*1*df['Raw Money Flow']\n",
    "    negative_money_flow = (df['Typical Price'] < df['Typical Price'].shift(1))*1*df['Raw Money Flow']\n",
    "    mfr = positive_money_flow.rolling(window=look_back_period).sum() / negative_money_flow.rolling(window=look_back_period).sum()\n",
    "    \n",
    "    # Calculate the Money Flow Index (MFI)\n",
    "    mfi = 100 - (100 / (1 + mfr))\n",
    "    \n",
    "    # Add the MFI column to the DataFrame\n",
    "    df['MFI'] = mfi\n",
    "\n",
    "    # calculate confidence\n",
    "    # linear interpolation between MFI 30 and 70\n",
    "    # Sell when the MFI rises above 70 as it indicates an overbought condition and buy when the MFI falls below 30 as it indicates an oversold condition.\n",
    "    # at MFI=30, confidence=100 to buy, at MFI=70, confidence=-100 \n",
    "    # confidence = (-5)*MFI + 250\n",
    "\n",
    "    # waited MFI to include past 3 MFI\n",
    "    weighted_mfi = (df['MFI'].iloc[-1]*(4)+df['MFI'].iloc[-2]*(3)+df['MFI'].iloc[-3]*(2) + df['MFI'].iloc[-4]*(1))/10\n",
    "\n",
    "    print(df.MFI.tail(4))\n",
    "    \n",
    "    confidence = weighted_mfi*(-5) + 250\n",
    "\n",
    "    if confidence > 100: \n",
    "        confidence=100\n",
    "        \n",
    "    if confidence < -100: \n",
    "        confidence=-100\n",
    "    \n",
    "\n",
    "    if confidence>40:\n",
    "        print(f'BUY : with Confidence {confidence}')\n",
    "    elif confidence<-40:\n",
    "        print(f'SELL : with Confidence {abs(confidence)}')\n",
    "    else:\n",
    "        print(f'HOLD : with Confidence {abs(confidence)}')\n",
    "        "
   ]
  },
  {
   "cell_type": "code",
   "execution_count": 37,
   "id": "99158e4c-b835-4297-b7f9-4ae0b4873965",
   "metadata": {},
   "outputs": [
    {
     "name": "stdout",
     "output_type": "stream",
     "text": [
      "\n",
      "\n"
     ]
    },
    {
     "ename": "AttributeError",
     "evalue": "'Ticker' object has no attribute 'replace'",
     "output_type": "error",
     "traceback": [
      "\u001b[0;31m---------------------------------------------------------------------------\u001b[0m",
      "\u001b[0;31mAttributeError\u001b[0m                            Traceback (most recent call last)",
      "Cell \u001b[0;32mIn[37], line 5\u001b[0m\n\u001b[1;32m      3\u001b[0m \u001b[38;5;28;01mfor\u001b[39;00m ticker \u001b[38;5;129;01min\u001b[39;00m tickers:\n\u001b[1;32m      4\u001b[0m     \u001b[38;5;28mprint\u001b[39m(\u001b[38;5;124m'\u001b[39m\u001b[38;5;130;01m\\n\u001b[39;00m\u001b[38;5;124m'\u001b[39m)\n\u001b[0;32m----> 5\u001b[0m     \u001b[43mpredict\u001b[49m\u001b[43m(\u001b[49m\u001b[43mticker\u001b[49m\u001b[43m)\u001b[49m\n",
      "Cell \u001b[0;32mIn[36], line 4\u001b[0m, in \u001b[0;36mpredict\u001b[0;34m(ticker)\u001b[0m\n\u001b[1;32m      2\u001b[0m interval\u001b[38;5;241m=\u001b[39m\u001b[38;5;124m'\u001b[39m\u001b[38;5;124m2m\u001b[39m\u001b[38;5;124m'\u001b[39m \u001b[38;5;66;03m# Valid intervals: [1m, 2m, 5m, 15m, 30m, 60m, 90m, 1h, 1d, 5d, 1wk, 1mo, 3mo]\u001b[39;00m\n\u001b[1;32m      3\u001b[0m backdays\u001b[38;5;241m=\u001b[39m\u001b[38;5;241m1\u001b[39m\n\u001b[0;32m----> 4\u001b[0m st \u001b[38;5;241m=\u001b[39m \u001b[43mstock\u001b[49m\u001b[43m(\u001b[49m\u001b[43mticker\u001b[49m\u001b[43m,\u001b[49m\u001b[43m \u001b[49m\u001b[43minterval\u001b[49m\u001b[43m,\u001b[49m\u001b[43m \u001b[49m\u001b[43mbackdays\u001b[49m\u001b[43m)\u001b[49m\n\u001b[1;32m      5\u001b[0m df \u001b[38;5;241m=\u001b[39m st\u001b[38;5;241m.\u001b[39mgetPrice(ticker, interval, backdays)\n\u001b[1;32m      7\u001b[0m \u001b[38;5;66;03m# MFI (money flow index)\u001b[39;00m\n",
      "Cell \u001b[0;32mIn[33], line 7\u001b[0m, in \u001b[0;36mstock.__init__\u001b[0;34m(self, ticker, interval, backdays)\u001b[0m\n\u001b[1;32m      5\u001b[0m \u001b[38;5;28mself\u001b[39m\u001b[38;5;241m.\u001b[39mbackdays \u001b[38;5;241m=\u001b[39m backdays\n\u001b[1;32m      6\u001b[0m \u001b[38;5;28mself\u001b[39m\u001b[38;5;241m.\u001b[39mtf \u001b[38;5;241m=\u001b[39m yf\u001b[38;5;241m.\u001b[39mTicker(\u001b[38;5;28mself\u001b[39m\u001b[38;5;241m.\u001b[39mticker)\n\u001b[0;32m----> 7\u001b[0m \u001b[38;5;28mself\u001b[39m\u001b[38;5;241m.\u001b[39mdf \u001b[38;5;241m=\u001b[39m \u001b[43myf\u001b[49m\u001b[38;5;241;43m.\u001b[39;49m\u001b[43mdownload\u001b[49m\u001b[43m(\u001b[49m\u001b[38;5;28;43mself\u001b[39;49m\u001b[38;5;241;43m.\u001b[39;49m\u001b[43mtf\u001b[49m\u001b[43m,\u001b[49m\u001b[43m \u001b[49m\u001b[43minterval\u001b[49m\u001b[38;5;241;43m=\u001b[39;49m\u001b[38;5;28;43mself\u001b[39;49m\u001b[38;5;241;43m.\u001b[39;49m\u001b[43minterval\u001b[49m\u001b[43m,\u001b[49m\u001b[43m  \u001b[49m\n\u001b[1;32m      8\u001b[0m \u001b[43m              \u001b[49m\u001b[43mstart\u001b[49m\u001b[38;5;241;43m=\u001b[39;49m\u001b[43mdate\u001b[49m\u001b[38;5;241;43m.\u001b[39;49m\u001b[43mtoday\u001b[49m\u001b[43m(\u001b[49m\u001b[43m)\u001b[49m\u001b[43m \u001b[49m\u001b[38;5;241;43m-\u001b[39;49m\u001b[43m \u001b[49m\u001b[43mtimedelta\u001b[49m\u001b[43m(\u001b[49m\u001b[43mdays\u001b[49m\u001b[38;5;241;43m=\u001b[39;49m\u001b[38;5;28;43mself\u001b[39;49m\u001b[38;5;241;43m.\u001b[39;49m\u001b[43mbackdays\u001b[49m\u001b[43m)\u001b[49m\u001b[43m,\u001b[49m\u001b[43m \u001b[49m\n\u001b[1;32m      9\u001b[0m \u001b[43m              \u001b[49m\u001b[43mend\u001b[49m\u001b[38;5;241;43m=\u001b[39;49m\u001b[43mdate\u001b[49m\u001b[38;5;241;43m.\u001b[39;49m\u001b[43mtoday\u001b[49m\u001b[43m(\u001b[49m\u001b[43m)\u001b[49m\u001b[43m,\u001b[49m\u001b[43m \u001b[49m\n\u001b[1;32m     10\u001b[0m \u001b[43m              \u001b[49m\u001b[43mprogress\u001b[49m\u001b[38;5;241;43m=\u001b[39;49m\u001b[38;5;28;43;01mFalse\u001b[39;49;00m\u001b[43m)\u001b[49m\n",
      "File \u001b[0;32m/opt/homebrew/lib/python3.11/site-packages/yfinance/utils.py:114\u001b[0m, in \u001b[0;36mlog_indent_decorator.<locals>.wrapper\u001b[0;34m(*args, **kwargs)\u001b[0m\n\u001b[1;32m    111\u001b[0m logger\u001b[38;5;241m.\u001b[39mdebug(\u001b[38;5;124mf\u001b[39m\u001b[38;5;124m'\u001b[39m\u001b[38;5;124mEntering \u001b[39m\u001b[38;5;132;01m{\u001b[39;00mfunc\u001b[38;5;241m.\u001b[39m\u001b[38;5;18m__name__\u001b[39m\u001b[38;5;132;01m}\u001b[39;00m\u001b[38;5;124m()\u001b[39m\u001b[38;5;124m'\u001b[39m)\n\u001b[1;32m    113\u001b[0m \u001b[38;5;28;01mwith\u001b[39;00m IndentationContext():\n\u001b[0;32m--> 114\u001b[0m     result \u001b[38;5;241m=\u001b[39m \u001b[43mfunc\u001b[49m\u001b[43m(\u001b[49m\u001b[38;5;241;43m*\u001b[39;49m\u001b[43margs\u001b[49m\u001b[43m,\u001b[49m\u001b[43m \u001b[49m\u001b[38;5;241;43m*\u001b[39;49m\u001b[38;5;241;43m*\u001b[39;49m\u001b[43mkwargs\u001b[49m\u001b[43m)\u001b[49m\n\u001b[1;32m    116\u001b[0m logger\u001b[38;5;241m.\u001b[39mdebug(\u001b[38;5;124mf\u001b[39m\u001b[38;5;124m'\u001b[39m\u001b[38;5;124mExiting \u001b[39m\u001b[38;5;132;01m{\u001b[39;00mfunc\u001b[38;5;241m.\u001b[39m\u001b[38;5;18m__name__\u001b[39m\u001b[38;5;132;01m}\u001b[39;00m\u001b[38;5;124m()\u001b[39m\u001b[38;5;124m'\u001b[39m)\n\u001b[1;32m    117\u001b[0m \u001b[38;5;28;01mreturn\u001b[39;00m result\n",
      "File \u001b[0;32m/opt/homebrew/lib/python3.11/site-packages/yfinance/multi.py:122\u001b[0m, in \u001b[0;36mdownload\u001b[0;34m(tickers, start, end, actions, threads, ignore_tz, group_by, auto_adjust, back_adjust, repair, keepna, progress, period, show_errors, interval, prepost, proxy, rounding, timeout, session)\u001b[0m\n\u001b[1;32m    118\u001b[0m         ignore_tz \u001b[38;5;241m=\u001b[39m \u001b[38;5;28;01mTrue\u001b[39;00m\n\u001b[1;32m    120\u001b[0m \u001b[38;5;66;03m# create ticker list\u001b[39;00m\n\u001b[1;32m    121\u001b[0m tickers \u001b[38;5;241m=\u001b[39m tickers \u001b[38;5;28;01mif\u001b[39;00m \u001b[38;5;28misinstance\u001b[39m(\n\u001b[0;32m--> 122\u001b[0m     tickers, (\u001b[38;5;28mlist\u001b[39m, \u001b[38;5;28mset\u001b[39m, \u001b[38;5;28mtuple\u001b[39m)) \u001b[38;5;28;01melse\u001b[39;00m \u001b[43mtickers\u001b[49m\u001b[38;5;241;43m.\u001b[39;49m\u001b[43mreplace\u001b[49m(\u001b[38;5;124m'\u001b[39m\u001b[38;5;124m,\u001b[39m\u001b[38;5;124m'\u001b[39m, \u001b[38;5;124m'\u001b[39m\u001b[38;5;124m \u001b[39m\u001b[38;5;124m'\u001b[39m)\u001b[38;5;241m.\u001b[39msplit()\n\u001b[1;32m    124\u001b[0m \u001b[38;5;66;03m# accept isin as ticker\u001b[39;00m\n\u001b[1;32m    125\u001b[0m shared\u001b[38;5;241m.\u001b[39m_ISINS \u001b[38;5;241m=\u001b[39m {}\n",
      "\u001b[0;31mAttributeError\u001b[0m: 'Ticker' object has no attribute 'replace'"
     ]
    }
   ],
   "source": [
    "tickers = ['msft', 'wmt', 'ba', 'rtx','tm', 'uso', 'voo']\n",
    "\n",
    "for ticker in tickers:\n",
    "    print('\\n')\n",
    "    predict(ticker)"
   ]
  },
  {
   "cell_type": "code",
   "execution_count": 38,
   "id": "ec55b99e",
   "metadata": {},
   "outputs": [],
   "source": [
    "import yahoo_fin.stock_info as si\n"
   ]
  },
  {
   "cell_type": "code",
   "execution_count": 39,
   "id": "aae678fa",
   "metadata": {},
   "outputs": [],
   "source": [
    "df17 = si.get_data('voo', interval='1d', start_date=\"01/01/2017\" , end_date=\"31/12/2017\")\n",
    "df18 = si.get_data('voo', interval='1d', start_date=\"01/01/2018\" , end_date=\"31/12/2018\")\n",
    "df19 = si.get_data('voo', interval='1d', start_date=\"01/01/2019\" , end_date=\"31/12/2019\")\n",
    "df20 = si.get_data('voo', interval='1d', start_date=\"01/01/2020\" , end_date=\"31/12/2020\")\n",
    "df21 = si.get_data('voo', interval='1d', start_date=\"01/01/2021\" , end_date=\"31/12/2021\")\n",
    "df22 = si.get_data('voo', interval='1d', start_date=\"01/01/2022\" , end_date=\"31/12/2022\")\n",
    "df23 = si.get_data('voo', interval='1d', start_date=\"01/01/2023\" , end_date=\"31/12/2023\")"
   ]
  },
  {
   "cell_type": "code",
   "execution_count": 40,
   "id": "c135bf49",
   "metadata": {},
   "outputs": [],
   "source": [
    "df17['gain'] = df17['close'] - df17['open'] >=0\n",
    "df18['gain'] = df18['close'] - df18['open'] >=0\n",
    "df19['gain'] = df19['close'] - df19['open'] >=0\n",
    "df20['gain'] = df20['close'] - df20['open'] >=0\n",
    "df21['gain'] = df21['close'] - df21['open'] >=0\n",
    "df22['gain'] = df22['close'] - df22['open'] >=0\n",
    "df23['gain'] = df23['close'] - df23['open'] >=0\n"
   ]
  },
  {
   "cell_type": "code",
   "execution_count": null,
   "id": "37d3dd5d",
   "metadata": {},
   "outputs": [],
   "source": []
  },
  {
   "cell_type": "code",
   "execution_count": 41,
   "id": "96e9a242",
   "metadata": {},
   "outputs": [
    {
     "data": {
      "text/plain": [
       "((251, 8), (251, 8), (250, 8))"
      ]
     },
     "execution_count": 41,
     "metadata": {},
     "output_type": "execute_result"
    }
   ],
   "source": [
    "df21.shape , df22.shape, df23.shape"
   ]
  },
  {
   "cell_type": "code",
   "execution_count": 42,
   "id": "0801c727",
   "metadata": {},
   "outputs": [],
   "source": [
    "df21.head()\n",
    "x1 = list(range(len(df17)))\n",
    "x2 = list(range(len(df18)))\n",
    "x3 = list(range(len(df19)))\n",
    "x4 = list(range(len(df20)))\n",
    "x5 = list(range(len(df21)))\n",
    "x6 = list(range(len(df22)))\n",
    "x7 = list(range(len(df23)))\n"
   ]
  },
  {
   "cell_type": "code",
   "execution_count": 43,
   "id": "f1be3f45",
   "metadata": {},
   "outputs": [
    {
     "data": {
      "image/png": "[encoded data removed]",
      "text/plain": [
       "<Figure size 640x480 with 1 Axes>"
      ]
     },
     "metadata": {},
     "output_type": "display_data"
    }
   ],
   "source": [
    "plt.scatter(x1, df17['gain'], label='Series 1')\n",
    "plt.scatter(x2, df18['gain'], label='Series 2')\n",
    "# plt.plot(x3, df19['open'], label='Series 3')\n",
    "# plt.plot(x4, df20['open'], label='Series 4')\n",
    "# plt.plot(x5, df21['open'], label='Series 5')\n",
    "# plt.plot(x6, df22['open'], label='Series 6')\n",
    "# plt.plot(x7, df23['open'], label='Series 7')\n",
    "plt.legend()\n",
    "\n",
    "plt.show()"
   ]
  },
  {
   "cell_type": "code",
   "execution_count": 44,
   "id": "4832e136-4197-407d-aca8-b3fc55aa6d3b",
   "metadata": {},
   "outputs": [],
   "source": [
    "def check_normality(data):\n",
    "    test_stat_normality, p_value_normality=stats.shapiro(data)\n",
    "    print(\"p value:%.4f\" % p_value_normality)\n",
    "    if p_value_normality < 0.05:\n",
    "        print(\"Reject null hypothesis >> The data is not normally distributed\")\n",
    "    else:\n",
    "        print(\"Fail to reject null hypothesis >> The data is normally distributed\")       "
   ]
  },
  {
   "cell_type": "code",
   "execution_count": 45,
   "id": "8b972a48-2a54-49fa-a8d5-9b3e8ace90d7",
   "metadata": {},
   "outputs": [],
   "source": [
    "ticker='msft'\n",
    "interval='1d' # Valid intervals: [1m, 2m, 5m, 15m, 30m, 60m, 90m, 1h, 1d, 5d, 1wk, 1mo, 3mo]\n",
    "backdays=1000\n",
    "\n",
    "df = getPrice(ticker, interval, backdays)\n",
    "\n",
    "df['Typical Price'] = (df['Open']+df['High'] + df['Low'] + df['Close']) / 4\n",
    "\n",
    "df['Change'] = (df['Close']-df['Open'])/df['Open']"
   ]
  },
  {
   "cell_type": "code",
   "execution_count": 46,
   "id": "e82b2a55-af99-4697-a087-128ac483eb43",
   "metadata": {},
   "outputs": [],
   "source": [
    "df['day'] = df.index.weekday"
   ]
  },
  {
   "cell_type": "code",
   "execution_count": 47,
   "id": "504cbedb-9cb1-4cb6-855d-c66ec4a05e50",
   "metadata": {},
   "outputs": [],
   "source": [
    "mon = df[df['day']==0]\n",
    "tue = df[df['day']==1]\n",
    "wed = df[df['day']==2]\n",
    "thu = df[df['day']==3]\n",
    "fri = df[df['day']==4]"
   ]
  },
  {
   "cell_type": "code",
   "execution_count": 48,
   "id": "187ab209-8825-4c7e-a020-c8cc784782d8",
   "metadata": {},
   "outputs": [
    {
     "data": {
      "text/plain": [
       "(124, 9)"
      ]
     },
     "execution_count": 48,
     "metadata": {},
     "output_type": "execute_result"
    }
   ],
   "source": [
    "mon.shape"
   ]
  },
  {
   "cell_type": "markdown",
   "id": "12b422e3-563e-47c6-bf41-ab0ab2be7b4e",
   "metadata": {},
   "source": [
    "check_normality: Null hypothesis=The data was drawn from a normal distribution\n",
    "\n",
    "if p value is < 0.05 (2 tail), means we reject null => data has pattern and not noraml distribution\n",
    "else data is random and normal."
   ]
  },
  {
   "cell_type": "code",
   "execution_count": 49,
   "id": "1563942b-d28d-4107-96b5-2badacaf0c32",
   "metadata": {},
   "outputs": [
    {
     "name": "stdout",
     "output_type": "stream",
     "text": [
      "Monday\n",
      "p value:0.8927\n",
      "Fail to reject null hypothesis >> The data is normally distributed\n",
      "\n",
      "\n",
      "Tuesday\n",
      "p value:0.4580\n",
      "Fail to reject null hypothesis >> The data is normally distributed\n",
      "\n",
      "\n",
      "Wednesday\n",
      "p value:0.0111\n",
      "Reject null hypothesis >> The data is not normally distributed\n",
      "\n",
      "\n",
      "Thursday\n",
      "p value:0.0000\n",
      "Reject null hypothesis >> The data is not normally distributed\n",
      "\n",
      "\n",
      "Friday\n",
      "p value:0.7115\n",
      "Fail to reject null hypothesis >> The data is normally distributed\n"
     ]
    }
   ],
   "source": [
    "print('Monday')\n",
    "check_normality(mon['Change'])\n",
    "print('\\n\\nTuesday')\n",
    "check_normality(tue['Change'])\n",
    "print('\\n\\nWednesday')\n",
    "check_normality(wed['Change'])\n",
    "print('\\n\\nThursday')\n",
    "check_normality(thu['Change'])\n",
    "print('\\n\\nFriday')\n",
    "check_normality(fri['Change'])"
   ]
  },
  {
   "cell_type": "markdown",
   "id": "c614992f-3851-4dee-8550-aede2637bd81",
   "metadata": {},
   "source": [
    "Wednesday shows p-value near 0.05 => some pattern is observed in people's behavior. But weak support. "
   ]
  },
  {
   "cell_type": "code",
   "execution_count": 50,
   "id": "0aaefc2b-a4e4-4988-99ed-4d9d8d70dab4",
   "metadata": {},
   "outputs": [
    {
     "data": {
      "text/plain": [
       "count    140.000000\n",
       "mean       0.000895\n",
       "std        0.018038\n",
       "min       -0.048897\n",
       "25%       -0.007660\n",
       "50%        0.001063\n",
       "75%        0.010920\n",
       "max        0.081024\n",
       "Name: Change, dtype: float64"
      ]
     },
     "execution_count": 50,
     "metadata": {},
     "output_type": "execute_result"
    }
   ],
   "source": [
    "thu['Change'].describe()"
   ]
  },
  {
   "cell_type": "code",
   "execution_count": 51,
   "id": "7106c1cc-d036-4a28-99a1-c58cf41dadc7",
   "metadata": {},
   "outputs": [
    {
     "data": {
      "text/plain": [
       "<Axes: >"
      ]
     },
     "execution_count": 51,
     "metadata": {},
     "output_type": "execute_result"
    },
    {
     "data": {
      "image/png": "[encoded data removed]",
      "text/plain": [
       "<Figure size 640x480 with 1 Axes>"
      ]
     },
     "metadata": {},
     "output_type": "display_data"
    }
   ],
   "source": [
    "thu['Change'].hist(bins=50)"
   ]
  },
  {
   "cell_type": "code",
   "execution_count": null,
   "id": "2be90f98-1f5b-43bb-90ee-5e5baed89a8c",
   "metadata": {},
   "outputs": [],
   "source": []
  },
  {
   "cell_type": "code",
   "execution_count": null,
   "id": "924e1231-dcb9-4b6a-914a-acb4bea4a348",
   "metadata": {},
   "outputs": [],
   "source": []
  },
  {
   "cell_type": "code",
   "execution_count": 52,
   "id": "c1578a36-52dc-4066-99dc-8ce29f723c3f",
   "metadata": {},
   "outputs": [
    {
     "ename": "HTTPError",
     "evalue": "404 Client Error: Not Found for url: https://query2.finance.yahoo.com/v6/finance/quoteSummary/BRWM.L?modules=financialData&modules=quoteType&modules=defaultKeyStatistics&modules=assetProfile&modules=summaryDetail&ssl=true",
     "output_type": "error",
     "traceback": [
      "\u001b[0;31m---------------------------------------------------------------------------\u001b[0m",
      "\u001b[0;31mHTTPError\u001b[0m                                 Traceback (most recent call last)",
      "Cell \u001b[0;32mIn[52], line 2\u001b[0m\n\u001b[1;32m      1\u001b[0m x\u001b[38;5;241m=\u001b[39myf\u001b[38;5;241m.\u001b[39mTicker(\u001b[38;5;124m'\u001b[39m\u001b[38;5;124mBRWM.L\u001b[39m\u001b[38;5;124m'\u001b[39m)\n\u001b[0;32m----> 2\u001b[0m \u001b[43mx\u001b[49m\u001b[38;5;241;43m.\u001b[39;49m\u001b[43minfo\u001b[49m\n",
      "File \u001b[0;32m/opt/homebrew/lib/python3.11/site-packages/yfinance/ticker.py:142\u001b[0m, in \u001b[0;36mTicker.info\u001b[0;34m(self)\u001b[0m\n\u001b[1;32m    140\u001b[0m \u001b[38;5;129m@property\u001b[39m\n\u001b[1;32m    141\u001b[0m \u001b[38;5;28;01mdef\u001b[39;00m \u001b[38;5;21minfo\u001b[39m(\u001b[38;5;28mself\u001b[39m) \u001b[38;5;241m-\u001b[39m\u001b[38;5;241m>\u001b[39m \u001b[38;5;28mdict\u001b[39m:\n\u001b[0;32m--> 142\u001b[0m     \u001b[38;5;28;01mreturn\u001b[39;00m \u001b[38;5;28;43mself\u001b[39;49m\u001b[38;5;241;43m.\u001b[39;49m\u001b[43mget_info\u001b[49m\u001b[43m(\u001b[49m\u001b[43m)\u001b[49m\n",
      "File \u001b[0;32m/opt/homebrew/lib/python3.11/site-packages/yfinance/base.py:1736\u001b[0m, in \u001b[0;36mTickerBase.get_info\u001b[0;34m(self, proxy)\u001b[0m\n\u001b[1;32m   1734\u001b[0m \u001b[38;5;28;01mdef\u001b[39;00m \u001b[38;5;21mget_info\u001b[39m(\u001b[38;5;28mself\u001b[39m, proxy\u001b[38;5;241m=\u001b[39m\u001b[38;5;28;01mNone\u001b[39;00m) \u001b[38;5;241m-\u001b[39m\u001b[38;5;241m>\u001b[39m \u001b[38;5;28mdict\u001b[39m:\n\u001b[1;32m   1735\u001b[0m     \u001b[38;5;28mself\u001b[39m\u001b[38;5;241m.\u001b[39m_quote\u001b[38;5;241m.\u001b[39mproxy \u001b[38;5;241m=\u001b[39m proxy\n\u001b[0;32m-> 1736\u001b[0m     data \u001b[38;5;241m=\u001b[39m \u001b[38;5;28;43mself\u001b[39;49m\u001b[38;5;241;43m.\u001b[39;49m\u001b[43m_quote\u001b[49m\u001b[38;5;241;43m.\u001b[39;49m\u001b[43minfo\u001b[49m\n\u001b[1;32m   1737\u001b[0m     \u001b[38;5;28;01mreturn\u001b[39;00m data\n",
      "File \u001b[0;32m/opt/homebrew/lib/python3.11/site-packages/yfinance/scrapers/quote.py:571\u001b[0m, in \u001b[0;36mQuote.info\u001b[0;34m(self)\u001b[0m\n\u001b[1;32m    568\u001b[0m \u001b[38;5;129m@property\u001b[39m\n\u001b[1;32m    569\u001b[0m \u001b[38;5;28;01mdef\u001b[39;00m \u001b[38;5;21minfo\u001b[39m(\u001b[38;5;28mself\u001b[39m) \u001b[38;5;241m-\u001b[39m\u001b[38;5;241m>\u001b[39m \u001b[38;5;28mdict\u001b[39m:\n\u001b[1;32m    570\u001b[0m     \u001b[38;5;28;01mif\u001b[39;00m \u001b[38;5;28mself\u001b[39m\u001b[38;5;241m.\u001b[39m_info \u001b[38;5;129;01mis\u001b[39;00m \u001b[38;5;28;01mNone\u001b[39;00m:\n\u001b[0;32m--> 571\u001b[0m         \u001b[38;5;28;43mself\u001b[39;49m\u001b[38;5;241;43m.\u001b[39;49m\u001b[43m_fetch\u001b[49m\u001b[43m(\u001b[49m\u001b[38;5;28;43mself\u001b[39;49m\u001b[38;5;241;43m.\u001b[39;49m\u001b[43mproxy\u001b[49m\u001b[43m)\u001b[49m\n\u001b[1;32m    572\u001b[0m         \u001b[38;5;28mself\u001b[39m\u001b[38;5;241m.\u001b[39m_fetch_complementary(\u001b[38;5;28mself\u001b[39m\u001b[38;5;241m.\u001b[39mproxy)\n\u001b[1;32m    574\u001b[0m     \u001b[38;5;28;01mreturn\u001b[39;00m \u001b[38;5;28mself\u001b[39m\u001b[38;5;241m.\u001b[39m_info\n",
      "File \u001b[0;32m/opt/homebrew/lib/python3.11/site-packages/yfinance/scrapers/quote.py:600\u001b[0m, in \u001b[0;36mQuote._fetch\u001b[0;34m(self, proxy)\u001b[0m\n\u001b[1;32m    598\u001b[0m modules \u001b[38;5;241m=\u001b[39m [\u001b[38;5;124m'\u001b[39m\u001b[38;5;124mfinancialData\u001b[39m\u001b[38;5;124m'\u001b[39m, \u001b[38;5;124m'\u001b[39m\u001b[38;5;124mquoteType\u001b[39m\u001b[38;5;124m'\u001b[39m, \u001b[38;5;124m'\u001b[39m\u001b[38;5;124mdefaultKeyStatistics\u001b[39m\u001b[38;5;124m'\u001b[39m, \u001b[38;5;124m'\u001b[39m\u001b[38;5;124massetProfile\u001b[39m\u001b[38;5;124m'\u001b[39m, \u001b[38;5;124m'\u001b[39m\u001b[38;5;124msummaryDetail\u001b[39m\u001b[38;5;124m'\u001b[39m]\n\u001b[1;32m    599\u001b[0m params_dict \u001b[38;5;241m=\u001b[39m {\u001b[38;5;124m\"\u001b[39m\u001b[38;5;124mmodules\u001b[39m\u001b[38;5;124m\"\u001b[39m: modules, \u001b[38;5;124m\"\u001b[39m\u001b[38;5;124mssl\u001b[39m\u001b[38;5;124m\"\u001b[39m: \u001b[38;5;124m\"\u001b[39m\u001b[38;5;124mtrue\u001b[39m\u001b[38;5;124m\"\u001b[39m}\n\u001b[0;32m--> 600\u001b[0m result \u001b[38;5;241m=\u001b[39m \u001b[38;5;28;43mself\u001b[39;49m\u001b[38;5;241;43m.\u001b[39;49m\u001b[43m_data\u001b[49m\u001b[38;5;241;43m.\u001b[39;49m\u001b[43mget_raw_json\u001b[49m\u001b[43m(\u001b[49m\n\u001b[1;32m    601\u001b[0m \u001b[43m    \u001b[49m\u001b[43m_BASIC_URL_\u001b[49m\u001b[43m \u001b[49m\u001b[38;5;241;43m+\u001b[39;49m\u001b[43m \u001b[49m\u001b[38;5;124;43mf\u001b[39;49m\u001b[38;5;124;43m\"\u001b[39;49m\u001b[38;5;124;43m/\u001b[39;49m\u001b[38;5;132;43;01m{\u001b[39;49;00m\u001b[38;5;28;43mself\u001b[39;49m\u001b[38;5;241;43m.\u001b[39;49m\u001b[43m_data\u001b[49m\u001b[38;5;241;43m.\u001b[39;49m\u001b[43mticker\u001b[49m\u001b[38;5;132;43;01m}\u001b[39;49;00m\u001b[38;5;124;43m\"\u001b[39;49m\u001b[43m,\u001b[49m\u001b[43m \u001b[49m\u001b[43mparams\u001b[49m\u001b[38;5;241;43m=\u001b[39;49m\u001b[43mparams_dict\u001b[49m\u001b[43m,\u001b[49m\u001b[43m \u001b[49m\u001b[43mproxy\u001b[49m\u001b[38;5;241;43m=\u001b[39;49m\u001b[43mproxy\u001b[49m\n\u001b[1;32m    602\u001b[0m \u001b[43m\u001b[49m\u001b[43m)\u001b[49m\n\u001b[1;32m    603\u001b[0m result[\u001b[38;5;124m\"\u001b[39m\u001b[38;5;124mquoteSummary\u001b[39m\u001b[38;5;124m\"\u001b[39m][\u001b[38;5;124m\"\u001b[39m\u001b[38;5;124mresult\u001b[39m\u001b[38;5;124m\"\u001b[39m][\u001b[38;5;241m0\u001b[39m][\u001b[38;5;124m\"\u001b[39m\u001b[38;5;124msymbol\u001b[39m\u001b[38;5;124m\"\u001b[39m] \u001b[38;5;241m=\u001b[39m \u001b[38;5;28mself\u001b[39m\u001b[38;5;241m.\u001b[39m_data\u001b[38;5;241m.\u001b[39mticker\n\u001b[1;32m    604\u001b[0m query1_info \u001b[38;5;241m=\u001b[39m \u001b[38;5;28mnext\u001b[39m(\n\u001b[1;32m    605\u001b[0m     (info \u001b[38;5;28;01mfor\u001b[39;00m info \u001b[38;5;129;01min\u001b[39;00m result\u001b[38;5;241m.\u001b[39mget(\u001b[38;5;124m\"\u001b[39m\u001b[38;5;124mquoteSummary\u001b[39m\u001b[38;5;124m\"\u001b[39m, {})\u001b[38;5;241m.\u001b[39mget(\u001b[38;5;124m\"\u001b[39m\u001b[38;5;124mresult\u001b[39m\u001b[38;5;124m\"\u001b[39m, []) \u001b[38;5;28;01mif\u001b[39;00m info[\u001b[38;5;124m\"\u001b[39m\u001b[38;5;124msymbol\u001b[39m\u001b[38;5;124m\"\u001b[39m] \u001b[38;5;241m==\u001b[39m \u001b[38;5;28mself\u001b[39m\u001b[38;5;241m.\u001b[39m_data\u001b[38;5;241m.\u001b[39mticker),\n\u001b[1;32m    606\u001b[0m     \u001b[38;5;28;01mNone\u001b[39;00m,\n\u001b[1;32m    607\u001b[0m )\n",
      "File \u001b[0;32m/opt/homebrew/lib/python3.11/site-packages/yfinance/data.py:75\u001b[0m, in \u001b[0;36mTickerData.get_raw_json\u001b[0;34m(self, url, user_agent_headers, params, proxy, timeout)\u001b[0m\n\u001b[1;32m     73\u001b[0m \u001b[38;5;28;01mdef\u001b[39;00m \u001b[38;5;21mget_raw_json\u001b[39m(\u001b[38;5;28mself\u001b[39m, url, user_agent_headers\u001b[38;5;241m=\u001b[39m\u001b[38;5;28;01mNone\u001b[39;00m, params\u001b[38;5;241m=\u001b[39m\u001b[38;5;28;01mNone\u001b[39;00m, proxy\u001b[38;5;241m=\u001b[39m\u001b[38;5;28;01mNone\u001b[39;00m, timeout\u001b[38;5;241m=\u001b[39m\u001b[38;5;241m30\u001b[39m):\n\u001b[1;32m     74\u001b[0m     response \u001b[38;5;241m=\u001b[39m \u001b[38;5;28mself\u001b[39m\u001b[38;5;241m.\u001b[39mget(url, user_agent_headers\u001b[38;5;241m=\u001b[39muser_agent_headers, params\u001b[38;5;241m=\u001b[39mparams, proxy\u001b[38;5;241m=\u001b[39mproxy, timeout\u001b[38;5;241m=\u001b[39mtimeout)\n\u001b[0;32m---> 75\u001b[0m     \u001b[43mresponse\u001b[49m\u001b[38;5;241;43m.\u001b[39;49m\u001b[43mraise_for_status\u001b[49m\u001b[43m(\u001b[49m\u001b[43m)\u001b[49m\n\u001b[1;32m     76\u001b[0m     \u001b[38;5;28;01mreturn\u001b[39;00m response\u001b[38;5;241m.\u001b[39mjson()\n",
      "File \u001b[0;32m/opt/homebrew/lib/python3.11/site-packages/requests/models.py:1021\u001b[0m, in \u001b[0;36mResponse.raise_for_status\u001b[0;34m(self)\u001b[0m\n\u001b[1;32m   1016\u001b[0m     http_error_msg \u001b[38;5;241m=\u001b[39m (\n\u001b[1;32m   1017\u001b[0m         \u001b[38;5;124mf\u001b[39m\u001b[38;5;124m\"\u001b[39m\u001b[38;5;132;01m{\u001b[39;00m\u001b[38;5;28mself\u001b[39m\u001b[38;5;241m.\u001b[39mstatus_code\u001b[38;5;132;01m}\u001b[39;00m\u001b[38;5;124m Server Error: \u001b[39m\u001b[38;5;132;01m{\u001b[39;00mreason\u001b[38;5;132;01m}\u001b[39;00m\u001b[38;5;124m for url: \u001b[39m\u001b[38;5;132;01m{\u001b[39;00m\u001b[38;5;28mself\u001b[39m\u001b[38;5;241m.\u001b[39murl\u001b[38;5;132;01m}\u001b[39;00m\u001b[38;5;124m\"\u001b[39m\n\u001b[1;32m   1018\u001b[0m     )\n\u001b[1;32m   1020\u001b[0m \u001b[38;5;28;01mif\u001b[39;00m http_error_msg:\n\u001b[0;32m-> 1021\u001b[0m     \u001b[38;5;28;01mraise\u001b[39;00m HTTPError(http_error_msg, response\u001b[38;5;241m=\u001b[39m\u001b[38;5;28mself\u001b[39m)\n",
      "\u001b[0;31mHTTPError\u001b[0m: 404 Client Error: Not Found for url: https://query2.finance.yahoo.com/v6/finance/quoteSummary/BRWM.L?modules=financialData&modules=quoteType&modules=defaultKeyStatistics&modules=assetProfile&modules=summaryDetail&ssl=true"
     ]
    }
   ],
   "source": [
    "x=yf.Ticker('BRWM.L')\n",
    "x.info"
   ]
  },
  {
   "cell_type": "code",
   "execution_count": null,
   "id": "aeb58ce9-04db-4ae1-8413-523d330b7e9c",
   "metadata": {},
   "outputs": [],
   "source": []
  }
 ],
 "metadata": {
  "kernelspec": {
   "display_name": "Python 3 (ipykernel)",
   "language": "python",
   "name": "python3"
  },
  "language_info": {
   "codemirror_mode": {
    "name": "ipython",
    "version": 3
   },
   "file_extension": ".py",
   "mimetype": "text/x-python",
   "name": "python",
   "nbconvert_exporter": "python",
   "pygments_lexer": "ipython3",
   "version": "3.11.5"
  }
 },
 "nbformat": 4,
 "nbformat_minor": 5
}
