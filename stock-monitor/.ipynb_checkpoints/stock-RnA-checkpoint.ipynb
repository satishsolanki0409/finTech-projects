{
 "cells": [
  {
   "cell_type": "markdown",
   "id": "3792b6ce-112a-46ed-9f4d-93c06c88ca08",
   "metadata": {},
   "source": [
    "## Objective:\n",
    "\n",
    "At a high level, we want to answer the following questions:\n",
    "- Measure the performance of the stock.\n",
    "- Analyze the stocks and develop a strategy\n",
    "- Risk of investment in specific stocks\n",
    "- which stocks to buy right now? and for how long?"
   ]
  },
  {
   "cell_type": "markdown",
   "id": "0a1cb98f-64a4-4328-9c3a-2a501716efc0",
   "metadata": {},
   "source": [
    "## Information Source\n",
    "\n",
    "### 1. Finviz\n",
    "It is well well-known free source of information related to the stock market and companies. Moreover, it has news articles, that can be leveraged to further prediction of the market.\n",
    "\n",
    "There are two python packages: (1) finviz(most stared, but not good)  (2) finvizfinance (USEFUL)\n",
    "\n",
    "Some important links related to finvizfinance\n",
    "1. Doc: https://finvizfinance.readthedocs.io/en/latest/"
   ]
  },
  {
   "cell_type": "code",
   "execution_count": 41,
   "id": "9f0edacb-2f93-4138-9b4f-a76ab2d5996d",
   "metadata": {},
   "outputs": [],
   "source": [
    "# get price of a stock (lets say \"VOO\" Vangaurd S&P 500)\n",
    "ticker = \"VOO\""
   ]
  },
  {
   "cell_type": "markdown",
   "id": "e5a58ff0-e36b-458b-b42e-c49d16856323",
   "metadata": {},
   "source": [
    "## Beta"
   ]
  },
  {
   "cell_type": "markdown",
   "id": "4ba9c88a-bcf8-4bf7-aba6-4042bd0c9d87",
   "metadata": {},
   "source": [
    "Think about risk into two categories. \n",
    "\n",
    "1) systematic risk, which is the risk of the entire market declining.\n",
    "   Example: The financial crisis in 2008 is an example of a systematic-risk event; no amount of diversification could have prevented investors from losing value in their stock portfolios. Systematic risk is also known as un-diversifiable risk.\n",
    "\n",
    "2) Unsystematic risk, also known as diversifiable risk, is the uncertainty associated with an individual stock or industry.\n",
    "   Example, the surprise announcement that the company Lumber Liquidators (LL) had been selling hardwood flooring with dangerous levels of formaldehyde in 2015 is an example of unsystematic risk. Lumber Liquidators. \"Lumber Liquidators Provides Update On Laminate Flooring Sourced From China.\"\n",
    "It was risk that was specific to that company. **Unsystematic risk can be partially mitigated through diversification**.\n",
    "\n",
    "NOTE: **Beta cannot estimate Unsystematic Risk.**"
   ]
  },
  {
   "cell_type": "markdown",
   "id": "bcc1f8eb-fca1-44d1-8050-93f1749f5363",
   "metadata": {},
   "source": [
    "#### Beta = 1.0\n",
    "Price activity is strongly correlated with the market. A stock has systematic risk. \n",
    "\n",
    "Adding a stock to a portfolio: **doesn’t add any risk to the portfolio, also doesn’t increase the likelihood that the portfolio will provide an excess return.**\n",
    "\n",
    "#### Beta < 1.0\n",
    "Theoretically less volatile than the market. \n",
    "\n",
    "Adding this stock to a portfolio: **makes it less risky.** For example, utility stocks often have low betas because they tend to move more slowly than market averages.\n",
    "\n",
    "#### Beta > 1.0\n",
    "Price is theoretically more volatile than the market. For example, if a stock's beta is 1.2, it is assumed to be 20% more volatile than the market. \n",
    "\n",
    "Example: Technology stocks and small cap stocks tend to have higher betas than the market benchmark. This indicates that adding the stock to a portfolio will increase the portfolio’s risk, but may also increase its expected return.\n",
    "\n",
    "#### Beta < 0\n",
    "A beta of -1.0 means that the stock is inversely correlated to the market benchmark on a 1:1 basis. This stock could be thought of as an opposite, mirror image of the benchmark’s trends. \n",
    "\n",
    "Example: **Put options and inverse ETFs are designed to have negative betas.** There are also a few industry groups, like gold miners, where a negative beta is also common.\n",
    "\n",
    "#### Assumtion in Beta\n",
    "Assumes that stock returns are normally distributed from a statistical perspective. \n",
    "However, **financial markets are prone to large surprises**. In reality, returns aren’t always normally distributed. \n",
    "\n",
    "NOTE: **It's recommended that investors using beta to evaluate a stock also evaluate it from other perspectives—such as fundamental or technical factors—before assuming it will add or remove risk from a portfolio.**\n",
    "\n",
    "#### Drawbacks/Limitation of Beta\n",
    "- **Beta is useful in determining a security's short-term risk, and for analyzing volatility to arrive at equity costs when using the CAPM.**\n",
    "- Beta is less meaningful for investors looking to predict a stock's future movements.\n",
    "- Beta is also less useful for long-term investments since a stock's volatility can change significantly from year to year\n",
    "- Beta of a particular stock tends to jump around over time, which makes it unreliable as a stable measure.\n",
    "- Many experts agree that while Beta provides some information about risk, it is not an effective measure of risk on its own."
   ]
  },
  {
   "cell_type": "code",
   "execution_count": 37,
   "id": "8cc58103-05e7-46f2-b5a4-c7376c89382b",
   "metadata": {},
   "outputs": [],
   "source": [
    "from finvizfinance.quote import finvizfinance as fin"
   ]
  },
  {
   "cell_type": "code",
   "execution_count": 38,
   "id": "7ab7b2be-57fd-4841-a68a-1399a4f16520",
   "metadata": {},
   "outputs": [],
   "source": [
    "stock = fin(ticker)"
   ]
  },
  {
   "cell_type": "code",
   "execution_count": 39,
   "id": "ab6b215e-aedb-4ac3-a2de-7a7819afe10e",
   "metadata": {},
   "outputs": [
    {
     "data": {
      "text/html": [
       "<div>\n",
       "<style scoped>\n",
       "    .dataframe tbody tr th:only-of-type {\n",
       "        vertical-align: middle;\n",
       "    }\n",
       "\n",
       "    .dataframe tbody tr th {\n",
       "        vertical-align: top;\n",
       "    }\n",
       "\n",
       "    .dataframe thead th {\n",
       "        text-align: right;\n",
       "    }\n",
       "</style>\n",
       "<table border=\"1\" class=\"dataframe\">\n",
       "  <thead>\n",
       "    <tr style=\"text-align: right;\">\n",
       "      <th></th>\n",
       "      <th>Date</th>\n",
       "      <th>Title</th>\n",
       "      <th>Link</th>\n",
       "    </tr>\n",
       "  </thead>\n",
       "  <tbody>\n",
       "    <tr>\n",
       "      <th>0</th>\n",
       "      <td>2023-08-13 12:48:00</td>\n",
       "      <td>Big-box earnings, retail sales, Fed minutes: W...</td>\n",
       "      <td>https://finance.yahoo.com/news/big-box-earning...</td>\n",
       "    </tr>\n",
       "    <tr>\n",
       "      <th>1</th>\n",
       "      <td>2023-06-17 19:28:00</td>\n",
       "      <td>This Simple but Effective Fund Is 2023s Most P...</td>\n",
       "      <td>https://finance.yahoo.com/news/simple-effectiv...</td>\n",
       "    </tr>\n",
       "    <tr>\n",
       "      <th>2</th>\n",
       "      <td>2023-03-15 12:00:00</td>\n",
       "      <td>Allan Roth: Is Direct Indexing Better Than ETFs?</td>\n",
       "      <td>https://finance.yahoo.com/news/allan-roth-dire...</td>\n",
       "    </tr>\n",
       "    <tr>\n",
       "      <th>3</th>\n",
       "      <td>2023-02-28 14:45:00</td>\n",
       "      <td>Small ETFs Gaining Traction in 2023</td>\n",
       "      <td>https://finance.yahoo.com/news/fastest-growing...</td>\n",
       "    </tr>\n",
       "    <tr>\n",
       "      <th>4</th>\n",
       "      <td>2023-02-09 16:00:00</td>\n",
       "      <td>Zero Fee ETF Crosses $1B in AUM for First Time</td>\n",
       "      <td>https://finance.yahoo.com/news/zero-fee-etf-cr...</td>\n",
       "    </tr>\n",
       "    <tr>\n",
       "      <th>...</th>\n",
       "      <td>...</td>\n",
       "      <td>...</td>\n",
       "      <td>...</td>\n",
       "    </tr>\n",
       "    <tr>\n",
       "      <th>95</th>\n",
       "      <td>2020-06-23 17:37:00</td>\n",
       "      <td>Most Popular ETFs on Robinhood</td>\n",
       "      <td>https://finance.yahoo.com/news/most-popular-et...</td>\n",
       "    </tr>\n",
       "    <tr>\n",
       "      <th>96</th>\n",
       "      <td>2020-06-10 00:00:00</td>\n",
       "      <td>Robinhood's Favorite ETFs</td>\n",
       "      <td>https://finance.yahoo.com/news/robinhoods-favo...</td>\n",
       "    </tr>\n",
       "    <tr>\n",
       "      <th>97</th>\n",
       "      <td>2020-06-08 15:56:00</td>\n",
       "      <td>Recessions: 10 Facts You Must Know</td>\n",
       "      <td>https://finance.yahoo.com/news/recessions-10-f...</td>\n",
       "    </tr>\n",
       "    <tr>\n",
       "      <th>98</th>\n",
       "      <td>2020-05-24 07:07:00</td>\n",
       "      <td>2020 Stock Market Holidays and Bond Market Hol...</td>\n",
       "      <td>https://finance.yahoo.com/news/2020-stock-mark...</td>\n",
       "    </tr>\n",
       "    <tr>\n",
       "      <th>99</th>\n",
       "      <td>2020-05-24 07:05:00</td>\n",
       "      <td>Does the Stock Market Close Early for Memorial...</td>\n",
       "      <td>https://finance.yahoo.com/news/does-stock-mark...</td>\n",
       "    </tr>\n",
       "  </tbody>\n",
       "</table>\n",
       "<p>100 rows × 3 columns</p>\n",
       "</div>"
      ],
      "text/plain": [
       "                  Date                                              Title  \\\n",
       "0  2023-08-13 12:48:00  Big-box earnings, retail sales, Fed minutes: W...   \n",
       "1  2023-06-17 19:28:00  This Simple but Effective Fund Is 2023s Most P...   \n",
       "2  2023-03-15 12:00:00   Allan Roth: Is Direct Indexing Better Than ETFs?   \n",
       "3  2023-02-28 14:45:00                Small ETFs Gaining Traction in 2023   \n",
       "4  2023-02-09 16:00:00     Zero Fee ETF Crosses $1B in AUM for First Time   \n",
       "..                 ...                                                ...   \n",
       "95 2020-06-23 17:37:00                     Most Popular ETFs on Robinhood   \n",
       "96 2020-06-10 00:00:00                          Robinhood's Favorite ETFs   \n",
       "97 2020-06-08 15:56:00                 Recessions: 10 Facts You Must Know   \n",
       "98 2020-05-24 07:07:00  2020 Stock Market Holidays and Bond Market Hol...   \n",
       "99 2020-05-24 07:05:00  Does the Stock Market Close Early for Memorial...   \n",
       "\n",
       "                                                 Link  \n",
       "0   https://finance.yahoo.com/news/big-box-earning...  \n",
       "1   https://finance.yahoo.com/news/simple-effectiv...  \n",
       "2   https://finance.yahoo.com/news/allan-roth-dire...  \n",
       "3   https://finance.yahoo.com/news/fastest-growing...  \n",
       "4   https://finance.yahoo.com/news/zero-fee-etf-cr...  \n",
       "..                                                ...  \n",
       "95  https://finance.yahoo.com/news/most-popular-et...  \n",
       "96  https://finance.yahoo.com/news/robinhoods-favo...  \n",
       "97  https://finance.yahoo.com/news/recessions-10-f...  \n",
       "98  https://finance.yahoo.com/news/2020-stock-mark...  \n",
       "99  https://finance.yahoo.com/news/does-stock-mark...  \n",
       "\n",
       "[100 rows x 3 columns]"
      ]
     },
     "execution_count": 39,
     "metadata": {},
     "output_type": "execute_result"
    }
   ],
   "source": [
    "stock.ticker_news()"
   ]
  },
  {
   "cell_type": "code",
   "execution_count": 24,
   "id": "a35a89e7-3c74-426c-8a5c-0dbb70edaaf1",
   "metadata": {},
   "outputs": [
    {
     "data": {
      "text/plain": [
       "'392.70'"
      ]
     },
     "execution_count": 24,
     "metadata": {},
     "output_type": "execute_result"
    }
   ],
   "source": [
    "stock.ticker_fundament().get('Price')"
   ]
  },
  {
   "cell_type": "code",
   "execution_count": 27,
   "id": "2e19710c-9128-4b33-80bb-bf44c6c3d503",
   "metadata": {},
   "outputs": [
    {
     "data": {
      "text/plain": [
       "dict_keys(['news', 'fundament'])"
      ]
     },
     "execution_count": 27,
     "metadata": {},
     "output_type": "execute_result"
    }
   ],
   "source": [
    "stock.info.keys()"
   ]
  },
  {
   "cell_type": "code",
   "execution_count": 40,
   "id": "22d1cccb-ad46-4cd5-b70f-e3841884f1d8",
   "metadata": {},
   "outputs": [
    {
     "data": {
      "text/plain": [
       "'https://finviz.com/chart.ashx?t=VOO&ty=c&ta=1&p=d'"
      ]
     },
     "execution_count": 40,
     "metadata": {},
     "output_type": "execute_result"
    }
   ],
   "source": [
    "stock.ticker_charts()"
   ]
  },
  {
   "cell_type": "markdown",
   "id": "22996357-f9d2-4ec8-8046-28cf339a2982",
   "metadata": {},
   "source": [
    "The finviz is useful to collect non-time series data OR data at current point of time. Use yfinance or pandas_datareader to capture stock prices.\n",
    "\n",
    "Use past 2 year's price and compare. Older data have huge impact of Covid, and other macroscopic factors."
   ]
  },
  {
   "cell_type": "markdown",
   "id": "ea45a23e-9fc3-4c11-8cab-9cd0f0b5718c",
   "metadata": {},
   "source": [
    "## yfinance\n",
    "Github: https://github.com/ranaroussi/yfinance"
   ]
  },
  {
   "cell_type": "code",
   "execution_count": 44,
   "id": "6e93cff0-1d79-4a4e-8e41-5a93fe86350e",
   "metadata": {},
   "outputs": [],
   "source": [
    "import yfinance as yf\n",
    "from datetime import datetime"
   ]
  },
  {
   "cell_type": "code",
   "execution_count": 53,
   "id": "e710fabf-bd48-4393-9073-a7d206d938c8",
   "metadata": {},
   "outputs": [],
   "source": [
    "ticker='msft'\n",
    "msft = yf.Ticker(ticker)"
   ]
  },
  {
   "cell_type": "code",
   "execution_count": 54,
   "id": "6d85ab37-947b-4f8d-831d-12b08278f42e",
   "metadata": {},
   "outputs": [
    {
     "data": {
      "text/plain": [
       "lazy-loading dict with keys = ['currency', 'dayHigh', 'dayLow', 'exchange', 'fiftyDayAverage', 'lastPrice', 'lastVolume', 'marketCap', 'open', 'previousClose', 'quoteType', 'regularMarketPreviousClose', 'shares', 'tenDayAverageVolume', 'threeMonthAverageVolume', 'timezone', 'twoHundredDayAverage', 'yearChange', 'yearHigh', 'yearLow']"
      ]
     },
     "execution_count": 54,
     "metadata": {},
     "output_type": "execute_result"
    }
   ],
   "source": [
    "msft.basic_info"
   ]
  },
  {
   "cell_type": "code",
   "execution_count": 55,
   "id": "114b6dad-f5ba-4dba-8c82-0ec2c7be3945",
   "metadata": {},
   "outputs": [
    {
     "data": {
      "text/plain": [
       "{'address1': 'One Microsoft Way',\n",
       " 'city': 'Redmond',\n",
       " 'state': 'WA',\n",
       " 'zip': '98052-6399',\n",
       " 'country': 'United States',\n",
       " 'phone': '425 882 8080',\n",
       " 'website': 'https://www.microsoft.com',\n",
       " 'industry': 'Software—Infrastructure',\n",
       " 'industryKey': 'software-infrastructure',\n",
       " 'industryDisp': 'Software—Infrastructure',\n",
       " 'sector': 'Technology',\n",
       " 'sectorKey': 'technology',\n",
       " 'sectorDisp': 'Technology',\n",
       " 'longBusinessSummary': 'Microsoft Corporation develops and supports software, services, devices and solutions worldwide. The Productivity and Business Processes segment offers office, exchange, SharePoint, Microsoft Teams, office 365 Security and Compliance, Microsoft viva, and Microsoft 365 copilot; and office consumer services, such as Microsoft 365 consumer subscriptions, Office licensed on-premises, and other office services. This segment also provides LinkedIn; and dynamics business solutions, including Dynamics 365, a set of intelligent, cloud-based applications across ERP, CRM, power apps, and power automate; and on-premises ERP and CRM applications. The Intelligent Cloud segment provides server products and cloud services, such as azure and other cloud services; SQL and windows server, visual studio, system center, and related client access licenses, as well as nuance and GitHub; and enterprise services including enterprise support services, industry solutions, and nuance professional services. The More Personal Computing segment offers Windows, including windows OEM licensing and other non-volume licensing of the Windows operating system; Windows commercial comprising volume licensing of the Windows operating system, windows cloud services, and other Windows commercial offerings; patent licensing; and windows Internet of Things; and devices, such as surface, HoloLens, and PC accessories. Additionally, this segment provides gaming, which includes Xbox hardware and content, and first- and third-party content; Xbox game pass and other subscriptions, cloud gaming, advertising, third-party disc royalties, and other cloud services; and search and news advertising, which includes Bing, Microsoft News and Edge, and third-party affiliates. The company sells its products through OEMs, distributors, and resellers; and directly through digital marketplaces, online, and retail stores. The company was founded in 1975 and is headquartered in Redmond, Washington.',\n",
       " 'fullTimeEmployees': 221000,\n",
       " 'companyOfficers': [{'maxAge': 1,\n",
       "   'name': 'Mr. Satya  Nadella',\n",
       "   'age': 55,\n",
       "   'title': 'Chairman & CEO',\n",
       "   'yearBorn': 1967,\n",
       "   'fiscalYear': 2022,\n",
       "   'totalPay': 12676750,\n",
       "   'exercisedValue': 0,\n",
       "   'unexercisedValue': 0},\n",
       "  {'maxAge': 1,\n",
       "   'name': 'Mr. Bradford L. Smith LCA',\n",
       "   'age': 63,\n",
       "   'title': 'Pres & Vice Chairman',\n",
       "   'yearBorn': 1959,\n",
       "   'fiscalYear': 2022,\n",
       "   'totalPay': 4655274,\n",
       "   'exercisedValue': 0,\n",
       "   'unexercisedValue': 0},\n",
       "  {'maxAge': 1,\n",
       "   'name': 'Ms. Amy E. Hood',\n",
       "   'age': 50,\n",
       "   'title': 'Exec. VP & CFO',\n",
       "   'yearBorn': 1972,\n",
       "   'fiscalYear': 2022,\n",
       "   'totalPay': 4637915,\n",
       "   'exercisedValue': 0,\n",
       "   'unexercisedValue': 0},\n",
       "  {'maxAge': 1,\n",
       "   'name': 'Mr. Judson  Althoff',\n",
       "   'age': 49,\n",
       "   'title': 'Exec. VP & Chief Commercial Officer',\n",
       "   'yearBorn': 1973,\n",
       "   'fiscalYear': 2022,\n",
       "   'totalPay': 4428268,\n",
       "   'exercisedValue': 0,\n",
       "   'unexercisedValue': 0},\n",
       "  {'maxAge': 1,\n",
       "   'name': 'Mr. Christopher David Young',\n",
       "   'age': 50,\n",
       "   'title': 'Exec. VP of Bus. Devel., Strategy & Ventures',\n",
       "   'yearBorn': 1972,\n",
       "   'fiscalYear': 2022,\n",
       "   'totalPay': 4588876,\n",
       "   'exercisedValue': 0,\n",
       "   'unexercisedValue': 0},\n",
       "  {'maxAge': 1,\n",
       "   'name': 'Ms. Alice L. Jolla',\n",
       "   'age': 55,\n",
       "   'title': 'Corp. VP & Chief Accounting Officer',\n",
       "   'yearBorn': 1967,\n",
       "   'exercisedValue': 0,\n",
       "   'unexercisedValue': 0},\n",
       "  {'maxAge': 1,\n",
       "   'name': 'Mr. James Kevin Scott',\n",
       "   'age': 50,\n",
       "   'title': 'Exec. VP of AI & CTO',\n",
       "   'yearBorn': 1972,\n",
       "   'exercisedValue': 0,\n",
       "   'unexercisedValue': 0},\n",
       "  {'maxAge': 1,\n",
       "   'name': 'Brett  Iversen',\n",
       "   'title': 'VP of Investor Relations',\n",
       "   'exercisedValue': 0,\n",
       "   'unexercisedValue': 0},\n",
       "  {'maxAge': 1,\n",
       "   'name': 'Mr. Hossein  Nowbar',\n",
       "   'title': 'Chief Legal Officer',\n",
       "   'exercisedValue': 0,\n",
       "   'unexercisedValue': 0},\n",
       "  {'maxAge': 1,\n",
       "   'name': 'Mr. Frank X. Shaw',\n",
       "   'title': 'Chief Communications Officer',\n",
       "   'exercisedValue': 0,\n",
       "   'unexercisedValue': 0}],\n",
       " 'auditRisk': 5,\n",
       " 'boardRisk': 5,\n",
       " 'compensationRisk': 2,\n",
       " 'shareHolderRightsRisk': 2,\n",
       " 'overallRisk': 2,\n",
       " 'governanceEpochDate': 1695859200,\n",
       " 'compensationAsOfEpochDate': 1672444800,\n",
       " 'maxAge': 86400,\n",
       " 'priceHint': 2,\n",
       " 'previousClose': 313.64,\n",
       " 'open': 317.75,\n",
       " 'dayLow': 314.99,\n",
       " 'dayHigh': 319.47,\n",
       " 'regularMarketPreviousClose': 313.64,\n",
       " 'regularMarketOpen': 317.75,\n",
       " 'regularMarketDayLow': 314.99,\n",
       " 'regularMarketDayHigh': 319.47,\n",
       " 'dividendRate': 3.0,\n",
       " 'dividendYield': 0.0095,\n",
       " 'exDividendDate': 1700006400,\n",
       " 'payoutRatio': 0.2748,\n",
       " 'fiveYearAvgDividendYield': 1.04,\n",
       " 'beta': 0.904564,\n",
       " 'trailingPE': 32.58514,\n",
       " 'forwardPE': 25.0,\n",
       " 'volume': 23103150,\n",
       " 'regularMarketVolume': 23103150,\n",
       " 'averageVolume': 24807676,\n",
       " 'averageVolume10days': 21910340,\n",
       " 'averageDailyVolume10Day': 21910340,\n",
       " 'bid': 315.95,\n",
       " 'ask': 316.4,\n",
       " 'bidSize': 1100,\n",
       " 'askSize': 800,\n",
       " 'marketCap': 2345946841088,\n",
       " 'fiftyTwoWeekLow': 213.43,\n",
       " 'fiftyTwoWeekHigh': 366.78,\n",
       " 'priceToSalesTrailing12Months': 11.070226,\n",
       " 'fiftyDayAverage': 327.334,\n",
       " 'twoHundredDayAverage': 296.13956,\n",
       " 'trailingAnnualDividendRate': 2.72,\n",
       " 'trailingAnnualDividendYield': 0.008672363,\n",
       " 'currency': 'USD',\n",
       " 'enterpriseValue': 2314132783104,\n",
       " 'profitMargins': 0.34146,\n",
       " 'floatShares': 7423522720,\n",
       " 'sharesOutstanding': 7429760000,\n",
       " 'sharesShort': 41145504,\n",
       " 'sharesShortPriorMonth': 31028035,\n",
       " 'sharesShortPreviousMonthDate': 1692057600,\n",
       " 'dateShortInterest': 1694736000,\n",
       " 'sharesPercentSharesOut': 0.0055,\n",
       " 'heldPercentInsiders': 0.00052,\n",
       " 'heldPercentInstitutions': 0.73212,\n",
       " 'shortRatio': 2.04,\n",
       " 'shortPercentOfFloat': 0.0055,\n",
       " 'impliedSharesOutstanding': 7429760000,\n",
       " 'bookValue': 27.748,\n",
       " 'priceToBook': 11.379199,\n",
       " 'lastFiscalYearEnd': 1688083200,\n",
       " 'nextFiscalYearEnd': 1719705600,\n",
       " 'mostRecentQuarter': 1688083200,\n",
       " 'earningsQuarterlyGrowth': 0.2,\n",
       " 'netIncomeToCommon': 72361000960,\n",
       " 'trailingEps': 9.69,\n",
       " 'forwardEps': 12.63,\n",
       " 'pegRatio': 1.98,\n",
       " 'lastSplitFactor': '2:1',\n",
       " 'lastSplitDate': 1045526400,\n",
       " 'enterpriseToRevenue': 10.92,\n",
       " 'enterpriseToEbitda': 22.682,\n",
       " '52WeekChange': 0.31158102,\n",
       " 'SandP52WeekChange': 0.16572833,\n",
       " 'lastDividendValue': 0.68,\n",
       " 'lastDividendDate': 1692144000,\n",
       " 'exchange': 'NMS',\n",
       " 'quoteType': 'EQUITY',\n",
       " 'symbol': 'MSFT',\n",
       " 'underlyingSymbol': 'MSFT',\n",
       " 'shortName': 'Microsoft Corporation',\n",
       " 'longName': 'Microsoft Corporation',\n",
       " 'firstTradeDateEpochUtc': 511108200,\n",
       " 'timeZoneFullName': 'America/New_York',\n",
       " 'timeZoneShortName': 'EDT',\n",
       " 'uuid': 'b004b3ec-de24-385e-b2c1-923f10d3fb62',\n",
       " 'messageBoardId': 'finmb_21835',\n",
       " 'gmtOffSetMilliseconds': -14400000,\n",
       " 'currentPrice': 315.75,\n",
       " 'targetHighPrice': 440.0,\n",
       " 'targetLowPrice': 285.0,\n",
       " 'targetMeanPrice': 391.14,\n",
       " 'targetMedianPrice': 400.0,\n",
       " 'recommendationMean': 1.7,\n",
       " 'recommendationKey': 'buy',\n",
       " 'numberOfAnalystOpinions': 42,\n",
       " 'totalCash': 111256002560,\n",
       " 'totalCashPerShare': 14.974,\n",
       " 'ebitda': 102022995968,\n",
       " 'totalDebt': 79441002496,\n",
       " 'quickRatio': 1.536,\n",
       " 'currentRatio': 1.769,\n",
       " 'totalRevenue': 211914997760,\n",
       " 'debtToEquity': 38.522,\n",
       " 'revenuePerShare': 28.46,\n",
       " 'returnOnAssets': 0.14245,\n",
       " 'returnOnEquity': 0.38824,\n",
       " 'freeCashflow': 47268999168,\n",
       " 'operatingCashflow': 87581999104,\n",
       " 'earningsGrowth': 0.202,\n",
       " 'revenueGrowth': 0.083,\n",
       " 'grossMargins': 0.6892,\n",
       " 'ebitdaMargins': 0.48143002,\n",
       " 'operatingMargins': 0.41772997,\n",
       " 'financialCurrency': 'USD',\n",
       " 'trailingPegRatio': 2.3316}"
      ]
     },
     "execution_count": 55,
     "metadata": {},
     "output_type": "execute_result"
    }
   ],
   "source": [
    "msft.info"
   ]
  },
  {
   "cell_type": "code",
   "execution_count": 58,
   "id": "b261ea2c-4b3b-4260-9647-780d92d19875",
   "metadata": {},
   "outputs": [
    {
     "data": {
      "text/plain": [
       "7429760000"
      ]
     },
     "execution_count": 58,
     "metadata": {},
     "output_type": "execute_result"
    }
   ],
   "source": [
    "# index funds like voo does not show outstanding shares\n",
    "outstandingShare = msft.info.get('sharesOutstanding') \n",
    "outstandingShare"
   ]
  },
  {
   "cell_type": "code",
   "execution_count": 63,
   "id": "2033723b-24c0-4bc3-bc2c-14f704d18518",
   "metadata": {},
   "outputs": [
    {
     "data": {
      "text/plain": [
       "Date\n",
       "1987-09-21 00:00:00-04:00    2.0\n",
       "1990-04-16 00:00:00-04:00    2.0\n",
       "1991-06-27 00:00:00-04:00    1.5\n",
       "1992-06-15 00:00:00-04:00    1.5\n",
       "1994-05-23 00:00:00-04:00    2.0\n",
       "1996-12-09 00:00:00-05:00    2.0\n",
       "1998-02-23 00:00:00-05:00    2.0\n",
       "1999-03-29 00:00:00-05:00    2.0\n",
       "2003-02-18 00:00:00-05:00    2.0\n",
       "Name: Stock Splits, dtype: float64"
      ]
     },
     "execution_count": 63,
     "metadata": {},
     "output_type": "execute_result"
    }
   ],
   "source": [
    "msft.splits # show split history"
   ]
  },
  {
   "cell_type": "markdown",
   "id": "548ae3d6-79f1-4fe6-b7f2-6dede5ed5a52",
   "metadata": {},
   "source": [
    "A stock split happens when a company increases the number of its shares to boost the stock's liquidity. Although the number of shares outstanding increases by a specific multiple, the total dollar value of all shares outstanding remains the same because a split does not fundamentally change the company's value. \n",
    "\n",
    "A company elects to perform a stock split to intentionally lower the price of a single share, making the company's stock more affordable without losing value."
   ]
  },
  {
   "cell_type": "code",
   "execution_count": 65,
   "id": "fe67d773-e6a0-4beb-8f45-fd65e3a030ae",
   "metadata": {},
   "outputs": [
    {
     "ename": "YFNotImplementedError",
     "evalue": "Have not implemented fetching 'recommendations' from Yahoo API",
     "output_type": "error",
     "traceback": [
      "\u001b[0;31m---------------------------------------------------------------------------\u001b[0m",
      "\u001b[0;31mYFNotImplementedError\u001b[0m                     Traceback (most recent call last)",
      "Cell \u001b[0;32mIn[65], line 1\u001b[0m\n\u001b[0;32m----> 1\u001b[0m \u001b[43mmsft\u001b[49m\u001b[38;5;241;43m.\u001b[39;49m\u001b[43mrecommendations\u001b[49m \u001b[38;5;66;03m# not implemented, hence use another package\u001b[39;00m\n",
      "File \u001b[0;32m/Library/Frameworks/Python.framework/Versions/3.11/lib/python3.11/site-packages/yfinance/ticker.py:154\u001b[0m, in \u001b[0;36mTicker.recommendations\u001b[0;34m(self)\u001b[0m\n\u001b[1;32m    152\u001b[0m \u001b[38;5;129m@property\u001b[39m\n\u001b[1;32m    153\u001b[0m \u001b[38;5;28;01mdef\u001b[39;00m \u001b[38;5;21mrecommendations\u001b[39m(\u001b[38;5;28mself\u001b[39m):\n\u001b[0;32m--> 154\u001b[0m     \u001b[38;5;28;01mreturn\u001b[39;00m \u001b[38;5;28;43mself\u001b[39;49m\u001b[38;5;241;43m.\u001b[39;49m\u001b[43mget_recommendations\u001b[49m\u001b[43m(\u001b[49m\u001b[43m)\u001b[49m\n",
      "File \u001b[0;32m/Library/Frameworks/Python.framework/Versions/3.11/lib/python3.11/site-packages/yfinance/base.py:1699\u001b[0m, in \u001b[0;36mTickerBase.get_recommendations\u001b[0;34m(self, proxy, as_dict)\u001b[0m\n\u001b[1;32m   1697\u001b[0m \u001b[38;5;28;01mdef\u001b[39;00m \u001b[38;5;21mget_recommendations\u001b[39m(\u001b[38;5;28mself\u001b[39m, proxy\u001b[38;5;241m=\u001b[39m\u001b[38;5;28;01mNone\u001b[39;00m, as_dict\u001b[38;5;241m=\u001b[39m\u001b[38;5;28;01mFalse\u001b[39;00m):\n\u001b[1;32m   1698\u001b[0m     \u001b[38;5;28mself\u001b[39m\u001b[38;5;241m.\u001b[39m_quote\u001b[38;5;241m.\u001b[39mproxy \u001b[38;5;241m=\u001b[39m proxy\n\u001b[0;32m-> 1699\u001b[0m     data \u001b[38;5;241m=\u001b[39m \u001b[38;5;28;43mself\u001b[39;49m\u001b[38;5;241;43m.\u001b[39;49m\u001b[43m_quote\u001b[49m\u001b[38;5;241;43m.\u001b[39;49m\u001b[43mrecommendations\u001b[49m\n\u001b[1;32m   1700\u001b[0m     \u001b[38;5;28;01mif\u001b[39;00m as_dict:\n\u001b[1;32m   1701\u001b[0m         \u001b[38;5;28;01mreturn\u001b[39;00m data\u001b[38;5;241m.\u001b[39mto_dict()\n",
      "File \u001b[0;32m/Library/Frameworks/Python.framework/Versions/3.11/lib/python3.11/site-packages/yfinance/scrapers/quote.py:585\u001b[0m, in \u001b[0;36mQuote.recommendations\u001b[0;34m(self)\u001b[0m\n\u001b[1;32m    582\u001b[0m \u001b[38;5;129m@property\u001b[39m\n\u001b[1;32m    583\u001b[0m \u001b[38;5;28;01mdef\u001b[39;00m \u001b[38;5;21mrecommendations\u001b[39m(\u001b[38;5;28mself\u001b[39m) \u001b[38;5;241m-\u001b[39m\u001b[38;5;241m>\u001b[39m pd\u001b[38;5;241m.\u001b[39mDataFrame:\n\u001b[1;32m    584\u001b[0m     \u001b[38;5;28;01mif\u001b[39;00m \u001b[38;5;28mself\u001b[39m\u001b[38;5;241m.\u001b[39m_recommendations \u001b[38;5;129;01mis\u001b[39;00m \u001b[38;5;28;01mNone\u001b[39;00m:\n\u001b[0;32m--> 585\u001b[0m         \u001b[38;5;28;01mraise\u001b[39;00m YFNotImplementedError(\u001b[38;5;124m'\u001b[39m\u001b[38;5;124mrecommendations\u001b[39m\u001b[38;5;124m'\u001b[39m)\n\u001b[1;32m    586\u001b[0m     \u001b[38;5;28;01mreturn\u001b[39;00m \u001b[38;5;28mself\u001b[39m\u001b[38;5;241m.\u001b[39m_recommendations\n",
      "\u001b[0;31mYFNotImplementedError\u001b[0m: Have not implemented fetching 'recommendations' from Yahoo API"
     ]
    }
   ],
   "source": [
    "msft.recommendations # not implemented, hence use another package"
   ]
  },
  {
   "cell_type": "code",
   "execution_count": 89,
   "id": "094e2297-dc7d-47e8-8a16-c9643c7a8907",
   "metadata": {},
   "outputs": [
    {
     "data": {
      "text/plain": [
       "Date\n",
       "2003-02-19 00:00:00-05:00    0.08\n",
       "2003-10-15 00:00:00-04:00    0.16\n",
       "2004-08-23 00:00:00-04:00    0.08\n",
       "2004-11-15 00:00:00-05:00    3.08\n",
       "2005-02-15 00:00:00-05:00    0.08\n",
       "                             ... \n",
       "2022-08-17 00:00:00-04:00    0.62\n",
       "2022-11-16 00:00:00-05:00    0.68\n",
       "2023-02-15 00:00:00-05:00    0.68\n",
       "2023-05-17 00:00:00-04:00    0.68\n",
       "2023-08-16 00:00:00-04:00    0.68\n",
       "Name: Dividends, Length: 79, dtype: float64"
      ]
     },
     "execution_count": 89,
     "metadata": {},
     "output_type": "execute_result"
    }
   ],
   "source": [
    "dvdnd = msft.dividends # divident history per share\n",
    "dvdnd"
   ]
  },
  {
   "cell_type": "code",
   "execution_count": 90,
   "id": "390a4266-9131-4086-9770-fc78534456fc",
   "metadata": {},
   "outputs": [
    {
     "data": {
      "text/plain": [
       "pandas.core.series.Series"
      ]
     },
     "execution_count": 90,
     "metadata": {},
     "output_type": "execute_result"
    }
   ],
   "source": [
    "type(dvdnd)"
   ]
  },
  {
   "cell_type": "code",
   "execution_count": 91,
   "id": "dcf7f07f-d0b3-4003-a378-b381b8701efd",
   "metadata": {},
   "outputs": [],
   "source": [
    "import pandas as pd\n",
    "df = pd.DataFrame(dvdnd)"
   ]
  },
  {
   "cell_type": "code",
   "execution_count": 92,
   "id": "d658b144-8e18-49cb-a523-7b93b9c3f417",
   "metadata": {},
   "outputs": [
    {
     "data": {
      "text/html": [
       "<div>\n",
       "<style scoped>\n",
       "    .dataframe tbody tr th:only-of-type {\n",
       "        vertical-align: middle;\n",
       "    }\n",
       "\n",
       "    .dataframe tbody tr th {\n",
       "        vertical-align: top;\n",
       "    }\n",
       "\n",
       "    .dataframe thead th {\n",
       "        text-align: right;\n",
       "    }\n",
       "</style>\n",
       "<table border=\"1\" class=\"dataframe\">\n",
       "  <thead>\n",
       "    <tr style=\"text-align: right;\">\n",
       "      <th></th>\n",
       "      <th>Dividends</th>\n",
       "    </tr>\n",
       "    <tr>\n",
       "      <th>Date</th>\n",
       "      <th></th>\n",
       "    </tr>\n",
       "  </thead>\n",
       "  <tbody>\n",
       "    <tr>\n",
       "      <th>2003-02-19 00:00:00-05:00</th>\n",
       "      <td>0.08</td>\n",
       "    </tr>\n",
       "    <tr>\n",
       "      <th>2003-10-15 00:00:00-04:00</th>\n",
       "      <td>0.16</td>\n",
       "    </tr>\n",
       "    <tr>\n",
       "      <th>2004-08-23 00:00:00-04:00</th>\n",
       "      <td>0.08</td>\n",
       "    </tr>\n",
       "    <tr>\n",
       "      <th>2004-11-15 00:00:00-05:00</th>\n",
       "      <td>3.08</td>\n",
       "    </tr>\n",
       "    <tr>\n",
       "      <th>2005-02-15 00:00:00-05:00</th>\n",
       "      <td>0.08</td>\n",
       "    </tr>\n",
       "  </tbody>\n",
       "</table>\n",
       "</div>"
      ],
      "text/plain": [
       "                           Dividends\n",
       "Date                                \n",
       "2003-02-19 00:00:00-05:00       0.08\n",
       "2003-10-15 00:00:00-04:00       0.16\n",
       "2004-08-23 00:00:00-04:00       0.08\n",
       "2004-11-15 00:00:00-05:00       3.08\n",
       "2005-02-15 00:00:00-05:00       0.08"
      ]
     },
     "execution_count": 92,
     "metadata": {},
     "output_type": "execute_result"
    }
   ],
   "source": [
    "df.head()"
   ]
  },
  {
   "cell_type": "code",
   "execution_count": 93,
   "id": "8389d78b-48d7-4604-868e-848b0ef15626",
   "metadata": {},
   "outputs": [],
   "source": [
    "df = df.resample('Y').sum() # resample the data based on year and sum the value"
   ]
  },
  {
   "cell_type": "code",
   "execution_count": 114,
   "id": "c7b229f7-ecea-4241-bb63-b6faf83bb95c",
   "metadata": {},
   "outputs": [],
   "source": [
    "df.reset_index(inplace=True) # reset index will let Date be a column\n",
    "df['Year'] = df['Date'].dt.year.astype('int32')"
   ]
  },
  {
   "cell_type": "code",
   "execution_count": 115,
   "id": "9ced5ef8-e870-4819-b935-23ab96e552cc",
   "metadata": {},
   "outputs": [
    {
     "data": {
      "text/html": [
       "<div>\n",
       "<style scoped>\n",
       "    .dataframe tbody tr th:only-of-type {\n",
       "        vertical-align: middle;\n",
       "    }\n",
       "\n",
       "    .dataframe tbody tr th {\n",
       "        vertical-align: top;\n",
       "    }\n",
       "\n",
       "    .dataframe thead th {\n",
       "        text-align: right;\n",
       "    }\n",
       "</style>\n",
       "<table border=\"1\" class=\"dataframe\">\n",
       "  <thead>\n",
       "    <tr style=\"text-align: right;\">\n",
       "      <th></th>\n",
       "      <th>level_0</th>\n",
       "      <th>index</th>\n",
       "      <th>Date</th>\n",
       "      <th>Dividends</th>\n",
       "      <th>Year</th>\n",
       "    </tr>\n",
       "  </thead>\n",
       "  <tbody>\n",
       "    <tr>\n",
       "      <th>0</th>\n",
       "      <td>0</td>\n",
       "      <td>0</td>\n",
       "      <td>2003-12-31 00:00:00-05:00</td>\n",
       "      <td>0.24</td>\n",
       "      <td>2003</td>\n",
       "    </tr>\n",
       "    <tr>\n",
       "      <th>1</th>\n",
       "      <td>1</td>\n",
       "      <td>1</td>\n",
       "      <td>2004-12-31 00:00:00-05:00</td>\n",
       "      <td>3.16</td>\n",
       "      <td>2004</td>\n",
       "    </tr>\n",
       "    <tr>\n",
       "      <th>2</th>\n",
       "      <td>2</td>\n",
       "      <td>2</td>\n",
       "      <td>2005-12-31 00:00:00-05:00</td>\n",
       "      <td>0.32</td>\n",
       "      <td>2005</td>\n",
       "    </tr>\n",
       "    <tr>\n",
       "      <th>3</th>\n",
       "      <td>3</td>\n",
       "      <td>3</td>\n",
       "      <td>2006-12-31 00:00:00-05:00</td>\n",
       "      <td>0.37</td>\n",
       "      <td>2006</td>\n",
       "    </tr>\n",
       "    <tr>\n",
       "      <th>4</th>\n",
       "      <td>4</td>\n",
       "      <td>4</td>\n",
       "      <td>2007-12-31 00:00:00-05:00</td>\n",
       "      <td>0.41</td>\n",
       "      <td>2007</td>\n",
       "    </tr>\n",
       "    <tr>\n",
       "      <th>5</th>\n",
       "      <td>5</td>\n",
       "      <td>5</td>\n",
       "      <td>2008-12-31 00:00:00-05:00</td>\n",
       "      <td>0.46</td>\n",
       "      <td>2008</td>\n",
       "    </tr>\n",
       "    <tr>\n",
       "      <th>6</th>\n",
       "      <td>6</td>\n",
       "      <td>6</td>\n",
       "      <td>2009-12-31 00:00:00-05:00</td>\n",
       "      <td>0.52</td>\n",
       "      <td>2009</td>\n",
       "    </tr>\n",
       "    <tr>\n",
       "      <th>7</th>\n",
       "      <td>7</td>\n",
       "      <td>7</td>\n",
       "      <td>2010-12-31 00:00:00-05:00</td>\n",
       "      <td>0.55</td>\n",
       "      <td>2010</td>\n",
       "    </tr>\n",
       "    <tr>\n",
       "      <th>8</th>\n",
       "      <td>8</td>\n",
       "      <td>8</td>\n",
       "      <td>2011-12-31 00:00:00-05:00</td>\n",
       "      <td>0.68</td>\n",
       "      <td>2011</td>\n",
       "    </tr>\n",
       "    <tr>\n",
       "      <th>9</th>\n",
       "      <td>9</td>\n",
       "      <td>9</td>\n",
       "      <td>2012-12-31 00:00:00-05:00</td>\n",
       "      <td>0.83</td>\n",
       "      <td>2012</td>\n",
       "    </tr>\n",
       "    <tr>\n",
       "      <th>10</th>\n",
       "      <td>10</td>\n",
       "      <td>10</td>\n",
       "      <td>2013-12-31 00:00:00-05:00</td>\n",
       "      <td>0.97</td>\n",
       "      <td>2013</td>\n",
       "    </tr>\n",
       "    <tr>\n",
       "      <th>11</th>\n",
       "      <td>11</td>\n",
       "      <td>11</td>\n",
       "      <td>2014-12-31 00:00:00-05:00</td>\n",
       "      <td>1.15</td>\n",
       "      <td>2014</td>\n",
       "    </tr>\n",
       "    <tr>\n",
       "      <th>12</th>\n",
       "      <td>12</td>\n",
       "      <td>12</td>\n",
       "      <td>2015-12-31 00:00:00-05:00</td>\n",
       "      <td>1.29</td>\n",
       "      <td>2015</td>\n",
       "    </tr>\n",
       "    <tr>\n",
       "      <th>13</th>\n",
       "      <td>13</td>\n",
       "      <td>13</td>\n",
       "      <td>2016-12-31 00:00:00-05:00</td>\n",
       "      <td>1.47</td>\n",
       "      <td>2016</td>\n",
       "    </tr>\n",
       "    <tr>\n",
       "      <th>14</th>\n",
       "      <td>14</td>\n",
       "      <td>14</td>\n",
       "      <td>2017-12-31 00:00:00-05:00</td>\n",
       "      <td>1.59</td>\n",
       "      <td>2017</td>\n",
       "    </tr>\n",
       "    <tr>\n",
       "      <th>15</th>\n",
       "      <td>15</td>\n",
       "      <td>15</td>\n",
       "      <td>2018-12-31 00:00:00-05:00</td>\n",
       "      <td>1.72</td>\n",
       "      <td>2018</td>\n",
       "    </tr>\n",
       "    <tr>\n",
       "      <th>16</th>\n",
       "      <td>16</td>\n",
       "      <td>16</td>\n",
       "      <td>2019-12-31 00:00:00-05:00</td>\n",
       "      <td>1.89</td>\n",
       "      <td>2019</td>\n",
       "    </tr>\n",
       "    <tr>\n",
       "      <th>17</th>\n",
       "      <td>17</td>\n",
       "      <td>17</td>\n",
       "      <td>2020-12-31 00:00:00-05:00</td>\n",
       "      <td>2.09</td>\n",
       "      <td>2020</td>\n",
       "    </tr>\n",
       "    <tr>\n",
       "      <th>18</th>\n",
       "      <td>18</td>\n",
       "      <td>18</td>\n",
       "      <td>2021-12-31 00:00:00-05:00</td>\n",
       "      <td>2.30</td>\n",
       "      <td>2021</td>\n",
       "    </tr>\n",
       "    <tr>\n",
       "      <th>19</th>\n",
       "      <td>19</td>\n",
       "      <td>19</td>\n",
       "      <td>2022-12-31 00:00:00-05:00</td>\n",
       "      <td>2.54</td>\n",
       "      <td>2022</td>\n",
       "    </tr>\n",
       "    <tr>\n",
       "      <th>20</th>\n",
       "      <td>20</td>\n",
       "      <td>20</td>\n",
       "      <td>2023-12-31 00:00:00-05:00</td>\n",
       "      <td>2.04</td>\n",
       "      <td>2023</td>\n",
       "    </tr>\n",
       "  </tbody>\n",
       "</table>\n",
       "</div>"
      ],
      "text/plain": [
       "    level_0  index                      Date  Dividends  Year\n",
       "0         0      0 2003-12-31 00:00:00-05:00       0.24  2003\n",
       "1         1      1 2004-12-31 00:00:00-05:00       3.16  2004\n",
       "2         2      2 2005-12-31 00:00:00-05:00       0.32  2005\n",
       "3         3      3 2006-12-31 00:00:00-05:00       0.37  2006\n",
       "4         4      4 2007-12-31 00:00:00-05:00       0.41  2007\n",
       "5         5      5 2008-12-31 00:00:00-05:00       0.46  2008\n",
       "6         6      6 2009-12-31 00:00:00-05:00       0.52  2009\n",
       "7         7      7 2010-12-31 00:00:00-05:00       0.55  2010\n",
       "8         8      8 2011-12-31 00:00:00-05:00       0.68  2011\n",
       "9         9      9 2012-12-31 00:00:00-05:00       0.83  2012\n",
       "10       10     10 2013-12-31 00:00:00-05:00       0.97  2013\n",
       "11       11     11 2014-12-31 00:00:00-05:00       1.15  2014\n",
       "12       12     12 2015-12-31 00:00:00-05:00       1.29  2015\n",
       "13       13     13 2016-12-31 00:00:00-05:00       1.47  2016\n",
       "14       14     14 2017-12-31 00:00:00-05:00       1.59  2017\n",
       "15       15     15 2018-12-31 00:00:00-05:00       1.72  2018\n",
       "16       16     16 2019-12-31 00:00:00-05:00       1.89  2019\n",
       "17       17     17 2020-12-31 00:00:00-05:00       2.09  2020\n",
       "18       18     18 2021-12-31 00:00:00-05:00       2.30  2021\n",
       "19       19     19 2022-12-31 00:00:00-05:00       2.54  2022\n",
       "20       20     20 2023-12-31 00:00:00-05:00       2.04  2023"
      ]
     },
     "execution_count": 115,
     "metadata": {},
     "output_type": "execute_result"
    }
   ],
   "source": [
    "df"
   ]
  },
  {
   "cell_type": "code",
   "execution_count": 116,
   "id": "148e4aba-b719-4adb-a122-b11df24d449a",
   "metadata": {},
   "outputs": [],
   "source": [
    "# plot the dividend with time\n",
    "import matplotlib.pyplot as plt"
   ]
  },
  {
   "cell_type": "code",
   "execution_count": 128,
   "id": "2d4355c9-d3c1-4ef9-8f3b-e280dbd2aa46",
   "metadata": {},
   "outputs": [
    {
     "data": {
      "text/plain": [
       "1     2004\n",
       "3     2006\n",
       "5     2008\n",
       "7     2010\n",
       "9     2012\n",
       "11    2014\n",
       "13    2016\n",
       "15    2018\n",
       "17    2020\n",
       "19    2022\n",
       "Name: Year, dtype: int32"
      ]
     },
     "execution_count": 128,
     "metadata": {},
     "output_type": "execute_result"
    }
   ],
   "source": [
    "df[df['Year']%2==0]['Year']"
   ]
  },
  {
   "cell_type": "code",
   "execution_count": 129,
   "id": "e2c43995-4b2c-42a6-b97d-90937cea5063",
   "metadata": {},
   "outputs": [
    {
     "data": {
      "image/png": "[encoded data removed]",
      "text/plain": [
       "<Figure size 640x480 with 1 Axes>"
      ]
     },
     "metadata": {},
     "output_type": "display_data"
    }
   ],
   "source": [
    "#plot\n",
    "plt.bar(df['Year'], df['Dividends'])\n",
    "plt.xlabel('Year')\n",
    "plt.ylabel('Dividend Yield($) per share')\n",
    "plt.title('Microsoft Dividend History')\n",
    "plt.xticks(df[df['Year']%2==0]['Year'])\n",
    "plt.show()"
   ]
  },
  {
   "cell_type": "markdown",
   "id": "d2bfc631-fb85-412d-82dc-949a49d54e05",
   "metadata": {},
   "source": [
    "Year 2004, Microsoft paid special one-time 3$ dividend. Reason is microsoft resolved some of the legal issues that year and shared the profit."
   ]
  },
  {
   "cell_type": "code",
   "execution_count": 70,
   "id": "5e54de4e-503f-4e98-9a58-60819964e8d5",
   "metadata": {},
   "outputs": [
    {
     "data": {
      "text/html": [
       "<div>\n",
       "<style scoped>\n",
       "    .dataframe tbody tr th:only-of-type {\n",
       "        vertical-align: middle;\n",
       "    }\n",
       "\n",
       "    .dataframe tbody tr th {\n",
       "        vertical-align: top;\n",
       "    }\n",
       "\n",
       "    .dataframe thead th {\n",
       "        text-align: right;\n",
       "    }\n",
       "</style>\n",
       "<table border=\"1\" class=\"dataframe\">\n",
       "  <thead>\n",
       "    <tr style=\"text-align: right;\">\n",
       "      <th></th>\n",
       "      <th>0</th>\n",
       "      <th>1</th>\n",
       "    </tr>\n",
       "  </thead>\n",
       "  <tbody>\n",
       "    <tr>\n",
       "      <th>0</th>\n",
       "      <td>0.05%</td>\n",
       "      <td>% of Shares Held by All Insider</td>\n",
       "    </tr>\n",
       "    <tr>\n",
       "      <th>1</th>\n",
       "      <td>73.21%</td>\n",
       "      <td>% of Shares Held by Institutions</td>\n",
       "    </tr>\n",
       "    <tr>\n",
       "      <th>2</th>\n",
       "      <td>73.25%</td>\n",
       "      <td>% of Float Held by Institutions</td>\n",
       "    </tr>\n",
       "    <tr>\n",
       "      <th>3</th>\n",
       "      <td>6255</td>\n",
       "      <td>Number of Institutions Holding Shares</td>\n",
       "    </tr>\n",
       "  </tbody>\n",
       "</table>\n",
       "</div>"
      ],
      "text/plain": [
       "        0                                      1\n",
       "0   0.05%        % of Shares Held by All Insider\n",
       "1  73.21%       % of Shares Held by Institutions\n",
       "2  73.25%        % of Float Held by Institutions\n",
       "3    6255  Number of Institutions Holding Shares"
      ]
     },
     "execution_count": 70,
     "metadata": {},
     "output_type": "execute_result"
    }
   ],
   "source": [
    "msft.major_holders # majority of shares are hold by institution"
   ]
  },
  {
   "cell_type": "code",
   "execution_count": 75,
   "id": "75a9da83-766e-499d-a24e-f9abd8ad75ba",
   "metadata": {},
   "outputs": [
    {
     "data": {
      "text/html": [
       "<div>\n",
       "<style scoped>\n",
       "    .dataframe tbody tr th:only-of-type {\n",
       "        vertical-align: middle;\n",
       "    }\n",
       "\n",
       "    .dataframe tbody tr th {\n",
       "        vertical-align: top;\n",
       "    }\n",
       "\n",
       "    .dataframe thead th {\n",
       "        text-align: right;\n",
       "    }\n",
       "</style>\n",
       "<table border=\"1\" class=\"dataframe\">\n",
       "  <thead>\n",
       "    <tr style=\"text-align: right;\">\n",
       "      <th></th>\n",
       "      <th>Holder</th>\n",
       "      <th>Shares</th>\n",
       "      <th>Date Reported</th>\n",
       "      <th>% Out</th>\n",
       "      <th>Value</th>\n",
       "    </tr>\n",
       "  </thead>\n",
       "  <tbody>\n",
       "    <tr>\n",
       "      <th>0</th>\n",
       "      <td>Vanguard Group Inc</td>\n",
       "      <td>653247546</td>\n",
       "      <td>2023-06-29</td>\n",
       "      <td>0.0879</td>\n",
       "      <td>206262912649</td>\n",
       "    </tr>\n",
       "    <tr>\n",
       "      <th>1</th>\n",
       "      <td>Blackrock Inc.</td>\n",
       "      <td>536245027</td>\n",
       "      <td>2023-06-29</td>\n",
       "      <td>0.0722</td>\n",
       "      <td>169319367275</td>\n",
       "    </tr>\n",
       "    <tr>\n",
       "      <th>2</th>\n",
       "      <td>State Street Corporation</td>\n",
       "      <td>293614078</td>\n",
       "      <td>2023-06-29</td>\n",
       "      <td>0.0395</td>\n",
       "      <td>92708645128</td>\n",
       "    </tr>\n",
       "    <tr>\n",
       "      <th>3</th>\n",
       "      <td>FMR, LLC</td>\n",
       "      <td>210111250</td>\n",
       "      <td>2023-06-29</td>\n",
       "      <td>0.0283</td>\n",
       "      <td>66342627187</td>\n",
       "    </tr>\n",
       "    <tr>\n",
       "      <th>4</th>\n",
       "      <td>Price (T.Rowe) Associates Inc</td>\n",
       "      <td>159904219</td>\n",
       "      <td>2023-06-29</td>\n",
       "      <td>0.0215</td>\n",
       "      <td>50489757149</td>\n",
       "    </tr>\n",
       "    <tr>\n",
       "      <th>5</th>\n",
       "      <td>Geode Capital Management, LLC</td>\n",
       "      <td>148129470</td>\n",
       "      <td>2023-06-29</td>\n",
       "      <td>0.0199</td>\n",
       "      <td>46771880152</td>\n",
       "    </tr>\n",
       "    <tr>\n",
       "      <th>6</th>\n",
       "      <td>Morgan Stanley</td>\n",
       "      <td>123498322</td>\n",
       "      <td>2023-06-29</td>\n",
       "      <td>0.0166</td>\n",
       "      <td>38994595171</td>\n",
       "    </tr>\n",
       "    <tr>\n",
       "      <th>7</th>\n",
       "      <td>JP Morgan Chase &amp; Company</td>\n",
       "      <td>113024837</td>\n",
       "      <td>2023-06-29</td>\n",
       "      <td>0.0152</td>\n",
       "      <td>35687592282</td>\n",
       "    </tr>\n",
       "    <tr>\n",
       "      <th>8</th>\n",
       "      <td>Norges Bank Investment Management</td>\n",
       "      <td>86316926</td>\n",
       "      <td>2022-12-30</td>\n",
       "      <td>0.0116</td>\n",
       "      <td>27254569384</td>\n",
       "    </tr>\n",
       "    <tr>\n",
       "      <th>9</th>\n",
       "      <td>Capital World Investors</td>\n",
       "      <td>85507261</td>\n",
       "      <td>2023-06-29</td>\n",
       "      <td>0.0115</td>\n",
       "      <td>26998917660</td>\n",
       "    </tr>\n",
       "  </tbody>\n",
       "</table>\n",
       "</div>"
      ],
      "text/plain": [
       "                              Holder     Shares Date Reported   % Out  \\\n",
       "0                 Vanguard Group Inc  653247546    2023-06-29  0.0879   \n",
       "1                     Blackrock Inc.  536245027    2023-06-29  0.0722   \n",
       "2           State Street Corporation  293614078    2023-06-29  0.0395   \n",
       "3                           FMR, LLC  210111250    2023-06-29  0.0283   \n",
       "4      Price (T.Rowe) Associates Inc  159904219    2023-06-29  0.0215   \n",
       "5      Geode Capital Management, LLC  148129470    2023-06-29  0.0199   \n",
       "6                     Morgan Stanley  123498322    2023-06-29  0.0166   \n",
       "7          JP Morgan Chase & Company  113024837    2023-06-29  0.0152   \n",
       "8  Norges Bank Investment Management   86316926    2022-12-30  0.0116   \n",
       "9            Capital World Investors   85507261    2023-06-29  0.0115   \n",
       "\n",
       "          Value  \n",
       "0  206262912649  \n",
       "1  169319367275  \n",
       "2   92708645128  \n",
       "3   66342627187  \n",
       "4   50489757149  \n",
       "5   46771880152  \n",
       "6   38994595171  \n",
       "7   35687592282  \n",
       "8   27254569384  \n",
       "9   26998917660  "
      ]
     },
     "execution_count": 75,
     "metadata": {},
     "output_type": "execute_result"
    }
   ],
   "source": [
    "# which institues hold max shares\n",
    "msft.institutional_holders.sort_values(by='Shares', ascending=False)"
   ]
  },
  {
   "cell_type": "code",
   "execution_count": null,
   "id": "b73d9ea5-cfb2-4894-816f-12ae8d06d81e",
   "metadata": {},
   "outputs": [],
   "source": []
  },
  {
   "cell_type": "markdown",
   "id": "8192fd69-0e44-49cb-8843-776cb5c9cc5a",
   "metadata": {},
   "source": [
    "### 2. ta (Technical Analysis)\n",
    "\n",
    "It is a Python package that provides various technical analysis indicators, that can be used to find probability of trend\n",
    "\n",
    "1: Github: https://github.com/bukosabino/ta"
   ]
  },
  {
   "cell_type": "code",
   "execution_count": null,
   "id": "a353b06f-40f9-4aed-bfdc-3198bc9b240c",
   "metadata": {},
   "outputs": [],
   "source": []
  }
 ],
 "metadata": {
  "kernelspec": {
   "display_name": "Python 3 (ipykernel)",
   "language": "python",
   "name": "python3"
  },
  "language_info": {
   "codemirror_mode": {
    "name": "ipython",
    "version": 3
   },
   "file_extension": ".py",
   "mimetype": "text/x-python",
   "name": "python",
   "nbconvert_exporter": "python",
   "pygments_lexer": "ipython3",
   "version": "3.11.5"
  }
 },
 "nbformat": 4,
 "nbformat_minor": 5
}
